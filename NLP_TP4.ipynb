{
 "cells": [
  {
   "cell_type": "markdown",
   "metadata": {
    "colab_type": "text",
    "id": "view-in-github"
   },
   "source": [
    "<a href=\"https://colab.research.google.com/github/TheNizzo/SentimentAnalysis/blob/main/NLP_TP4.ipynb\" target=\"_parent\"><img src=\"https://colab.research.google.com/assets/colab-badge.svg\" alt=\"Open In Colab\"/></a>"
   ]
  },
  {
   "cell_type": "markdown",
   "metadata": {
    "id": "1NBvxv1_oMJS"
   },
   "source": [
    "# Imports"
   ]
  },
  {
   "cell_type": "code",
   "execution_count": null,
   "metadata": {
    "id": "fe-P8vI8q01J"
   },
   "outputs": [],
   "source": [
    "import numpy as np\n",
    "import random as rdn\n",
    "import re"
   ]
  },
  {
   "cell_type": "code",
   "execution_count": null,
   "metadata": {
    "id": "eYbI5WdMrCuI"
   },
   "outputs": [],
   "source": [
    "!pip install datasets\n",
    "from datasets import load_dataset\n",
    "dataset_train = load_dataset('imdb', split='train')\n",
    "dataset_test = load_dataset('imdb', split='test')"
   ]
  },
  {
   "cell_type": "code",
   "execution_count": null,
   "metadata": {
    "colab": {
     "base_uri": "https://localhost:8080/"
    },
    "id": "b49RrBNKrFrC",
    "outputId": "21eb361b-a8f2-47e4-ee26-119c5edcc153"
   },
   "outputs": [
    {
     "data": {
      "text/plain": [
       "(25000, 25000)"
      ]
     },
     "execution_count": 3,
     "metadata": {},
     "output_type": "execute_result"
    }
   ],
   "source": [
    "x_train, y_train, x_test, y_test = dataset_train[:]['text'], dataset_train[:]['label'], dataset_test[:]['text'], dataset_test[:]['label']\n",
    "len(x_train), len(x_test)"
   ]
  },
  {
   "cell_type": "code",
   "execution_count": null,
   "metadata": {
    "colab": {
     "base_uri": "https://localhost:8080/"
    },
    "id": "5tQv5TpCg4tq",
    "outputId": "76d483fc-e74a-4431-8f21-83b6a9bba61e"
   },
   "outputs": [
    {
     "data": {
      "text/plain": [
       "True"
      ]
     },
     "execution_count": 4,
     "metadata": {},
     "output_type": "execute_result"
    }
   ],
   "source": [
    "0 in y_train"
   ]
  },
  {
   "cell_type": "markdown",
   "metadata": {
    "id": "PgA5X9RFnA77"
   },
   "source": [
    "#pretreatment"
   ]
  },
  {
   "cell_type": "markdown",
   "metadata": {
    "id": "vMpWZvMZoC3y"
   },
   "source": [
    "* Take out html"
   ]
  },
  {
   "cell_type": "code",
   "execution_count": null,
   "metadata": {
    "id": "JzAfWJMJnZAU"
   },
   "outputs": [],
   "source": [
    "TAG_RE = re.compile(r'<[^>]+>')\n",
    "def remove_tags(text):\n",
    "    return TAG_RE.sub('', text)"
   ]
  },
  {
   "cell_type": "code",
   "execution_count": null,
   "metadata": {
    "id": "Z9aYYC-qlaGZ"
   },
   "outputs": [],
   "source": [
    "x_train_pretreated = [remove_tags(el) for el in x_train]\n",
    "x_test_pretreated = [remove_tags(el) for el in x_test]"
   ]
  },
  {
   "cell_type": "markdown",
   "metadata": {
    "id": "A6plLJJDoFsr"
   },
   "source": [
    "# Training"
   ]
  },
  {
   "cell_type": "markdown",
   "metadata": {
    "id": "PGUcS1cvYXIq"
   },
   "source": [
    "#### Imports for fasttext"
   ]
  },
  {
   "cell_type": "code",
   "execution_count": null,
   "metadata": {
    "id": "ea7qVv68soTm"
   },
   "outputs": [],
   "source": [
    "!wget https://github.com/facebookresearch/fastText/archive/v0.9.2.zip\n",
    "!unzip v0.9.2.zip\n",
    "%cd fastText-0.9.2\n",
    "!make\n",
    "!pip install ."
   ]
  },
  {
   "cell_type": "code",
   "execution_count": null,
   "metadata": {
    "id": "pHgJGtwYdIlA"
   },
   "outputs": [],
   "source": [
    "import fasttext"
   ]
  },
  {
   "cell_type": "markdown",
   "metadata": {
    "id": "XLB4G7mFYacS"
   },
   "source": [
    "#### Useful functions"
   ]
  },
  {
   "cell_type": "code",
   "execution_count": null,
   "metadata": {
    "id": "-A9JesnrSzsf"
   },
   "outputs": [],
   "source": [
    "def write_list_to_file(filename, list_to_write):\n",
    "  textfile = open(filename, \"w\")\n",
    "  for element in list_to_write:\n",
    "      textfile.write(element + \"\\n\")\n",
    "  textfile.close()"
   ]
  },
  {
   "cell_type": "code",
   "execution_count": null,
   "metadata": {
    "id": "0bpAB-SzpYKb"
   },
   "outputs": [],
   "source": [
    "def fasttext_conversion(list_y, list_x):\n",
    "  return [\"__label__\" + str(y) + \" \" + x for y, x in zip(list_y, list_x)]"
   ]
  },
  {
   "cell_type": "code",
   "execution_count": null,
   "metadata": {
    "id": "yeyN_ZHrYgQ2"
   },
   "outputs": [],
   "source": [
    "def predict_many(x, y, n, predict_model, verbose=False):\n",
    "  for i in range(n):\n",
    "    r = rdn.randint(0,25000)\n",
    "    print(\"index = \", r)\n",
    "    print(predict_model.predict(x[r], k=2), \"| Actual value :\", y[r])\n",
    "    if verbose :\n",
    "      print(x[r])"
   ]
  },
  {
   "cell_type": "markdown",
   "metadata": {
    "id": "uiIj8d-kYkGe"
   },
   "source": [
    "####Training the model"
   ]
  },
  {
   "cell_type": "markdown",
   "metadata": {
    "id": "XFETjA1MowWb"
   },
   "source": [
    "* No pretreament"
   ]
  },
  {
   "cell_type": "code",
   "execution_count": null,
   "metadata": {
    "id": "fhFIJ2SqPGnk"
   },
   "outputs": [],
   "source": [
    "train = fasttext_conversion(y_train,x_train)\n",
    "test = fasttext_conversion(y_test,x_test)"
   ]
  },
  {
   "cell_type": "code",
   "execution_count": null,
   "metadata": {
    "id": "XgCIgxe8h-2A"
   },
   "outputs": [],
   "source": [
    "rdn.shuffle(train)\n",
    "rdn.shuffle(test)"
   ]
  },
  {
   "cell_type": "code",
   "execution_count": null,
   "metadata": {
    "id": "BvyjNUoZoVdr"
   },
   "outputs": [],
   "source": [
    "write_list_to_file(\"train_file.txt\", train)\n",
    "write_list_to_file(\"test_file.txt\", test)"
   ]
  },
  {
   "cell_type": "code",
   "execution_count": null,
   "metadata": {
    "id": "jp7F00J8fBrp"
   },
   "outputs": [],
   "source": [
    "model = fasttext.train_supervised(input=\"train_file.txt\")"
   ]
  },
  {
   "cell_type": "code",
   "execution_count": null,
   "metadata": {
    "colab": {
     "base_uri": "https://localhost:8080/"
    },
    "id": "1RxZeeOdbfBW",
    "outputId": "0195d695-39f9-4476-de6e-a621ac243b5a"
   },
   "outputs": [
    {
     "name": "stdout",
     "output_type": "stream",
     "text": [
      "index =  13933\n",
      "(('__label__1', '__label__0'), array([0.61151266, 0.38850731])) | Actual value : 0\n",
      "index =  24747\n",
      "(('__label__0', '__label__1'), array([0.96496081, 0.03505915])) | Actual value : 0\n",
      "index =  15686\n",
      "(('__label__0', '__label__1'), array([0.59305513, 0.40696487])) | Actual value : 0\n",
      "index =  22678\n",
      "(('__label__0', '__label__1'), array([0.99047309, 0.009547  ])) | Actual value : 0\n",
      "index =  20982\n",
      "(('__label__0', '__label__1'), array([0.98612803, 0.01389197])) | Actual value : 0\n",
      "index =  10229\n",
      "(('__label__1', '__label__0'), array([0.96103013, 0.03898985])) | Actual value : 1\n",
      "index =  892\n",
      "(('__label__1', '__label__0'), array([0.8474921 , 0.15252799])) | Actual value : 1\n",
      "index =  2651\n",
      "(('__label__1', '__label__0'), array([0.84704566, 0.15297435])) | Actual value : 1\n",
      "index =  15657\n",
      "(('__label__0', '__label__1'), array([0.98187125, 0.01814872])) | Actual value : 0\n",
      "index =  935\n",
      "(('__label__1', '__label__0'), array([0.98811942, 0.01190059])) | Actual value : 1\n"
     ]
    }
   ],
   "source": [
    "predict_many(x_test, y_test, 10, model)"
   ]
  },
  {
   "cell_type": "code",
   "execution_count": null,
   "metadata": {
    "colab": {
     "base_uri": "https://localhost:8080/"
    },
    "id": "lmGuuQkkhjjY",
    "outputId": "ab072a84-e31f-48ec-949b-d6784f118f0a"
   },
   "outputs": [
    {
     "data": {
      "text/plain": [
       "(25000, 0.86008, 0.86008)"
      ]
     },
     "execution_count": 17,
     "metadata": {},
     "output_type": "execute_result"
    }
   ],
   "source": [
    "model.test(\"test_file.txt\")"
   ]
  },
  {
   "cell_type": "markdown",
   "metadata": {
    "id": "VLGN7s_9uLt4"
   },
   "source": [
    "* With pretreatment"
   ]
  },
  {
   "cell_type": "code",
   "execution_count": null,
   "metadata": {
    "id": "OtkAYpNauQnQ"
   },
   "outputs": [],
   "source": [
    "train_pretreated = fasttext_conversion(y_train, x_train_pretreated)\n",
    "test_pretreated = fasttext_conversion(y_test, x_test_pretreated)"
   ]
  },
  {
   "cell_type": "code",
   "execution_count": null,
   "metadata": {
    "id": "O4gROoLYuYWg"
   },
   "outputs": [],
   "source": [
    "rdn.shuffle(train_pretreated)\n",
    "rdn.shuffle(test_pretreated)"
   ]
  },
  {
   "cell_type": "code",
   "execution_count": null,
   "metadata": {
    "id": "fBxgZLtduY78"
   },
   "outputs": [],
   "source": [
    "write_list_to_file(\"train_file_pretreated.txt\", train_pretreated)\n",
    "write_list_to_file(\"test_file_pretreated.txt\", test_pretreated)"
   ]
  },
  {
   "cell_type": "code",
   "execution_count": null,
   "metadata": {
    "id": "Eikjn2lxuZHd"
   },
   "outputs": [],
   "source": [
    "model_pretreated = fasttext.train_supervised(input=\"train_file_pretreated.txt\")"
   ]
  },
  {
   "cell_type": "code",
   "execution_count": null,
   "metadata": {
    "colab": {
     "base_uri": "https://localhost:8080/"
    },
    "id": "u7vuT_9sbeHc",
    "outputId": "b1f8a4af-1a51-43b9-fb1a-108e03d74a23"
   },
   "outputs": [
    {
     "name": "stdout",
     "output_type": "stream",
     "text": [
      "index =  23463\n",
      "(('__label__0', '__label__1'), array([0.98051059, 0.01950945])) | Actual value : 0\n",
      "index =  6210\n",
      "(('__label__1', '__label__0'), array([0.80758584, 0.19243421])) | Actual value : 1\n",
      "index =  16572\n",
      "(('__label__1', '__label__0'), array([0.85114574, 0.14887434])) | Actual value : 0\n",
      "index =  21852\n",
      "(('__label__0', '__label__1'), array([0.98906994, 0.0109501 ])) | Actual value : 0\n",
      "index =  19645\n",
      "(('__label__0', '__label__1'), array([0.86793214, 0.1320878 ])) | Actual value : 0\n",
      "index =  16845\n",
      "(('__label__0', '__label__1'), array([0.78714079, 0.2128792 ])) | Actual value : 0\n",
      "index =  8460\n",
      "(('__label__0', '__label__1'), array([0.73722184, 0.26279819])) | Actual value : 1\n",
      "index =  12536\n",
      "(('__label__0', '__label__1'), array([0.89859325, 0.10142671])) | Actual value : 0\n",
      "index =  12764\n",
      "(('__label__1', '__label__0'), array([0.8694216 , 0.13059846])) | Actual value : 0\n",
      "index =  4170\n",
      "(('__label__1', '__label__0'), array([0.99593413, 0.00408593])) | Actual value : 1\n"
     ]
    }
   ],
   "source": [
    "predict_many(x_test_pretreated, y_test, 10, model_pretreated)"
   ]
  },
  {
   "cell_type": "code",
   "execution_count": null,
   "metadata": {
    "colab": {
     "base_uri": "https://localhost:8080/"
    },
    "id": "VBO0lqZFuzld",
    "outputId": "e3a70f8a-bd40-4c6d-ceca-d69148dbfbba"
   },
   "outputs": [
    {
     "data": {
      "text/plain": [
       "(25000, 0.86044, 0.86044)"
      ]
     },
     "execution_count": 23,
     "metadata": {},
     "output_type": "execute_result"
    }
   ],
   "source": [
    "model_pretreated.test(\"test_file_pretreated.txt\")"
   ]
  },
  {
   "cell_type": "markdown",
   "metadata": {
    "id": "3hAiavlevibq"
   },
   "source": [
    "* Let's add some different parameters"
   ]
  },
  {
   "cell_type": "code",
   "execution_count": null,
   "metadata": {
    "id": "BFZ-0miNgLd4"
   },
   "outputs": [],
   "source": [
    "!cat train_file_pretreated.txt | sed -e \"s/\\([.\\!?,'/()]\\)/ \\1 /g\" | tr \"[:upper:]\" \"[:lower:]\" > train_file_preprocessed.txt\n",
    "!cat test_file_pretreated.txt | sed -e \"s/\\([.\\!?,'/()]\\)/ \\1 /g\" | tr \"[:upper:]\" \"[:lower:]\" > test_file_preprocessed.txt"
   ]
  },
  {
   "cell_type": "markdown",
   "metadata": {
    "id": "6wlz7hHBXEbg"
   },
   "source": [
    "  **Let's use N-grams**"
   ]
  },
  {
   "cell_type": "code",
   "execution_count": null,
   "metadata": {
    "id": "XDY-tNMPW3-F"
   },
   "outputs": [],
   "source": [
    "paramed_model = fasttext.train_supervised(input=\"train_file_preprocessed.txt\", wordNgrams=2)"
   ]
  },
  {
   "cell_type": "code",
   "execution_count": null,
   "metadata": {
    "colab": {
     "base_uri": "https://localhost:8080/"
    },
    "id": "W5qtu_p_W8ch",
    "outputId": "01bd5e30-4522-447e-d095-8cbafa55e346"
   },
   "outputs": [
    {
     "data": {
      "text/plain": [
       "(25000, 0.85128, 0.85128)"
      ]
     },
     "execution_count": 28,
     "metadata": {},
     "output_type": "execute_result"
    }
   ],
   "source": [
    "paramed_model.test(\"test_file_preprocessed.txt\")"
   ]
  },
  {
   "cell_type": "markdown",
   "metadata": {
    "id": "migvgUPWW_-B"
   },
   "source": [
    "**Let's add a different learning rate and epoch**"
   ]
  },
  {
   "cell_type": "code",
   "execution_count": null,
   "metadata": {
    "id": "m8d-t31x578e"
   },
   "outputs": [],
   "source": [
    "paramed_model = fasttext.train_supervised(input=\"train_file_preprocessed.txt\", lr=0.4, epoch=26)"
   ]
  },
  {
   "cell_type": "code",
   "execution_count": null,
   "metadata": {
    "colab": {
     "base_uri": "https://localhost:8080/"
    },
    "id": "XgiduQ1oW1mO",
    "outputId": "bf970109-0791-45c8-b7d1-ba04e11076f4"
   },
   "outputs": [
    {
     "data": {
      "text/plain": [
       "(25000, 0.86996, 0.86996)"
      ]
     },
     "execution_count": 26,
     "metadata": {},
     "output_type": "execute_result"
    }
   ],
   "source": [
    "paramed_model.test(\"test_file_preprocessed.txt\")"
   ]
  },
  {
   "cell_type": "markdown",
   "metadata": {
    "id": "QKdN9HPXXEm6"
   },
   "source": [
    "**Let's combine the two and with a bigger learning rate**"
   ]
  },
  {
   "cell_type": "code",
   "execution_count": null,
   "metadata": {
    "id": "I3Gqt4yXWyqu"
   },
   "outputs": [],
   "source": [
    "paramed_model = fasttext.train_supervised(input=\"train_file_preprocessed.txt\", lr=1.0, epoch=26, wordNgrams=3,loss=\"softmax\")"
   ]
  },
  {
   "cell_type": "code",
   "execution_count": null,
   "metadata": {
    "colab": {
     "base_uri": "https://localhost:8080/"
    },
    "id": "tL2qhGUv-Pff",
    "outputId": "070bb65c-75a8-4bf9-a1b2-29772e7ea29b"
   },
   "outputs": [
    {
     "data": {
      "text/plain": [
       "(25000, 0.89804, 0.89804)"
      ]
     },
     "execution_count": 36,
     "metadata": {},
     "output_type": "execute_result"
    }
   ],
   "source": [
    "paramed_model.test(\"test_file_preprocessed.txt\")"
   ]
  },
  {
   "cell_type": "markdown",
   "metadata": {
    "id": "YfJsh4CXfnjv"
   },
   "source": [
    "#### Automatic hyperparameter optimization"
   ]
  },
  {
   "cell_type": "code",
   "execution_count": null,
   "metadata": {
    "id": "fDgCOEf7fgnp"
   },
   "outputs": [],
   "source": [
    "!head -n 22000 train_file_preprocessed.txt > train_file.txt\n",
    "!tail -n 3000 train_file_preprocessed.txt > valid_file.txt"
   ]
  },
  {
   "cell_type": "code",
   "execution_count": null,
   "metadata": {
    "id": "oO0Jkmn9gfAW"
   },
   "outputs": [],
   "source": [
    "automated_model = fasttext.train_supervised(input=\"train_file.txt\", autotuneValidationFile=\"valid_file.txt\", autotuneDuration=300, autotuneMetric=\"f1:__label__0\")"
   ]
  },
  {
   "cell_type": "code",
   "execution_count": null,
   "metadata": {
    "colab": {
     "base_uri": "https://localhost:8080/"
    },
    "id": "xypGjnqrg5t-",
    "outputId": "4295f23d-4700-4f13-efad-446bebbbd9e5"
   },
   "outputs": [
    {
     "data": {
      "text/plain": [
       "(3000, 0.8826666666666667, 0.8826666666666667)"
      ]
     },
     "execution_count": 40,
     "metadata": {},
     "output_type": "execute_result"
    }
   ],
   "source": [
    "automated_model.test(\"valid_file.txt\")"
   ]
  }
 ],
 "metadata": {
  "colab": {
   "authorship_tag": "ABX9TyMTBN/O7YrTyquZIMgDMo4Y",
   "collapsed_sections": [
    "1NBvxv1_oMJS"
   ],
   "include_colab_link": true,
   "name": "NLP_TP4.ipynb",
   "provenance": []
  },
  "kernelspec": {
   "display_name": "Python 3 (ipykernel)",
   "language": "python",
   "name": "python3"
  },
  "language_info": {
   "codemirror_mode": {
    "name": "ipython",
    "version": 3
   },
   "file_extension": ".py",
   "mimetype": "text/x-python",
   "name": "python",
   "nbconvert_exporter": "python",
   "pygments_lexer": "ipython3",
   "version": "3.8.10"
  }
 },
 "nbformat": 4,
 "nbformat_minor": 1
}
