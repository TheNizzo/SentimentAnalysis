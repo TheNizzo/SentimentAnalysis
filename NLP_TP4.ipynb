{
  "nbformat": 4,
  "nbformat_minor": 0,
  "metadata": {
    "colab": {
      "name": "NLP_TP4.ipynb",
      "provenance": [],
      "collapsed_sections": [],
      "authorship_tag": "ABX9TyNCuJojurnXEDWtSIngea59",
      "include_colab_link": true
    },
    "kernelspec": {
      "display_name": "Python 3",
      "name": "python3"
    },
    "language_info": {
      "name": "python"
    }
  },
  "cells": [
    {
      "cell_type": "markdown",
      "metadata": {
        "id": "view-in-github",
        "colab_type": "text"
      },
      "source": [
        "<a href=\"https://colab.research.google.com/github/TheNizzo/SentimentAnalysis/blob/main/NLP_TP4.ipynb\" target=\"_parent\"><img src=\"https://colab.research.google.com/assets/colab-badge.svg\" alt=\"Open In Colab\"/></a>"
      ]
    },
    {
      "cell_type": "markdown",
      "metadata": {
        "id": "1NBvxv1_oMJS"
      },
      "source": [
        "# Imports"
      ]
    },
    {
      "cell_type": "code",
      "metadata": {
        "id": "fe-P8vI8q01J"
      },
      "source": [
        "import numpy as np\n",
        "import random as rdn\n",
        "import re"
      ],
      "execution_count": 1,
      "outputs": []
    },
    {
      "cell_type": "code",
      "metadata": {
        "id": "eYbI5WdMrCuI"
      },
      "source": [
        "!pip install datasets\n",
        "from datasets import load_dataset\n",
        "dataset_train = load_dataset('imdb', split='train')\n",
        "dataset_test = load_dataset('imdb', split='test')"
      ],
      "execution_count": null,
      "outputs": []
    },
    {
      "cell_type": "code",
      "metadata": {
        "colab": {
          "base_uri": "https://localhost:8080/"
        },
        "id": "b49RrBNKrFrC",
        "outputId": "600ed9e8-1c41-4b5b-9221-f484abd1da16"
      },
      "source": [
        "x_train, y_train, x_test, y_test = dataset_train[:]['text'], dataset_train[:]['label'], dataset_test[:]['text'], dataset_test[:]['label']\n",
        "len(x_train), len(x_test)"
      ],
      "execution_count": 31,
      "outputs": [
        {
          "output_type": "execute_result",
          "data": {
            "text/plain": [
              "(25000, 25000)"
            ]
          },
          "metadata": {},
          "execution_count": 31
        }
      ]
    },
    {
      "cell_type": "markdown",
      "metadata": {
        "id": "PgA5X9RFnA77"
      },
      "source": [
        "#pretreatment"
      ]
    },
    {
      "cell_type": "markdown",
      "metadata": {
        "id": "vMpWZvMZoC3y"
      },
      "source": [
        "* Take out html"
      ]
    },
    {
      "cell_type": "code",
      "metadata": {
        "id": "JzAfWJMJnZAU"
      },
      "source": [
        "TAG_RE = re.compile(r'<[^>]+>')\n",
        "def remove_tags(text):\n",
        "    return TAG_RE.sub('', text)"
      ],
      "execution_count": 4,
      "outputs": []
    },
    {
      "cell_type": "code",
      "metadata": {
        "id": "Z9aYYC-qlaGZ"
      },
      "source": [
        "x_train_pretreated = [remove_tags(el) for el in x_train]\n",
        "x_test_pretreated = [remove_tags(el) for el in x_test]"
      ],
      "execution_count": 5,
      "outputs": []
    },
    {
      "cell_type": "markdown",
      "metadata": {
        "id": "A6plLJJDoFsr"
      },
      "source": [
        "# Training"
      ]
    },
    {
      "cell_type": "code",
      "metadata": {
        "id": "ea7qVv68soTm"
      },
      "source": [
        "!wget https://github.com/facebookresearch/fastText/archive/v0.9.2.zip\n",
        "!unzip v0.9.2.zip\n",
        "%cd fastText-0.9.2\n",
        "!make\n",
        "!pip install ."
      ],
      "execution_count": null,
      "outputs": []
    },
    {
      "cell_type": "code",
      "metadata": {
        "id": "pHgJGtwYdIlA"
      },
      "source": [
        "import fasttext"
      ],
      "execution_count": 7,
      "outputs": []
    },
    {
      "cell_type": "code",
      "metadata": {
        "id": "-A9JesnrSzsf"
      },
      "source": [
        "def write_list_to_file(filename, list_to_write):\n",
        "  textfile = open(filename, \"w\")\n",
        "  for element in list_to_write:\n",
        "      textfile.write(element + \"\\n\")\n",
        "  textfile.close()"
      ],
      "execution_count": 8,
      "outputs": []
    },
    {
      "cell_type": "code",
      "metadata": {
        "id": "0bpAB-SzpYKb"
      },
      "source": [
        "def fasttext_conversion(list_y, list_x):\n",
        "  return [\"__label__\" + str(y) + \" \" + x for y, x in zip(list_y, list_x)]"
      ],
      "execution_count": 9,
      "outputs": []
    },
    {
      "cell_type": "code",
      "metadata": {
        "id": "o8vcj5YYcGbc"
      },
      "source": [
        "def predict_many(x, y, n, predict_model, verbose=False):\n",
        "  for i in range(n):\n",
        "    r = rdn.randint(0,2500)\n",
        "    print(r)\n",
        "    print(predict_model.predict(x[r]), \"| Actual value :\", y[r])\n",
        "    if verbose :\n",
        "      print(x[r])"
      ],
      "execution_count": 41,
      "outputs": []
    },
    {
      "cell_type": "markdown",
      "metadata": {
        "id": "XFETjA1MowWb"
      },
      "source": [
        "* No pretreament"
      ]
    },
    {
      "cell_type": "code",
      "metadata": {
        "id": "fhFIJ2SqPGnk"
      },
      "source": [
        "train = fasttext_conversion(y_train,x_train)\n",
        "test = fasttext_conversion(y_test,x_test)"
      ],
      "execution_count": 10,
      "outputs": []
    },
    {
      "cell_type": "code",
      "metadata": {
        "id": "XgCIgxe8h-2A"
      },
      "source": [
        "rdn.shuffle(train)\n",
        "rdn.shuffle(test)"
      ],
      "execution_count": 11,
      "outputs": []
    },
    {
      "cell_type": "code",
      "metadata": {
        "id": "BvyjNUoZoVdr"
      },
      "source": [
        "write_list_to_file(\"train_file.txt\", train)\n",
        "write_list_to_file(\"test_file.txt\", test)"
      ],
      "execution_count": 12,
      "outputs": []
    },
    {
      "cell_type": "code",
      "metadata": {
        "id": "jp7F00J8fBrp"
      },
      "source": [
        "model = fasttext.train_supervised(input=\"train_file.txt\")"
      ],
      "execution_count": 13,
      "outputs": []
    },
    {
      "cell_type": "code",
      "metadata": {
        "colab": {
          "base_uri": "https://localhost:8080/"
        },
        "id": "1RxZeeOdbfBW",
        "outputId": "be75cebe-947d-42ec-80e1-6a94e979d0c3"
      },
      "source": [
        "predict_many(x_test, y_test, 10, model)"
      ],
      "execution_count": 42,
      "outputs": [
        {
          "output_type": "stream",
          "name": "stdout",
          "text": [
            "673\n",
            "(('__label__1',), array([0.67291683])) | Actual value : 1\n",
            "1261\n",
            "(('__label__1',), array([0.88899648])) | Actual value : 1\n",
            "118\n",
            "(('__label__0',), array([0.61611301])) | Actual value : 1\n",
            "2261\n",
            "(('__label__1',), array([0.94691557])) | Actual value : 1\n",
            "2062\n",
            "(('__label__1',), array([0.75161248])) | Actual value : 1\n",
            "261\n",
            "(('__label__1',), array([0.96387273])) | Actual value : 1\n",
            "1546\n",
            "(('__label__1',), array([0.79814684])) | Actual value : 1\n",
            "1515\n",
            "(('__label__1',), array([0.63852215])) | Actual value : 1\n",
            "279\n",
            "(('__label__1',), array([0.98535413])) | Actual value : 1\n",
            "140\n",
            "(('__label__1',), array([0.97815526])) | Actual value : 1\n"
          ]
        }
      ]
    },
    {
      "cell_type": "code",
      "metadata": {
        "id": "lmGuuQkkhjjY",
        "colab": {
          "base_uri": "https://localhost:8080/"
        },
        "outputId": "2a1d3796-842f-418e-e600-ad608e420b62"
      },
      "source": [
        "model.test(\"test_file.txt\")"
      ],
      "execution_count": 14,
      "outputs": [
        {
          "output_type": "execute_result",
          "data": {
            "text/plain": [
              "(25000, 0.85972, 0.85972)"
            ]
          },
          "metadata": {},
          "execution_count": 14
        }
      ]
    },
    {
      "cell_type": "markdown",
      "metadata": {
        "id": "VLGN7s_9uLt4"
      },
      "source": [
        "* With pretreatment"
      ]
    },
    {
      "cell_type": "code",
      "metadata": {
        "id": "OtkAYpNauQnQ"
      },
      "source": [
        "train_pretreated = fasttext_conversion(y_train, x_train_pretreated)\n",
        "test_pretreated = fasttext_conversion(y_test, x_test_pretreated)"
      ],
      "execution_count": 15,
      "outputs": []
    },
    {
      "cell_type": "code",
      "metadata": {
        "id": "O4gROoLYuYWg"
      },
      "source": [
        "rdn.shuffle(train_pretreated)\n",
        "rdn.shuffle(test_pretreated)"
      ],
      "execution_count": 16,
      "outputs": []
    },
    {
      "cell_type": "code",
      "metadata": {
        "id": "fBxgZLtduY78"
      },
      "source": [
        "write_list_to_file(\"train_file_pretreated.txt\", train_pretreated)\n",
        "write_list_to_file(\"test_file_pretreated.txt\", test_pretreated)"
      ],
      "execution_count": 17,
      "outputs": []
    },
    {
      "cell_type": "code",
      "metadata": {
        "id": "Eikjn2lxuZHd"
      },
      "source": [
        "model_pretreated = fasttext.train_supervised(input=\"train_file_pretreated.txt\")"
      ],
      "execution_count": 39,
      "outputs": []
    },
    {
      "cell_type": "code",
      "metadata": {
        "colab": {
          "base_uri": "https://localhost:8080/"
        },
        "id": "u7vuT_9sbeHc",
        "outputId": "7bbf7809-51b6-4021-bb31-69a69ff347f8"
      },
      "source": [
        "predict_many(x_test_pretreated, y_test, 10, model_pretreated, True)"
      ],
      "execution_count": 46,
      "outputs": [
        {
          "output_type": "stream",
          "name": "stdout",
          "text": [
            "1099\n",
            "(('__label__1',), array([0.99795216])) | Actual value : 1\n",
            "Being from the Buffalo area I was well aware of the movie having read many articles in local publications. I was most impressed with the movie, especially its clever plot, the acting and the local scenes. Nice to see so many older, quality stars in the various roles. I feel that especially those of us over 50 will find the movie excellent and you can leave the theater feeling that your time was well spent.\n",
            "1558\n",
            "(('__label__1',), array([0.85770649])) | Actual value : 1\n",
            "Boogie Nights is perhaps one of the greatest examples any would-be filmmaker should take a long hard look at. Sure, you could spend loads of quality time reviewing the clasics from Hitchcock to Scorsese; but lets follow suit for the modern generation and study half-heartedly.Where to begin, I suppose one could look at the film as simply a story, perhaps even docudrama which focuses on the late 1970's porn industry-and what an industry it was! The other half could focus on the incredible detail one brillant filmmaker can achieve simply by using polyester and *ahem* rubber. But honestly, Boogie Nights brings back the pure, no-bul!shi$, in your face kind of cinema I haven't experienced since the film greats of the 1970's...ironic...or stroke of genius. The story is full of richly detailed characters, all of which you either can relate too, love, or hate; but the impact is clear-you are feeling something for them. Among the characters the two performances which stand out are: Burt Reynolds as Director Jack Horner, and Mark Wahlberg as Eddie Adams/Dirk Diggler. Julianne Moore is also brillant, as is Heather Graham...but if I focus on any one actor it would have to be John C. Reilly. John's performance is a perfect balance of comedic timing and character driven emotion...I'm a sucker for the line \"Ever see the movie Star Wars?...People say I look like Han Solo.\" Anyway, the look of the film is incredible, the Director of Photography and Director/Writer/Producer, have come up with a vibrant colour, and flashy style that compares to Martin Scorsese, and Stanley Kubrick(in terms of his perfection of his craft); but with creating his own unique look, and pushing the edge with the longest single shot I'ver ever seen...that being the New Year's party sequence.The music, like in any great film, is a character of its own. At times, it consumes oneself with sorrow or grief...but mainly its all about fun, dancing, and having a good time; the spirit of the 1970's. OK, back to the performances.Burt Reynolds plays the character of Jack Horner, a porn director who feels the burden of what the future of \"film\" means to his genre. The awful transition from shooting on film to recording on magnetic tape. The lose of his art, as it were...and the changes in mentality to the people he works with. Walhberg adds the perfect blend of innocense and sexual bravado needed for the character. For all those individuals who have seen Burton's Planet of the Apes, pay no attention to the performance of Wahlberg in that film...rent boogie nights and see what a difference a good script can make!Julianne Moore plays the would-be mother to all, and with that comes the torment and anguish she feels, as life imitates art; and she loses all those close to her. Heather Graham is the eye-candy, but later holds her own, and steals some of the scenes from even the great Mr. Reynolds himself. Each character is multidimensional, rich with life, and performed by actors that seem to be picture perfect for the part.The film itself is often funny, tragic, exciting, and provides a uncompromising look into the turblulant lifestyle of the fast-pace 1970's. It makes no excuses, and tells no lies; and offers the audience a trip back. But even more importantly, the movie gives us a grand example of how films should be made; and a new director whose bold visions bring back art in film.\n",
            "2007\n",
            "(('__label__0',), array([0.77165908])) | Actual value : 1\n",
            "There was nothing else on tv yesterday afternoon, so I thought \"okay, let's watch this.\" I didn't know the plot and I had no expectation whatsoever, I was thinking in a few minutes or so I will channel surf again. But then story started to unfold, and the characters played beautifully by the two boys. The story did have unrealistic parts and scenes, but overall it was a real good movie. Very well worth watching.\n",
            "490\n",
            "(('__label__1',), array([0.97865039])) | Actual value : 1\n",
            "I really like this movie. I like it not just because it's a great early 80s movie with a GREAT soundtrack but I found that it has some thought-provoking moments. They are just moments; not the entire film. It's definitely not like \"Less than Zero\".The scenes deal with typical peer pressure and also with more difficult problems, like the betrayal of trust. These problems are not easily resolved or forgotten by the characters. Certain scenes will stand out and invite reflection on one's own teenage experiences and how those experiences may have affected one's character and outlook as an adult.You can watch this movie and think about the problems young adults must face, and about your own experiences. Or you can just pay attention to the boys' quest to de-virginize themselves! :) Either way it's a good movie.\n",
            "1624\n",
            "(('__label__1',), array([0.52231449])) | Actual value : 1\n",
            "any movie that has a line of dialogue that goes something like this....\"Judy's getting ready for her date, Butthole!\" has to be good! I found this on DVD unrated, unedited and was pleasantly surprised, a lot of hard work was put into making this movie. I actually enjoyed this more that a lot of 80s movies I have seen. Great addition to my movie collection.The buildup was great, sets up the scares for the rest of the movie. Loved the GORE and the T&A. I never thought eyeballs being gouged out would look like popping boils, the color of the eye splatter was gross! I keep thinking that \"Rog\" looked like Tiger Woods but more black, anyone agree?\n",
            "500\n",
            "(('__label__1',), array([0.94718254])) | Actual value : 1\n",
            "I have always liked this film and I'm glad it's available finally on DVD so more viewers can see what I have been telling them all these years. Story is about a high school virgin named Gary (Lawrence Monoson) who works at a pizza place as a delivery boy and he hangs out with his friends David (Joe Rubbo) and Rick (Steve Antin). Gary notices Karen (Diane Franklin) who is the new girl in school and one morning he gives her a ride and by this time he is totally in love. That night at a party he see's Rick with Karen and now he is jealous of his best friend but doesn't tell anyone of his true feelings.*****SPOILER ALERT*****Rick asks Gary if he can borrow his Grandmothers vacant home but Gary makes up an excuse so that Rick can't get Karen alone. But one night Rick brags to Gary that he nailed her at the football field and Gary becomes enraged. A few days later in the school library Gary see's Rick and Karen arguing and he asks Karen what is wrong. She tells him that she's pregnant and that Rick has dumped her. Gary helps her by taking her to his Grandmothers home and paying for her abortion. Finally, Gary tells Karen how he really feels about her and she seems receptive to his feelings but later at her birthday party he walks in on Karen and Rick together again. Gary drives off without the girl! This film ends with a much more realistic version of how life really is. No matter how nice you are you don't necessarily get the girl.This film was directed by Boaz Davidson who would go on to be a pretty competent action film director and he did two things right with this movie. First, he made sure that there was plenty of gratuitous nudity so that this was marketable to the young males that usually go to these films. Secondly, he had the film end with young Gary without Karen and I think the males in the audience can relate to being screwed over no matter how hard you try and win a girls heart. Yes, this film is silly and exploitive but it is funny and sexy. Actress Louisa Moritz almost steals the film as the sexy Carmela. Moritz was always a popular \"B\" level actress and you might remember her in \"One Flew Over The Cuckoo's Nest\". Like \"Fast Times at Ridgemont High\" this has a very good soundtrack and the songs being played reflect what is going on in the story. But at the heart of this film is two very good performances by Monoson and Franklin. There is nudity required by Franklin but she still conveys the sorrow of a young girl who gets dumped at a crucial time. She's always been a good actress and her natural charm is very evident in this film. But this is still Monoson's story and you can't help but feel for this guy. When the film ends it's his performance that stays with you. It's a solid job of acting that makes this more than just a teen sex comedy. Even with the silly scenarios of teens trying to have sex this film still manages to achieve what it wants. Underrated comedy hits the bullseye.\n",
            "950\n",
            "(('__label__1',), array([0.99020231])) | Actual value : 1\n",
            "Out of the top 24 lesbian films in my library, I must rate this one as the number one film of all times. This film will go down in history as the best in it's genre. It is a story about a girl (Rachael Stirling) who goes from riches to rags and from rags to riches, with her first love (Keeley Hawes) popping in and out of her life. It is set against a Victorian background in the 1890's, which makes it an ideal setting for some of the best entertainment in the industry. This film spared no expense for music and costumes, and the make-up Rachael and Keeley wore while on stage in the Halls only added to the film's diversity.No matter what kind of films you favor, I can guarantee this film will not only amaze you, but will keep your attention through all three episodes. This film will be played and enjoyed for decades to come. The unrated DVD collector's version is a must for anyone's library. Rachael Stirling and Keeley Hawes was the best choice for the casting in these two roles, and they played them extremely well.\n",
            "1825\n",
            "(('__label__1',), array([0.6866011])) | Actual value : 1\n",
            "This movie has two new features in relation to the message conveyed by other equally good movies about death penalty and executions. Those are the stress also given to the drama endured by victims' parents -- without for that reason disguising the hatred and desire of revenge they feel or lessening the horror that execution represents -- and the Christian vision of all the questions implied. We must also point out that in this movie the sentenced man is not the usual nice innocent person we see in other movies dealing with executions which doesn't lead us to abandon the idea that a penal execution is no more than a legal murder anyway. Last but not least we must mention the extraordinary emotional weight put on the last moments of the execution course with all the catharsis shown by the convicted's last words and the detail with which the act of the execution itself is viewed in a parallel cut with images of the murder scenes in the forest to stress that we are being confronted with another murder so pitiless as the latter but performed in a cold and supposed \"legal\" way.\n",
            "2181\n",
            "(('__label__1',), array([0.82185388])) | Actual value : 1\n",
            "When one thinks of Soviet cinema, the propaganda masterpieces of Eisenstein or the somber meditations of Tarkovsky generally come to mind. They're great films sure, but generally not the most entertaining material out there. However, the countries within the Iron Curtain apparently enjoyed their escapist musicals just as much as the states had. In fact, from the 1930s up until the 70s, forty of these song-and-dance extravaganzas were released to much adoration by the public. However, they are completely unheard of in the West, so this documentary attempts to rectify that situation. It does a terrific job of both showcasing these films and putting them into the proper cultural context. Despite the fact I've never been a fan of musicals, I found this documentary to be completely compelling from beginning to end. It goes to prove that, no matter how many films you manage to see in your lifetime, you're only skimming the surface of whats out there.As for the film clips themselves, they're very entertaining. While some of the musicals are blatant propaganda showing workers singing of how much they love working under the regime, some of the films (particularly the later ones) look quite accomplished from a production standpoint. Plus, they are all extremely campy because of how alien they are to my western eyes. There's a few similarities between them and the American musicals I'm used to, but the presence of strict government enforcing of a message gives them a surreal edge. They certainly don't resemble the musicals made in the West. This documentary is both one of the most bizarre and entertaining films I've seen in recent memory, and its an absolute must-see for any film buff. (9/10)\n",
            "7\n",
            "(('__label__1',), array([0.82348776])) | Actual value : 1\n",
            "I felt this film did have many good qualities. The cinematography was certainly different exposing the stage aspect of the set and story. The original characters as actors was certainly an achievement and I felt most played quite convincingly, of course they are playing themselves, but definitely unique. The cultural aspects may leave many disappointed as a familiarity with the Chinese and Oriental culture will answer a lot of questions regarding parent/child relationships and the stigma that goes with any drug use. I found the Jia Hongsheng story interesting. On a down note, the story is in Beijing and some of the fashion and music reek of early 90s even though this was made in 2001, so it's really cheesy sometimes (the Beatles crap, etc). Whatever, not a top ten or twenty but if it's on the television, check it out.\n"
          ]
        }
      ]
    },
    {
      "cell_type": "code",
      "metadata": {
        "id": "VBO0lqZFuzld",
        "colab": {
          "base_uri": "https://localhost:8080/"
        },
        "outputId": "207fbdbf-ef63-4d48-9ed2-f73d8521f832"
      },
      "source": [
        "model_pretreated(\"test_file_pretreated.txt\")"
      ],
      "execution_count": 19,
      "outputs": [
        {
          "output_type": "execute_result",
          "data": {
            "text/plain": [
              "(25000, 0.86072, 0.86072)"
            ]
          },
          "metadata": {},
          "execution_count": 19
        }
      ]
    }
  ]
}