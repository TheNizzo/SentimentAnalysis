{
  "nbformat": 4,
  "nbformat_minor": 0,
  "metadata": {
    "colab": {
      "name": "NLP_TP4.ipynb",
      "provenance": [],
      "collapsed_sections": [],
      "authorship_tag": "ABX9TyP4mWduNmSLIAHVX4SnPfY4",
      "include_colab_link": true
    },
    "kernelspec": {
      "display_name": "Python 3",
      "name": "python3"
    },
    "language_info": {
      "name": "python"
    }
  },
  "cells": [
    {
      "cell_type": "markdown",
      "metadata": {
        "id": "view-in-github",
        "colab_type": "text"
      },
      "source": [
        "<a href=\"https://colab.research.google.com/github/TheNizzo/SentimentAnalysis/blob/main/NLP_TP4.ipynb\" target=\"_parent\"><img src=\"https://colab.research.google.com/assets/colab-badge.svg\" alt=\"Open In Colab\"/></a>"
      ]
    },
    {
      "cell_type": "markdown",
      "metadata": {
        "id": "1NBvxv1_oMJS"
      },
      "source": [
        "# Imports"
      ]
    },
    {
      "cell_type": "code",
      "metadata": {
        "id": "fe-P8vI8q01J"
      },
      "source": [
        "import numpy as np\n",
        "import random as rdn\n",
        "import re"
      ],
      "execution_count": 1,
      "outputs": []
    },
    {
      "cell_type": "code",
      "metadata": {
        "id": "eYbI5WdMrCuI"
      },
      "source": [
        "!pip install datasets\n",
        "from datasets import load_dataset\n",
        "dataset_train = load_dataset('imdb', split='train')\n",
        "dataset_test = load_dataset('imdb', split='test')"
      ],
      "execution_count": null,
      "outputs": []
    },
    {
      "cell_type": "code",
      "metadata": {
        "colab": {
          "base_uri": "https://localhost:8080/"
        },
        "id": "b49RrBNKrFrC",
        "outputId": "2a270669-d5ad-4d78-d57b-73b9490b78f4"
      },
      "source": [
        "x_train, y_train, x_test, y_test = dataset_train[:]['text'], dataset_train[:]['label'], dataset_test[:]['text'], dataset_test[:]['label']\n",
        "len(x_train), len(x_test)"
      ],
      "execution_count": 72,
      "outputs": [
        {
          "output_type": "execute_result",
          "data": {
            "text/plain": [
              "(25000, 25000)"
            ]
          },
          "metadata": {},
          "execution_count": 72
        }
      ]
    },
    {
      "cell_type": "code",
      "metadata": {
        "colab": {
          "base_uri": "https://localhost:8080/"
        },
        "id": "5tQv5TpCg4tq",
        "outputId": "2ae829d8-6f9a-4c15-9e25-748b8cce6459"
      },
      "source": [
        "0 in y_train"
      ],
      "execution_count": 77,
      "outputs": [
        {
          "output_type": "execute_result",
          "data": {
            "text/plain": [
              "True"
            ]
          },
          "metadata": {},
          "execution_count": 77
        }
      ]
    },
    {
      "cell_type": "markdown",
      "metadata": {
        "id": "PgA5X9RFnA77"
      },
      "source": [
        "#pretreatment"
      ]
    },
    {
      "cell_type": "markdown",
      "metadata": {
        "id": "vMpWZvMZoC3y"
      },
      "source": [
        "* Take out html"
      ]
    },
    {
      "cell_type": "code",
      "metadata": {
        "id": "JzAfWJMJnZAU"
      },
      "source": [
        "TAG_RE = re.compile(r'<[^>]+>')\n",
        "def remove_tags(text):\n",
        "    return TAG_RE.sub('', text)"
      ],
      "execution_count": 4,
      "outputs": []
    },
    {
      "cell_type": "code",
      "metadata": {
        "id": "Z9aYYC-qlaGZ"
      },
      "source": [
        "x_train_pretreated = [remove_tags(el) for el in x_train]\n",
        "x_test_pretreated = [remove_tags(el) for el in x_test]"
      ],
      "execution_count": 5,
      "outputs": []
    },
    {
      "cell_type": "markdown",
      "metadata": {
        "id": "A6plLJJDoFsr"
      },
      "source": [
        "# Training"
      ]
    },
    {
      "cell_type": "code",
      "metadata": {
        "id": "ea7qVv68soTm"
      },
      "source": [
        "!wget https://github.com/facebookresearch/fastText/archive/v0.9.2.zip\n",
        "!unzip v0.9.2.zip\n",
        "%cd fastText-0.9.2\n",
        "!make\n",
        "!pip install ."
      ],
      "execution_count": null,
      "outputs": []
    },
    {
      "cell_type": "code",
      "metadata": {
        "id": "pHgJGtwYdIlA"
      },
      "source": [
        "import fasttext"
      ],
      "execution_count": 7,
      "outputs": []
    },
    {
      "cell_type": "code",
      "metadata": {
        "id": "-A9JesnrSzsf"
      },
      "source": [
        "def write_list_to_file(filename, list_to_write):\n",
        "  textfile = open(filename, \"w\")\n",
        "  for element in list_to_write:\n",
        "      textfile.write(element + \"\\n\")\n",
        "  textfile.close()"
      ],
      "execution_count": 8,
      "outputs": []
    },
    {
      "cell_type": "code",
      "metadata": {
        "id": "0bpAB-SzpYKb"
      },
      "source": [
        "def fasttext_conversion(list_y, list_x):\n",
        "  return [\"__label__\" + str(y) + \" \" + x for y, x in zip(list_y, list_x)]"
      ],
      "execution_count": 9,
      "outputs": []
    },
    {
      "cell_type": "code",
      "metadata": {
        "id": "o8vcj5YYcGbc"
      },
      "source": [
        "def predict_many(x, y, n, predict_model, verbose=False):\n",
        "  for i in range(n):\n",
        "    r = rdn.randint(0,25000)\n",
        "    print(\"index = \", r)\n",
        "    print(predict_model.predict(x[r]), \"| Actual value :\", y[r])\n",
        "    if verbose :\n",
        "      print(x[r])"
      ],
      "execution_count": 89,
      "outputs": []
    },
    {
      "cell_type": "markdown",
      "metadata": {
        "id": "XFETjA1MowWb"
      },
      "source": [
        "* No pretreament"
      ]
    },
    {
      "cell_type": "code",
      "metadata": {
        "id": "fhFIJ2SqPGnk"
      },
      "source": [
        "train = fasttext_conversion(y_train,x_train)\n",
        "test = fasttext_conversion(y_test,x_test)"
      ],
      "execution_count": 10,
      "outputs": []
    },
    {
      "cell_type": "code",
      "metadata": {
        "id": "XgCIgxe8h-2A"
      },
      "source": [
        "rdn.shuffle(train)\n",
        "rdn.shuffle(test)"
      ],
      "execution_count": 11,
      "outputs": []
    },
    {
      "cell_type": "code",
      "metadata": {
        "id": "BvyjNUoZoVdr"
      },
      "source": [
        "write_list_to_file(\"train_file.txt\", train)\n",
        "write_list_to_file(\"test_file.txt\", test)"
      ],
      "execution_count": 12,
      "outputs": []
    },
    {
      "cell_type": "code",
      "metadata": {
        "id": "jp7F00J8fBrp"
      },
      "source": [
        "model = fasttext.train_supervised(input=\"train_file.txt\")"
      ],
      "execution_count": 13,
      "outputs": []
    },
    {
      "cell_type": "code",
      "metadata": {
        "colab": {
          "base_uri": "https://localhost:8080/"
        },
        "id": "1RxZeeOdbfBW",
        "outputId": "d5c15357-4a81-4076-b4bd-8a23e9db8130"
      },
      "source": [
        "predict_many(x_test, y_test, 10, model)"
      ],
      "execution_count": 90,
      "outputs": [
        {
          "output_type": "stream",
          "name": "stdout",
          "text": [
            "index =  19341\n",
            "(('__label__0',), array([0.89549989])) | Actual value : 0\n",
            "index =  14519\n",
            "(('__label__1',), array([0.74022061])) | Actual value : 0\n",
            "index =  11219\n",
            "(('__label__1',), array([0.95898438])) | Actual value : 1\n",
            "index =  23327\n",
            "(('__label__0',), array([0.85880053])) | Actual value : 0\n",
            "index =  14064\n",
            "(('__label__0',), array([0.5261578])) | Actual value : 0\n",
            "index =  3794\n",
            "(('__label__1',), array([0.61225998])) | Actual value : 1\n",
            "index =  12886\n",
            "(('__label__0',), array([0.93984586])) | Actual value : 0\n",
            "index =  15462\n",
            "(('__label__0',), array([0.81752747])) | Actual value : 0\n",
            "index =  19172\n",
            "(('__label__0',), array([0.99708688])) | Actual value : 0\n",
            "index =  6036\n",
            "(('__label__1',), array([0.90136617])) | Actual value : 1\n"
          ]
        }
      ]
    },
    {
      "cell_type": "code",
      "metadata": {
        "id": "lmGuuQkkhjjY",
        "colab": {
          "base_uri": "https://localhost:8080/"
        },
        "outputId": "2a1d3796-842f-418e-e600-ad608e420b62"
      },
      "source": [
        "model.test(\"test_file.txt\")"
      ],
      "execution_count": 14,
      "outputs": [
        {
          "output_type": "execute_result",
          "data": {
            "text/plain": [
              "(25000, 0.85972, 0.85972)"
            ]
          },
          "metadata": {},
          "execution_count": 14
        }
      ]
    },
    {
      "cell_type": "markdown",
      "metadata": {
        "id": "VLGN7s_9uLt4"
      },
      "source": [
        "* With pretreatment"
      ]
    },
    {
      "cell_type": "code",
      "metadata": {
        "id": "OtkAYpNauQnQ"
      },
      "source": [
        "train_pretreated = fasttext_conversion(y_train, x_train_pretreated)\n",
        "test_pretreated = fasttext_conversion(y_test, x_test_pretreated)"
      ],
      "execution_count": 15,
      "outputs": []
    },
    {
      "cell_type": "code",
      "metadata": {
        "id": "O4gROoLYuYWg"
      },
      "source": [
        "rdn.shuffle(train_pretreated)\n",
        "rdn.shuffle(test_pretreated)"
      ],
      "execution_count": 16,
      "outputs": []
    },
    {
      "cell_type": "code",
      "metadata": {
        "id": "fBxgZLtduY78"
      },
      "source": [
        "write_list_to_file(\"train_file_pretreated.txt\", train_pretreated)\n",
        "write_list_to_file(\"test_file_pretreated.txt\", test_pretreated)"
      ],
      "execution_count": 17,
      "outputs": []
    },
    {
      "cell_type": "code",
      "metadata": {
        "id": "Eikjn2lxuZHd"
      },
      "source": [
        "model_pretreated = fasttext.train_supervised(input=\"train_file_pretreated.txt\")"
      ],
      "execution_count": 84,
      "outputs": []
    },
    {
      "cell_type": "code",
      "metadata": {
        "colab": {
          "base_uri": "https://localhost:8080/"
        },
        "id": "u7vuT_9sbeHc",
        "outputId": "ade0368d-3ba5-42c3-c832-faf1dd7c132f"
      },
      "source": [
        "predict_many(x_test_pretreated, y_test, 10, model_pretreated, True)"
      ],
      "execution_count": 91,
      "outputs": [
        {
          "output_type": "stream",
          "name": "stdout",
          "text": [
            "index =  5641\n",
            "(('__label__1',), array([0.66087395])) | Actual value : 1\n",
            "I just thought I would add another observation, here. While there are a couple of visual sub-references, in this episode, to the possibility of unexpressed feelings between Jim Kirk and Yeoman Janice Rand; there is a special, physically tender, moment, toward the end. When the Enterprise is reversing at emergency warp speed in an attempt to outrun a possibly fatal Romulan plasma ball, Janice, perhaps fearing that their life is about to come to a dramatic end, seeks comfort by placing her head on Jim's sympathetic shoulder as they observe the aproaching instrument of their impending doom on the main viewer. I thought it was sweet (and Janice, of course, is gorgeous!).(P.S. Goof:- Several times, while supposedly firing phasors, the film shows photon torpedoes being launched)\n",
            "index =  857\n",
            "(('__label__1',), array([0.81803107])) | Actual value : 1\n",
            "When it comes to movies, I don't easily discriminate between crap, pure crap and masterpieces. I believe this movie is an absolute masterpiece and it's hard to keep me entertained for more than 90 minutes. This movie ran SLOWER than Mystic River and Harry Potter 3 combined and I still managed to stay riveted to my seat. For me, it was the passion that Eric Bogosian put into his performance. It's extremely difficult to pull off such a stunt and manage to garner any positive effect from it. Bogosian probably nailed one of the toughest single-man performances in modern cinema. I didn't have any respect for Bogosian until the end of the film. The entire monologue minutes before the inexorable climax was the turning point, it was the key that turned me around. This man hit a point so low that he knew he could never recover from it. The corporate boys congratulated him on the performance. His blistering prose made even the slimiest one in the cavalcade shake his head in awe. It made me realize that personal integrity and hypocrisy don't matter in the world of talk radio, even in the corporate world for that matter. Stone may have been pushing some uber-liberal agenda but it was the actual movie and production that got my attention. Oliver Stone is a minor master of the moody. The final third of the film had probably the best lighting and cinematography I have seen in any film. Stone artfully makes the DJ booth feel like five-by-seven cell in a nineteenth century prison. Visually speaking, it appears that Bogosian's only friend is the black foam that absorbs his routine vitriol. He speaks and it doesn't speak back. It's a sad metaphor considering the way he treats the people who handed him his success. Stone and Bogosian carved out a stunning film of a man who is trapped in both a prison of walls and a prison of self. This man is confined to his own volition and he can never escape it. The scene that made me realize his conundrum was when he was unwilling to his ex-wife back. He preferred his own prison instead of the world on the outside. Every story has a conflict and it came down to the simplest of all conflicts: man versus himself. 'Talk Radio' presents this conflict in an intelligent, gripping, and artful fashion. There are no hidden messages in this film and the progression of events should be expected by any astute viewer. I just leaned back and let my mind be grasped by this film and I loved it. It's unheralded, unseen, and it will never receive its due recognition. Let's hope it stays that way because gems deserve to be found and then hidden again. It's a gem because I found it in the discount DVD bin at my local Wal-Mart store. For $5.50, it was worth the half-hour I spent digging trying to find it. I did and I got more than my money's worth. This is one of the best movies ever made and that is worth ten reasons alone. Ten reasons give a score of ten.Here ends my rant!\n",
            "index =  5733\n",
            "(('__label__1',), array([0.55720037])) | Actual value : 1\n",
            "I've heard a lot of different opinions about this film and then to find out that Paris Hilton was in it as well didn't give Me the best impression of the film .... then to be dragged to the cinema by a group of my friends and sit there expecting a pile of pants i was shocked to find that i was scared stiff all the way through the film ... it was predictable yes but the build up of the deaths and the whole atmosphere of the film made it REALLY scary for me ... i was watching through my fingers the whole way through. So i say go watch it and decide for yourself and if the fact that its a scary film doesn't convince you to go watch it then it also has Chad Michael Murray in it which can't be bad to watch for a couple of hours eh?\n",
            "index =  7516\n",
            "(('__label__1',), array([0.83615983])) | Actual value : 1\n",
            "A lot of people give this movie a lot of crap, and all of it's really undeserved. People give this movie a hard time either because it's such a sick subject or they harp on some technical aspect of the movie no one else observes when they watch it. If, just by looking at the cover, you think this movie will make you uncomfortable...DON'T WATCH IT! However, you'd be missing out on one of the better cinematic experiences of the late 1990's, despite what anyone else says.Dee Snider is wonderful here as Captain Howdy, the depths of insanity he plumbs to play this character has to be beyond words, and is much farther than any one of us would have to be willing to go. The acting here is wonderful. The film itself beautifully shot. The subject may be a bit too much for many to swallow, but it's still well worth your time. If you haven't seen this movie, check it out.\n",
            "index =  3659\n",
            "(('__label__1',), array([0.60672367])) | Actual value : 1\n",
            "I was happy to find out that at least now this movie is beginning to get the appreciation it deserves (just view those votes). Not top-class action like \"Die Hard\" or \"Lethal Weapon\", but still something like a solid 7 out of 10: fine script, good actors with working chemistry, and a director who knows what he wants (sadly, this was director Harlin's last good film. \"Deep Blue Sea\" managed to reach 'an OK rollercoaster-ride'- status, but \"Cutthroat Island, and especially, \"Driven\" are well-deserved flops!) Personally I think the turn-off at the box-office might have been the \"Woman as an action star\"-theme. Well, give her a chance, because Davis does deliver a performance above par. And, after all, this film doesn't concentrate so much on the \"feminine\"-side, but instead on good ol' action, buddyism (Jackson as a sidekick is given a lot of room in here, plus his share of action- and about a thousand killer wisecracks!) and on the plot (from Shane Black, the writer of \"Lethal Weapon\" and \"The Last Boy Scout\". The latter of which as a movie is on very many levels much like this one...the theme, the clever plot, also as good and as underrated!) Overall: if one hasn't seen this one yet, don't forget to rent it for the next quiet Saturday night!\n",
            "index =  23024\n",
            "(('__label__0',), array([0.70122308])) | Actual value : 0\n",
            "Wave after wave of directionless nausea - this film wants and at first promises to be quirky and original but is in fact obvious, solipsistic and mired in cliché-driven dialogue which builds to a crecendo of awfulness and cheese by the end. Throughout the film we meet supposedly off the wall characters, who are actually very dull, and just don't quite work and who clunk through the horrific screenplay like men in armour suits, driving jeeps through mansion houses and spouting preppy existential obviousness accompanied by the whinings of Coldplay. The film has occasional funny episodes, often no funnier than a dog playing with its genitals, which happened twice (an index of the slapstick, rudimentary humour of the film in general) but by the end, the film falls into an 'infinite abyss' of complete detritus and the director's egocentric ramblings which made me want to gouge my eyes out. Watch this film at your peril.\n",
            "index =  9089\n",
            "(('__label__0',), array([0.51989537])) | Actual value : 1\n",
            "I was at the world premier of this movie, and have even met Todd a couples times around town (once at Olive Garden). Todd isn't a bad guy, he is just a small time film maker with little to no budget and big dreams.As for the movie, it is good if you like zombie films with very little plot and lots of blood and guts. You get to see some Kansas City locations and lots of raw meat, what could be better? :-) Look for the same 2 dozen people playing different zombies (with just a change of clothes or hats). You can have a good drinking game with this movie, take a shot whenever you see the same zombie in a different shirt.\n",
            "index =  24903\n",
            "(('__label__0',), array([0.9771235])) | Actual value : 0\n",
            "If you thought Day after tomorrow was implausible, wait till you see this.Okay so the premise of most disaster films is usually a 1 in billion event occurring, compounded by other circumstances. In this case, the even is the joining of two huge storm systems. Fair enough so far. Oh but hold up, no, the \"event\" is the sabotage and subsequent destruction of the power grid.Next throw in loads of human interest elements - in this case a cheating husband, a psychotic gun-wielding boyfriend, a rebellious daughter, a hacker with a point to prove, a senator trying to push an agenda, a reporter trying to stand up against \"the man\", and a pregnant women stuck in an elevator.Finally add a handful of taster events to add excitement.Jeez if the director tried to fit in any more meaningless plot lines, there would have been no time less for the actual disaster, which, given the pitiful state of the computer graphics, was almost certainly the intention.Jeez, if you can't even model a truck convincingly, you really should not be taking on twisters, exploding power stations, Las Vegas getting ripped apart, or destroyed oil stations.In case you didn't already gather how appalling this movie is, let me just add that all three bad guys get killed in separate, and wholly ungratifying, implausible manners, that stunk more of moralising that good film-making.I'm have no problem with first month film students writing jaded, hackneyed, cliché-soaked scripts, but for god's sake, that doesn't mean anyone has to make them into movies!It manages to make the abysmally implausible 10.0 Apocalypse look not quite so dreadful. Avoid them both.\n",
            "index =  3146\n",
            "(('__label__1',), array([0.56412458])) | Actual value : 1\n",
            "\"Entrails of a Beauty\" features a gang of Yakuza blokes gang-raping a woman and they drug her,and later on she dies and returns as this big slimy monster with a huge penis that has sharp teeth and also a big sloppy vagina.Crazy film,but not very good.The gore doesn't come until the last 20 minutes and most of the film is a standard soft core sex with lots of rape.Worth checking out,unfortunately heavily censored optically and nowhere near as much fun as \"Entrails of a Virgin\".\n",
            "index =  12263\n",
            "(('__label__0',), array([0.76948863])) | Actual value : 1\n",
            "I consider myself a huge horror movie fan. One night I wanted to just rent some newer horror movies to make fun of. Then, I rented Milo. I was so surprised by this movie. It scared the hell outta me. That's not something I can say very often. Usually Halloween only scares me.Two other friends watched it with me, and were left with a disturbed feeling. A good feeling, if you ask me, after watching a horror movie. If you are unaffected, then what's the point.This movie was original. It didn't follow the normal guidelines of a horror movie. That's why movies like Valentine bombed for me.Of course, many are left with unanswered questions, as most horror movies do. It is worth the rent though.\n"
          ]
        }
      ]
    },
    {
      "cell_type": "code",
      "metadata": {
        "id": "VBO0lqZFuzld",
        "colab": {
          "base_uri": "https://localhost:8080/"
        },
        "outputId": "76dc2652-1f03-44a4-d41b-cbd66071692d"
      },
      "source": [
        "model_pretreated.test(\"test_file_pretreated.txt\")"
      ],
      "execution_count": 88,
      "outputs": [
        {
          "output_type": "execute_result",
          "data": {
            "text/plain": [
              "(25000, 0.86072, 0.86072)"
            ]
          },
          "metadata": {},
          "execution_count": 88
        }
      ]
    },
    {
      "cell_type": "code",
      "metadata": {
        "id": "lqAgTvnEgIBj"
      },
      "source": [
        ""
      ],
      "execution_count": null,
      "outputs": []
    },
    {
      "cell_type": "code",
      "metadata": {
        "id": "BFZ-0miNgLd4"
      },
      "source": [
        ""
      ],
      "execution_count": null,
      "outputs": []
    }
  ]
}