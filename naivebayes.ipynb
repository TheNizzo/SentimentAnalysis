{
  "nbformat": 4,
  "nbformat_minor": 0,
  "metadata": {
    "colab": {
      "name": "naivebayes.ipynb",
      "provenance": [],
      "collapsed_sections": []
    },
    "kernelspec": {
      "display_name": "Python 3",
      "name": "python3"
    },
    "language_info": {
      "name": "python"
    },
    "accelerator": "GPU",
    "widgets": {
      "application/vnd.jupyter.widget-state+json": {
        "359a660ef67842008b50031a912983c3": {
          "model_module": "@jupyter-widgets/controls",
          "model_name": "HBoxModel",
          "model_module_version": "1.5.0",
          "state": {
            "_view_name": "HBoxView",
            "_dom_classes": [],
            "_model_name": "HBoxModel",
            "_view_module": "@jupyter-widgets/controls",
            "_model_module_version": "1.5.0",
            "_view_count": null,
            "_view_module_version": "1.5.0",
            "box_style": "",
            "layout": "IPY_MODEL_563fe0a345e74922889ae8f2fcf3ab73",
            "_model_module": "@jupyter-widgets/controls",
            "children": [
              "IPY_MODEL_a836b1c7c8434be1b1dbc83286a597e2",
              "IPY_MODEL_75a14983356e44ca9619271080ced943",
              "IPY_MODEL_ed718d7b1a854e9cb91af5bf7bd3c395"
            ]
          }
        },
        "563fe0a345e74922889ae8f2fcf3ab73": {
          "model_module": "@jupyter-widgets/base",
          "model_name": "LayoutModel",
          "model_module_version": "1.2.0",
          "state": {
            "_view_name": "LayoutView",
            "grid_template_rows": null,
            "right": null,
            "justify_content": null,
            "_view_module": "@jupyter-widgets/base",
            "overflow": null,
            "_model_module_version": "1.2.0",
            "_view_count": null,
            "flex_flow": null,
            "width": null,
            "min_width": null,
            "border": null,
            "align_items": null,
            "bottom": null,
            "_model_module": "@jupyter-widgets/base",
            "top": null,
            "grid_column": null,
            "overflow_y": null,
            "overflow_x": null,
            "grid_auto_flow": null,
            "grid_area": null,
            "grid_template_columns": null,
            "flex": null,
            "_model_name": "LayoutModel",
            "justify_items": null,
            "grid_row": null,
            "max_height": null,
            "align_content": null,
            "visibility": null,
            "align_self": null,
            "height": null,
            "min_height": null,
            "padding": null,
            "grid_auto_rows": null,
            "grid_gap": null,
            "max_width": null,
            "order": null,
            "_view_module_version": "1.2.0",
            "grid_template_areas": null,
            "object_position": null,
            "object_fit": null,
            "grid_auto_columns": null,
            "margin": null,
            "display": null,
            "left": null
          }
        },
        "a836b1c7c8434be1b1dbc83286a597e2": {
          "model_module": "@jupyter-widgets/controls",
          "model_name": "HTMLModel",
          "model_module_version": "1.5.0",
          "state": {
            "_view_name": "HTMLView",
            "style": "IPY_MODEL_7e80658cea364f36b04f9e0ebfe6dad6",
            "_dom_classes": [],
            "description": "",
            "_model_name": "HTMLModel",
            "placeholder": "​",
            "_view_module": "@jupyter-widgets/controls",
            "_model_module_version": "1.5.0",
            "value": "Downloading: ",
            "_view_count": null,
            "_view_module_version": "1.5.0",
            "description_tooltip": null,
            "_model_module": "@jupyter-widgets/controls",
            "layout": "IPY_MODEL_c66b484fddc44874b7e0da0a42b10ff4"
          }
        },
        "75a14983356e44ca9619271080ced943": {
          "model_module": "@jupyter-widgets/controls",
          "model_name": "FloatProgressModel",
          "model_module_version": "1.5.0",
          "state": {
            "_view_name": "ProgressView",
            "style": "IPY_MODEL_afb021ae92634ea29b4dc77c1a86e4b1",
            "_dom_classes": [],
            "description": "",
            "_model_name": "FloatProgressModel",
            "bar_style": "success",
            "max": 1916,
            "_view_module": "@jupyter-widgets/controls",
            "_model_module_version": "1.5.0",
            "value": 1916,
            "_view_count": null,
            "_view_module_version": "1.5.0",
            "orientation": "horizontal",
            "min": 0,
            "description_tooltip": null,
            "_model_module": "@jupyter-widgets/controls",
            "layout": "IPY_MODEL_40940e864c284fcf8803c3b31a9e0dc6"
          }
        },
        "ed718d7b1a854e9cb91af5bf7bd3c395": {
          "model_module": "@jupyter-widgets/controls",
          "model_name": "HTMLModel",
          "model_module_version": "1.5.0",
          "state": {
            "_view_name": "HTMLView",
            "style": "IPY_MODEL_aa3bec4de94b476fb1509893bb12d962",
            "_dom_classes": [],
            "description": "",
            "_model_name": "HTMLModel",
            "placeholder": "​",
            "_view_module": "@jupyter-widgets/controls",
            "_model_module_version": "1.5.0",
            "value": " 4.75k/? [00:00&lt;00:00, 106kB/s]",
            "_view_count": null,
            "_view_module_version": "1.5.0",
            "description_tooltip": null,
            "_model_module": "@jupyter-widgets/controls",
            "layout": "IPY_MODEL_a9a0e5a2845649fe9da27f50d80e447d"
          }
        },
        "7e80658cea364f36b04f9e0ebfe6dad6": {
          "model_module": "@jupyter-widgets/controls",
          "model_name": "DescriptionStyleModel",
          "model_module_version": "1.5.0",
          "state": {
            "_view_name": "StyleView",
            "_model_name": "DescriptionStyleModel",
            "description_width": "",
            "_view_module": "@jupyter-widgets/base",
            "_model_module_version": "1.5.0",
            "_view_count": null,
            "_view_module_version": "1.2.0",
            "_model_module": "@jupyter-widgets/controls"
          }
        },
        "c66b484fddc44874b7e0da0a42b10ff4": {
          "model_module": "@jupyter-widgets/base",
          "model_name": "LayoutModel",
          "model_module_version": "1.2.0",
          "state": {
            "_view_name": "LayoutView",
            "grid_template_rows": null,
            "right": null,
            "justify_content": null,
            "_view_module": "@jupyter-widgets/base",
            "overflow": null,
            "_model_module_version": "1.2.0",
            "_view_count": null,
            "flex_flow": null,
            "width": null,
            "min_width": null,
            "border": null,
            "align_items": null,
            "bottom": null,
            "_model_module": "@jupyter-widgets/base",
            "top": null,
            "grid_column": null,
            "overflow_y": null,
            "overflow_x": null,
            "grid_auto_flow": null,
            "grid_area": null,
            "grid_template_columns": null,
            "flex": null,
            "_model_name": "LayoutModel",
            "justify_items": null,
            "grid_row": null,
            "max_height": null,
            "align_content": null,
            "visibility": null,
            "align_self": null,
            "height": null,
            "min_height": null,
            "padding": null,
            "grid_auto_rows": null,
            "grid_gap": null,
            "max_width": null,
            "order": null,
            "_view_module_version": "1.2.0",
            "grid_template_areas": null,
            "object_position": null,
            "object_fit": null,
            "grid_auto_columns": null,
            "margin": null,
            "display": null,
            "left": null
          }
        },
        "afb021ae92634ea29b4dc77c1a86e4b1": {
          "model_module": "@jupyter-widgets/controls",
          "model_name": "ProgressStyleModel",
          "model_module_version": "1.5.0",
          "state": {
            "_view_name": "StyleView",
            "_model_name": "ProgressStyleModel",
            "description_width": "",
            "_view_module": "@jupyter-widgets/base",
            "_model_module_version": "1.5.0",
            "_view_count": null,
            "_view_module_version": "1.2.0",
            "bar_color": null,
            "_model_module": "@jupyter-widgets/controls"
          }
        },
        "40940e864c284fcf8803c3b31a9e0dc6": {
          "model_module": "@jupyter-widgets/base",
          "model_name": "LayoutModel",
          "model_module_version": "1.2.0",
          "state": {
            "_view_name": "LayoutView",
            "grid_template_rows": null,
            "right": null,
            "justify_content": null,
            "_view_module": "@jupyter-widgets/base",
            "overflow": null,
            "_model_module_version": "1.2.0",
            "_view_count": null,
            "flex_flow": null,
            "width": null,
            "min_width": null,
            "border": null,
            "align_items": null,
            "bottom": null,
            "_model_module": "@jupyter-widgets/base",
            "top": null,
            "grid_column": null,
            "overflow_y": null,
            "overflow_x": null,
            "grid_auto_flow": null,
            "grid_area": null,
            "grid_template_columns": null,
            "flex": null,
            "_model_name": "LayoutModel",
            "justify_items": null,
            "grid_row": null,
            "max_height": null,
            "align_content": null,
            "visibility": null,
            "align_self": null,
            "height": null,
            "min_height": null,
            "padding": null,
            "grid_auto_rows": null,
            "grid_gap": null,
            "max_width": null,
            "order": null,
            "_view_module_version": "1.2.0",
            "grid_template_areas": null,
            "object_position": null,
            "object_fit": null,
            "grid_auto_columns": null,
            "margin": null,
            "display": null,
            "left": null
          }
        },
        "aa3bec4de94b476fb1509893bb12d962": {
          "model_module": "@jupyter-widgets/controls",
          "model_name": "DescriptionStyleModel",
          "model_module_version": "1.5.0",
          "state": {
            "_view_name": "StyleView",
            "_model_name": "DescriptionStyleModel",
            "description_width": "",
            "_view_module": "@jupyter-widgets/base",
            "_model_module_version": "1.5.0",
            "_view_count": null,
            "_view_module_version": "1.2.0",
            "_model_module": "@jupyter-widgets/controls"
          }
        },
        "a9a0e5a2845649fe9da27f50d80e447d": {
          "model_module": "@jupyter-widgets/base",
          "model_name": "LayoutModel",
          "model_module_version": "1.2.0",
          "state": {
            "_view_name": "LayoutView",
            "grid_template_rows": null,
            "right": null,
            "justify_content": null,
            "_view_module": "@jupyter-widgets/base",
            "overflow": null,
            "_model_module_version": "1.2.0",
            "_view_count": null,
            "flex_flow": null,
            "width": null,
            "min_width": null,
            "border": null,
            "align_items": null,
            "bottom": null,
            "_model_module": "@jupyter-widgets/base",
            "top": null,
            "grid_column": null,
            "overflow_y": null,
            "overflow_x": null,
            "grid_auto_flow": null,
            "grid_area": null,
            "grid_template_columns": null,
            "flex": null,
            "_model_name": "LayoutModel",
            "justify_items": null,
            "grid_row": null,
            "max_height": null,
            "align_content": null,
            "visibility": null,
            "align_self": null,
            "height": null,
            "min_height": null,
            "padding": null,
            "grid_auto_rows": null,
            "grid_gap": null,
            "max_width": null,
            "order": null,
            "_view_module_version": "1.2.0",
            "grid_template_areas": null,
            "object_position": null,
            "object_fit": null,
            "grid_auto_columns": null,
            "margin": null,
            "display": null,
            "left": null
          }
        },
        "1202fcd7654248afa0775cae42bdb5c2": {
          "model_module": "@jupyter-widgets/controls",
          "model_name": "HBoxModel",
          "model_module_version": "1.5.0",
          "state": {
            "_view_name": "HBoxView",
            "_dom_classes": [],
            "_model_name": "HBoxModel",
            "_view_module": "@jupyter-widgets/controls",
            "_model_module_version": "1.5.0",
            "_view_count": null,
            "_view_module_version": "1.5.0",
            "box_style": "",
            "layout": "IPY_MODEL_acd5716dc0a64d1ab1abe08a92d92ee4",
            "_model_module": "@jupyter-widgets/controls",
            "children": [
              "IPY_MODEL_a1085c4fc0a043f288b4cc7516c0670b",
              "IPY_MODEL_2bdf98d5fe1c456887fca9d579e01fb6",
              "IPY_MODEL_1aedde716d8b42299b3aa6f00c07e6fa"
            ]
          }
        },
        "acd5716dc0a64d1ab1abe08a92d92ee4": {
          "model_module": "@jupyter-widgets/base",
          "model_name": "LayoutModel",
          "model_module_version": "1.2.0",
          "state": {
            "_view_name": "LayoutView",
            "grid_template_rows": null,
            "right": null,
            "justify_content": null,
            "_view_module": "@jupyter-widgets/base",
            "overflow": null,
            "_model_module_version": "1.2.0",
            "_view_count": null,
            "flex_flow": null,
            "width": null,
            "min_width": null,
            "border": null,
            "align_items": null,
            "bottom": null,
            "_model_module": "@jupyter-widgets/base",
            "top": null,
            "grid_column": null,
            "overflow_y": null,
            "overflow_x": null,
            "grid_auto_flow": null,
            "grid_area": null,
            "grid_template_columns": null,
            "flex": null,
            "_model_name": "LayoutModel",
            "justify_items": null,
            "grid_row": null,
            "max_height": null,
            "align_content": null,
            "visibility": null,
            "align_self": null,
            "height": null,
            "min_height": null,
            "padding": null,
            "grid_auto_rows": null,
            "grid_gap": null,
            "max_width": null,
            "order": null,
            "_view_module_version": "1.2.0",
            "grid_template_areas": null,
            "object_position": null,
            "object_fit": null,
            "grid_auto_columns": null,
            "margin": null,
            "display": null,
            "left": null
          }
        },
        "a1085c4fc0a043f288b4cc7516c0670b": {
          "model_module": "@jupyter-widgets/controls",
          "model_name": "HTMLModel",
          "model_module_version": "1.5.0",
          "state": {
            "_view_name": "HTMLView",
            "style": "IPY_MODEL_60fdd9fb275c4dcca3eef87d2d70279a",
            "_dom_classes": [],
            "description": "",
            "_model_name": "HTMLModel",
            "placeholder": "​",
            "_view_module": "@jupyter-widgets/controls",
            "_model_module_version": "1.5.0",
            "value": "Downloading: ",
            "_view_count": null,
            "_view_module_version": "1.5.0",
            "description_tooltip": null,
            "_model_module": "@jupyter-widgets/controls",
            "layout": "IPY_MODEL_4b1d361f79354f65805e46bd27803b0d"
          }
        },
        "2bdf98d5fe1c456887fca9d579e01fb6": {
          "model_module": "@jupyter-widgets/controls",
          "model_name": "FloatProgressModel",
          "model_module_version": "1.5.0",
          "state": {
            "_view_name": "ProgressView",
            "style": "IPY_MODEL_3e443f22b07848f9a9966fb5f81b4580",
            "_dom_classes": [],
            "description": "",
            "_model_name": "FloatProgressModel",
            "bar_style": "success",
            "max": 1054,
            "_view_module": "@jupyter-widgets/controls",
            "_model_module_version": "1.5.0",
            "value": 1054,
            "_view_count": null,
            "_view_module_version": "1.5.0",
            "orientation": "horizontal",
            "min": 0,
            "description_tooltip": null,
            "_model_module": "@jupyter-widgets/controls",
            "layout": "IPY_MODEL_97e9698fbf1e47ca954e97580f34eaa3"
          }
        },
        "1aedde716d8b42299b3aa6f00c07e6fa": {
          "model_module": "@jupyter-widgets/controls",
          "model_name": "HTMLModel",
          "model_module_version": "1.5.0",
          "state": {
            "_view_name": "HTMLView",
            "style": "IPY_MODEL_ca827d5905ce496c961b3874eb57a1b2",
            "_dom_classes": [],
            "description": "",
            "_model_name": "HTMLModel",
            "placeholder": "​",
            "_view_module": "@jupyter-widgets/controls",
            "_model_module_version": "1.5.0",
            "value": " 2.17k/? [00:00&lt;00:00, 45.9kB/s]",
            "_view_count": null,
            "_view_module_version": "1.5.0",
            "description_tooltip": null,
            "_model_module": "@jupyter-widgets/controls",
            "layout": "IPY_MODEL_3f5513459ff342759e7933cd2e2aade1"
          }
        },
        "60fdd9fb275c4dcca3eef87d2d70279a": {
          "model_module": "@jupyter-widgets/controls",
          "model_name": "DescriptionStyleModel",
          "model_module_version": "1.5.0",
          "state": {
            "_view_name": "StyleView",
            "_model_name": "DescriptionStyleModel",
            "description_width": "",
            "_view_module": "@jupyter-widgets/base",
            "_model_module_version": "1.5.0",
            "_view_count": null,
            "_view_module_version": "1.2.0",
            "_model_module": "@jupyter-widgets/controls"
          }
        },
        "4b1d361f79354f65805e46bd27803b0d": {
          "model_module": "@jupyter-widgets/base",
          "model_name": "LayoutModel",
          "model_module_version": "1.2.0",
          "state": {
            "_view_name": "LayoutView",
            "grid_template_rows": null,
            "right": null,
            "justify_content": null,
            "_view_module": "@jupyter-widgets/base",
            "overflow": null,
            "_model_module_version": "1.2.0",
            "_view_count": null,
            "flex_flow": null,
            "width": null,
            "min_width": null,
            "border": null,
            "align_items": null,
            "bottom": null,
            "_model_module": "@jupyter-widgets/base",
            "top": null,
            "grid_column": null,
            "overflow_y": null,
            "overflow_x": null,
            "grid_auto_flow": null,
            "grid_area": null,
            "grid_template_columns": null,
            "flex": null,
            "_model_name": "LayoutModel",
            "justify_items": null,
            "grid_row": null,
            "max_height": null,
            "align_content": null,
            "visibility": null,
            "align_self": null,
            "height": null,
            "min_height": null,
            "padding": null,
            "grid_auto_rows": null,
            "grid_gap": null,
            "max_width": null,
            "order": null,
            "_view_module_version": "1.2.0",
            "grid_template_areas": null,
            "object_position": null,
            "object_fit": null,
            "grid_auto_columns": null,
            "margin": null,
            "display": null,
            "left": null
          }
        },
        "3e443f22b07848f9a9966fb5f81b4580": {
          "model_module": "@jupyter-widgets/controls",
          "model_name": "ProgressStyleModel",
          "model_module_version": "1.5.0",
          "state": {
            "_view_name": "StyleView",
            "_model_name": "ProgressStyleModel",
            "description_width": "",
            "_view_module": "@jupyter-widgets/base",
            "_model_module_version": "1.5.0",
            "_view_count": null,
            "_view_module_version": "1.2.0",
            "bar_color": null,
            "_model_module": "@jupyter-widgets/controls"
          }
        },
        "97e9698fbf1e47ca954e97580f34eaa3": {
          "model_module": "@jupyter-widgets/base",
          "model_name": "LayoutModel",
          "model_module_version": "1.2.0",
          "state": {
            "_view_name": "LayoutView",
            "grid_template_rows": null,
            "right": null,
            "justify_content": null,
            "_view_module": "@jupyter-widgets/base",
            "overflow": null,
            "_model_module_version": "1.2.0",
            "_view_count": null,
            "flex_flow": null,
            "width": null,
            "min_width": null,
            "border": null,
            "align_items": null,
            "bottom": null,
            "_model_module": "@jupyter-widgets/base",
            "top": null,
            "grid_column": null,
            "overflow_y": null,
            "overflow_x": null,
            "grid_auto_flow": null,
            "grid_area": null,
            "grid_template_columns": null,
            "flex": null,
            "_model_name": "LayoutModel",
            "justify_items": null,
            "grid_row": null,
            "max_height": null,
            "align_content": null,
            "visibility": null,
            "align_self": null,
            "height": null,
            "min_height": null,
            "padding": null,
            "grid_auto_rows": null,
            "grid_gap": null,
            "max_width": null,
            "order": null,
            "_view_module_version": "1.2.0",
            "grid_template_areas": null,
            "object_position": null,
            "object_fit": null,
            "grid_auto_columns": null,
            "margin": null,
            "display": null,
            "left": null
          }
        },
        "ca827d5905ce496c961b3874eb57a1b2": {
          "model_module": "@jupyter-widgets/controls",
          "model_name": "DescriptionStyleModel",
          "model_module_version": "1.5.0",
          "state": {
            "_view_name": "StyleView",
            "_model_name": "DescriptionStyleModel",
            "description_width": "",
            "_view_module": "@jupyter-widgets/base",
            "_model_module_version": "1.5.0",
            "_view_count": null,
            "_view_module_version": "1.2.0",
            "_model_module": "@jupyter-widgets/controls"
          }
        },
        "3f5513459ff342759e7933cd2e2aade1": {
          "model_module": "@jupyter-widgets/base",
          "model_name": "LayoutModel",
          "model_module_version": "1.2.0",
          "state": {
            "_view_name": "LayoutView",
            "grid_template_rows": null,
            "right": null,
            "justify_content": null,
            "_view_module": "@jupyter-widgets/base",
            "overflow": null,
            "_model_module_version": "1.2.0",
            "_view_count": null,
            "flex_flow": null,
            "width": null,
            "min_width": null,
            "border": null,
            "align_items": null,
            "bottom": null,
            "_model_module": "@jupyter-widgets/base",
            "top": null,
            "grid_column": null,
            "overflow_y": null,
            "overflow_x": null,
            "grid_auto_flow": null,
            "grid_area": null,
            "grid_template_columns": null,
            "flex": null,
            "_model_name": "LayoutModel",
            "justify_items": null,
            "grid_row": null,
            "max_height": null,
            "align_content": null,
            "visibility": null,
            "align_self": null,
            "height": null,
            "min_height": null,
            "padding": null,
            "grid_auto_rows": null,
            "grid_gap": null,
            "max_width": null,
            "order": null,
            "_view_module_version": "1.2.0",
            "grid_template_areas": null,
            "object_position": null,
            "object_fit": null,
            "grid_auto_columns": null,
            "margin": null,
            "display": null,
            "left": null
          }
        },
        "09fc1a265d3741f18c3a8a4d251972f3": {
          "model_module": "@jupyter-widgets/controls",
          "model_name": "HBoxModel",
          "model_module_version": "1.5.0",
          "state": {
            "_view_name": "HBoxView",
            "_dom_classes": [],
            "_model_name": "HBoxModel",
            "_view_module": "@jupyter-widgets/controls",
            "_model_module_version": "1.5.0",
            "_view_count": null,
            "_view_module_version": "1.5.0",
            "box_style": "",
            "layout": "IPY_MODEL_8c8bd6aff53240e690a03d7708051d30",
            "_model_module": "@jupyter-widgets/controls",
            "children": [
              "IPY_MODEL_3d363f9395824a4db8427d4a39384615",
              "IPY_MODEL_46f6979f477848a581fe0a1960845635",
              "IPY_MODEL_6d37325622134e3da0c36bf5d4b6b02d"
            ]
          }
        },
        "8c8bd6aff53240e690a03d7708051d30": {
          "model_module": "@jupyter-widgets/base",
          "model_name": "LayoutModel",
          "model_module_version": "1.2.0",
          "state": {
            "_view_name": "LayoutView",
            "grid_template_rows": null,
            "right": null,
            "justify_content": null,
            "_view_module": "@jupyter-widgets/base",
            "overflow": null,
            "_model_module_version": "1.2.0",
            "_view_count": null,
            "flex_flow": null,
            "width": null,
            "min_width": null,
            "border": null,
            "align_items": null,
            "bottom": null,
            "_model_module": "@jupyter-widgets/base",
            "top": null,
            "grid_column": null,
            "overflow_y": null,
            "overflow_x": null,
            "grid_auto_flow": null,
            "grid_area": null,
            "grid_template_columns": null,
            "flex": null,
            "_model_name": "LayoutModel",
            "justify_items": null,
            "grid_row": null,
            "max_height": null,
            "align_content": null,
            "visibility": null,
            "align_self": null,
            "height": null,
            "min_height": null,
            "padding": null,
            "grid_auto_rows": null,
            "grid_gap": null,
            "max_width": null,
            "order": null,
            "_view_module_version": "1.2.0",
            "grid_template_areas": null,
            "object_position": null,
            "object_fit": null,
            "grid_auto_columns": null,
            "margin": null,
            "display": null,
            "left": null
          }
        },
        "3d363f9395824a4db8427d4a39384615": {
          "model_module": "@jupyter-widgets/controls",
          "model_name": "HTMLModel",
          "model_module_version": "1.5.0",
          "state": {
            "_view_name": "HTMLView",
            "style": "IPY_MODEL_6a6234591e0b4a5db2f3d7c9a3862338",
            "_dom_classes": [],
            "description": "",
            "_model_name": "HTMLModel",
            "placeholder": "​",
            "_view_module": "@jupyter-widgets/controls",
            "_model_module_version": "1.5.0",
            "value": "Downloading: 100%",
            "_view_count": null,
            "_view_module_version": "1.5.0",
            "description_tooltip": null,
            "_model_module": "@jupyter-widgets/controls",
            "layout": "IPY_MODEL_e3926b2e1f6f47e2b29c3d882521d293"
          }
        },
        "46f6979f477848a581fe0a1960845635": {
          "model_module": "@jupyter-widgets/controls",
          "model_name": "FloatProgressModel",
          "model_module_version": "1.5.0",
          "state": {
            "_view_name": "ProgressView",
            "style": "IPY_MODEL_85f043a8c9044068a1a57a193374a232",
            "_dom_classes": [],
            "description": "",
            "_model_name": "FloatProgressModel",
            "bar_style": "success",
            "max": 84125825,
            "_view_module": "@jupyter-widgets/controls",
            "_model_module_version": "1.5.0",
            "value": 84125825,
            "_view_count": null,
            "_view_module_version": "1.5.0",
            "orientation": "horizontal",
            "min": 0,
            "description_tooltip": null,
            "_model_module": "@jupyter-widgets/controls",
            "layout": "IPY_MODEL_06ab07b4e1b140ec8c0e6a6b887cfa77"
          }
        },
        "6d37325622134e3da0c36bf5d4b6b02d": {
          "model_module": "@jupyter-widgets/controls",
          "model_name": "HTMLModel",
          "model_module_version": "1.5.0",
          "state": {
            "_view_name": "HTMLView",
            "style": "IPY_MODEL_845da737d7e84c2eb8d79237fa58cd60",
            "_dom_classes": [],
            "description": "",
            "_model_name": "HTMLModel",
            "placeholder": "​",
            "_view_module": "@jupyter-widgets/controls",
            "_model_module_version": "1.5.0",
            "value": " 84.1M/84.1M [00:07&lt;00:00, 14.7MB/s]",
            "_view_count": null,
            "_view_module_version": "1.5.0",
            "description_tooltip": null,
            "_model_module": "@jupyter-widgets/controls",
            "layout": "IPY_MODEL_004274dc12004d1a8e23a1fbbaf962dc"
          }
        },
        "6a6234591e0b4a5db2f3d7c9a3862338": {
          "model_module": "@jupyter-widgets/controls",
          "model_name": "DescriptionStyleModel",
          "model_module_version": "1.5.0",
          "state": {
            "_view_name": "StyleView",
            "_model_name": "DescriptionStyleModel",
            "description_width": "",
            "_view_module": "@jupyter-widgets/base",
            "_model_module_version": "1.5.0",
            "_view_count": null,
            "_view_module_version": "1.2.0",
            "_model_module": "@jupyter-widgets/controls"
          }
        },
        "e3926b2e1f6f47e2b29c3d882521d293": {
          "model_module": "@jupyter-widgets/base",
          "model_name": "LayoutModel",
          "model_module_version": "1.2.0",
          "state": {
            "_view_name": "LayoutView",
            "grid_template_rows": null,
            "right": null,
            "justify_content": null,
            "_view_module": "@jupyter-widgets/base",
            "overflow": null,
            "_model_module_version": "1.2.0",
            "_view_count": null,
            "flex_flow": null,
            "width": null,
            "min_width": null,
            "border": null,
            "align_items": null,
            "bottom": null,
            "_model_module": "@jupyter-widgets/base",
            "top": null,
            "grid_column": null,
            "overflow_y": null,
            "overflow_x": null,
            "grid_auto_flow": null,
            "grid_area": null,
            "grid_template_columns": null,
            "flex": null,
            "_model_name": "LayoutModel",
            "justify_items": null,
            "grid_row": null,
            "max_height": null,
            "align_content": null,
            "visibility": null,
            "align_self": null,
            "height": null,
            "min_height": null,
            "padding": null,
            "grid_auto_rows": null,
            "grid_gap": null,
            "max_width": null,
            "order": null,
            "_view_module_version": "1.2.0",
            "grid_template_areas": null,
            "object_position": null,
            "object_fit": null,
            "grid_auto_columns": null,
            "margin": null,
            "display": null,
            "left": null
          }
        },
        "85f043a8c9044068a1a57a193374a232": {
          "model_module": "@jupyter-widgets/controls",
          "model_name": "ProgressStyleModel",
          "model_module_version": "1.5.0",
          "state": {
            "_view_name": "StyleView",
            "_model_name": "ProgressStyleModel",
            "description_width": "",
            "_view_module": "@jupyter-widgets/base",
            "_model_module_version": "1.5.0",
            "_view_count": null,
            "_view_module_version": "1.2.0",
            "bar_color": null,
            "_model_module": "@jupyter-widgets/controls"
          }
        },
        "06ab07b4e1b140ec8c0e6a6b887cfa77": {
          "model_module": "@jupyter-widgets/base",
          "model_name": "LayoutModel",
          "model_module_version": "1.2.0",
          "state": {
            "_view_name": "LayoutView",
            "grid_template_rows": null,
            "right": null,
            "justify_content": null,
            "_view_module": "@jupyter-widgets/base",
            "overflow": null,
            "_model_module_version": "1.2.0",
            "_view_count": null,
            "flex_flow": null,
            "width": null,
            "min_width": null,
            "border": null,
            "align_items": null,
            "bottom": null,
            "_model_module": "@jupyter-widgets/base",
            "top": null,
            "grid_column": null,
            "overflow_y": null,
            "overflow_x": null,
            "grid_auto_flow": null,
            "grid_area": null,
            "grid_template_columns": null,
            "flex": null,
            "_model_name": "LayoutModel",
            "justify_items": null,
            "grid_row": null,
            "max_height": null,
            "align_content": null,
            "visibility": null,
            "align_self": null,
            "height": null,
            "min_height": null,
            "padding": null,
            "grid_auto_rows": null,
            "grid_gap": null,
            "max_width": null,
            "order": null,
            "_view_module_version": "1.2.0",
            "grid_template_areas": null,
            "object_position": null,
            "object_fit": null,
            "grid_auto_columns": null,
            "margin": null,
            "display": null,
            "left": null
          }
        },
        "845da737d7e84c2eb8d79237fa58cd60": {
          "model_module": "@jupyter-widgets/controls",
          "model_name": "DescriptionStyleModel",
          "model_module_version": "1.5.0",
          "state": {
            "_view_name": "StyleView",
            "_model_name": "DescriptionStyleModel",
            "description_width": "",
            "_view_module": "@jupyter-widgets/base",
            "_model_module_version": "1.5.0",
            "_view_count": null,
            "_view_module_version": "1.2.0",
            "_model_module": "@jupyter-widgets/controls"
          }
        },
        "004274dc12004d1a8e23a1fbbaf962dc": {
          "model_module": "@jupyter-widgets/base",
          "model_name": "LayoutModel",
          "model_module_version": "1.2.0",
          "state": {
            "_view_name": "LayoutView",
            "grid_template_rows": null,
            "right": null,
            "justify_content": null,
            "_view_module": "@jupyter-widgets/base",
            "overflow": null,
            "_model_module_version": "1.2.0",
            "_view_count": null,
            "flex_flow": null,
            "width": null,
            "min_width": null,
            "border": null,
            "align_items": null,
            "bottom": null,
            "_model_module": "@jupyter-widgets/base",
            "top": null,
            "grid_column": null,
            "overflow_y": null,
            "overflow_x": null,
            "grid_auto_flow": null,
            "grid_area": null,
            "grid_template_columns": null,
            "flex": null,
            "_model_name": "LayoutModel",
            "justify_items": null,
            "grid_row": null,
            "max_height": null,
            "align_content": null,
            "visibility": null,
            "align_self": null,
            "height": null,
            "min_height": null,
            "padding": null,
            "grid_auto_rows": null,
            "grid_gap": null,
            "max_width": null,
            "order": null,
            "_view_module_version": "1.2.0",
            "grid_template_areas": null,
            "object_position": null,
            "object_fit": null,
            "grid_auto_columns": null,
            "margin": null,
            "display": null,
            "left": null
          }
        },
        "67e4060e79b343c18d5b5389f6c8a2c3": {
          "model_module": "@jupyter-widgets/controls",
          "model_name": "HBoxModel",
          "model_module_version": "1.5.0",
          "state": {
            "_view_name": "HBoxView",
            "_dom_classes": [],
            "_model_name": "HBoxModel",
            "_view_module": "@jupyter-widgets/controls",
            "_model_module_version": "1.5.0",
            "_view_count": null,
            "_view_module_version": "1.5.0",
            "box_style": "",
            "layout": "IPY_MODEL_da2e43ff2ed042b1aea251c796c91282",
            "_model_module": "@jupyter-widgets/controls",
            "children": [
              "IPY_MODEL_a5eef0fb4fc3488ba9cacbb8d689653c",
              "IPY_MODEL_51261a871b99421f86d4cf32613f6735",
              "IPY_MODEL_8ebc98fd22a742f1aa1139798c579e4a"
            ]
          }
        },
        "da2e43ff2ed042b1aea251c796c91282": {
          "model_module": "@jupyter-widgets/base",
          "model_name": "LayoutModel",
          "model_module_version": "1.2.0",
          "state": {
            "_view_name": "LayoutView",
            "grid_template_rows": null,
            "right": null,
            "justify_content": null,
            "_view_module": "@jupyter-widgets/base",
            "overflow": null,
            "_model_module_version": "1.2.0",
            "_view_count": null,
            "flex_flow": null,
            "width": null,
            "min_width": null,
            "border": null,
            "align_items": null,
            "bottom": null,
            "_model_module": "@jupyter-widgets/base",
            "top": null,
            "grid_column": null,
            "overflow_y": null,
            "overflow_x": null,
            "grid_auto_flow": null,
            "grid_area": null,
            "grid_template_columns": null,
            "flex": null,
            "_model_name": "LayoutModel",
            "justify_items": null,
            "grid_row": null,
            "max_height": null,
            "align_content": null,
            "visibility": null,
            "align_self": null,
            "height": null,
            "min_height": null,
            "padding": null,
            "grid_auto_rows": null,
            "grid_gap": null,
            "max_width": null,
            "order": null,
            "_view_module_version": "1.2.0",
            "grid_template_areas": null,
            "object_position": null,
            "object_fit": null,
            "grid_auto_columns": null,
            "margin": null,
            "display": null,
            "left": null
          }
        },
        "a5eef0fb4fc3488ba9cacbb8d689653c": {
          "model_module": "@jupyter-widgets/controls",
          "model_name": "HTMLModel",
          "model_module_version": "1.5.0",
          "state": {
            "_view_name": "HTMLView",
            "style": "IPY_MODEL_5d29b9499d574e208c5b57f3a28a3204",
            "_dom_classes": [],
            "description": "",
            "_model_name": "HTMLModel",
            "placeholder": "​",
            "_view_module": "@jupyter-widgets/controls",
            "_model_module_version": "1.5.0",
            "value": "",
            "_view_count": null,
            "_view_module_version": "1.5.0",
            "description_tooltip": null,
            "_model_module": "@jupyter-widgets/controls",
            "layout": "IPY_MODEL_7024c10ca788454496027b9d9846da5f"
          }
        },
        "51261a871b99421f86d4cf32613f6735": {
          "model_module": "@jupyter-widgets/controls",
          "model_name": "FloatProgressModel",
          "model_module_version": "1.5.0",
          "state": {
            "_view_name": "ProgressView",
            "style": "IPY_MODEL_7bb07044fa374453b4f78615104dcf33",
            "_dom_classes": [],
            "description": "",
            "_model_name": "FloatProgressModel",
            "bar_style": "info",
            "max": 1,
            "_view_module": "@jupyter-widgets/controls",
            "_model_module_version": "1.5.0",
            "value": 1,
            "_view_count": null,
            "_view_module_version": "1.5.0",
            "orientation": "horizontal",
            "min": 0,
            "description_tooltip": null,
            "_model_module": "@jupyter-widgets/controls",
            "layout": "IPY_MODEL_e44e5dd20ecf48839545679fa79251c7"
          }
        },
        "8ebc98fd22a742f1aa1139798c579e4a": {
          "model_module": "@jupyter-widgets/controls",
          "model_name": "HTMLModel",
          "model_module_version": "1.5.0",
          "state": {
            "_view_name": "HTMLView",
            "style": "IPY_MODEL_6ade91c6eeff4c9fa4fbe704214dbb3c",
            "_dom_classes": [],
            "description": "",
            "_model_name": "HTMLModel",
            "placeholder": "​",
            "_view_module": "@jupyter-widgets/controls",
            "_model_module_version": "1.5.0",
            "value": " 23853/0 [00:02&lt;00:00, 11246.61 examples/s]",
            "_view_count": null,
            "_view_module_version": "1.5.0",
            "description_tooltip": null,
            "_model_module": "@jupyter-widgets/controls",
            "layout": "IPY_MODEL_d8b7e0f97c144413857241bba8b34f2b"
          }
        },
        "5d29b9499d574e208c5b57f3a28a3204": {
          "model_module": "@jupyter-widgets/controls",
          "model_name": "DescriptionStyleModel",
          "model_module_version": "1.5.0",
          "state": {
            "_view_name": "StyleView",
            "_model_name": "DescriptionStyleModel",
            "description_width": "",
            "_view_module": "@jupyter-widgets/base",
            "_model_module_version": "1.5.0",
            "_view_count": null,
            "_view_module_version": "1.2.0",
            "_model_module": "@jupyter-widgets/controls"
          }
        },
        "7024c10ca788454496027b9d9846da5f": {
          "model_module": "@jupyter-widgets/base",
          "model_name": "LayoutModel",
          "model_module_version": "1.2.0",
          "state": {
            "_view_name": "LayoutView",
            "grid_template_rows": null,
            "right": null,
            "justify_content": null,
            "_view_module": "@jupyter-widgets/base",
            "overflow": null,
            "_model_module_version": "1.2.0",
            "_view_count": null,
            "flex_flow": null,
            "width": null,
            "min_width": null,
            "border": null,
            "align_items": null,
            "bottom": null,
            "_model_module": "@jupyter-widgets/base",
            "top": null,
            "grid_column": null,
            "overflow_y": null,
            "overflow_x": null,
            "grid_auto_flow": null,
            "grid_area": null,
            "grid_template_columns": null,
            "flex": null,
            "_model_name": "LayoutModel",
            "justify_items": null,
            "grid_row": null,
            "max_height": null,
            "align_content": null,
            "visibility": null,
            "align_self": null,
            "height": null,
            "min_height": null,
            "padding": null,
            "grid_auto_rows": null,
            "grid_gap": null,
            "max_width": null,
            "order": null,
            "_view_module_version": "1.2.0",
            "grid_template_areas": null,
            "object_position": null,
            "object_fit": null,
            "grid_auto_columns": null,
            "margin": null,
            "display": null,
            "left": null
          }
        },
        "7bb07044fa374453b4f78615104dcf33": {
          "model_module": "@jupyter-widgets/controls",
          "model_name": "ProgressStyleModel",
          "model_module_version": "1.5.0",
          "state": {
            "_view_name": "StyleView",
            "_model_name": "ProgressStyleModel",
            "description_width": "",
            "_view_module": "@jupyter-widgets/base",
            "_model_module_version": "1.5.0",
            "_view_count": null,
            "_view_module_version": "1.2.0",
            "bar_color": null,
            "_model_module": "@jupyter-widgets/controls"
          }
        },
        "e44e5dd20ecf48839545679fa79251c7": {
          "model_module": "@jupyter-widgets/base",
          "model_name": "LayoutModel",
          "model_module_version": "1.2.0",
          "state": {
            "_view_name": "LayoutView",
            "grid_template_rows": null,
            "right": null,
            "justify_content": null,
            "_view_module": "@jupyter-widgets/base",
            "overflow": null,
            "_model_module_version": "1.2.0",
            "_view_count": null,
            "flex_flow": null,
            "width": "20px",
            "min_width": null,
            "border": null,
            "align_items": null,
            "bottom": null,
            "_model_module": "@jupyter-widgets/base",
            "top": null,
            "grid_column": null,
            "overflow_y": null,
            "overflow_x": null,
            "grid_auto_flow": null,
            "grid_area": null,
            "grid_template_columns": null,
            "flex": null,
            "_model_name": "LayoutModel",
            "justify_items": null,
            "grid_row": null,
            "max_height": null,
            "align_content": null,
            "visibility": null,
            "align_self": null,
            "height": null,
            "min_height": null,
            "padding": null,
            "grid_auto_rows": null,
            "grid_gap": null,
            "max_width": null,
            "order": null,
            "_view_module_version": "1.2.0",
            "grid_template_areas": null,
            "object_position": null,
            "object_fit": null,
            "grid_auto_columns": null,
            "margin": null,
            "display": null,
            "left": null
          }
        },
        "6ade91c6eeff4c9fa4fbe704214dbb3c": {
          "model_module": "@jupyter-widgets/controls",
          "model_name": "DescriptionStyleModel",
          "model_module_version": "1.5.0",
          "state": {
            "_view_name": "StyleView",
            "_model_name": "DescriptionStyleModel",
            "description_width": "",
            "_view_module": "@jupyter-widgets/base",
            "_model_module_version": "1.5.0",
            "_view_count": null,
            "_view_module_version": "1.2.0",
            "_model_module": "@jupyter-widgets/controls"
          }
        },
        "d8b7e0f97c144413857241bba8b34f2b": {
          "model_module": "@jupyter-widgets/base",
          "model_name": "LayoutModel",
          "model_module_version": "1.2.0",
          "state": {
            "_view_name": "LayoutView",
            "grid_template_rows": null,
            "right": null,
            "justify_content": null,
            "_view_module": "@jupyter-widgets/base",
            "overflow": null,
            "_model_module_version": "1.2.0",
            "_view_count": null,
            "flex_flow": null,
            "width": null,
            "min_width": null,
            "border": null,
            "align_items": null,
            "bottom": null,
            "_model_module": "@jupyter-widgets/base",
            "top": null,
            "grid_column": null,
            "overflow_y": null,
            "overflow_x": null,
            "grid_auto_flow": null,
            "grid_area": null,
            "grid_template_columns": null,
            "flex": null,
            "_model_name": "LayoutModel",
            "justify_items": null,
            "grid_row": null,
            "max_height": null,
            "align_content": null,
            "visibility": null,
            "align_self": null,
            "height": null,
            "min_height": null,
            "padding": null,
            "grid_auto_rows": null,
            "grid_gap": null,
            "max_width": null,
            "order": null,
            "_view_module_version": "1.2.0",
            "grid_template_areas": null,
            "object_position": null,
            "object_fit": null,
            "grid_auto_columns": null,
            "margin": null,
            "display": null,
            "left": null
          }
        },
        "302607b66c9443d1b380e9cc7655c330": {
          "model_module": "@jupyter-widgets/controls",
          "model_name": "HBoxModel",
          "model_module_version": "1.5.0",
          "state": {
            "_view_name": "HBoxView",
            "_dom_classes": [],
            "_model_name": "HBoxModel",
            "_view_module": "@jupyter-widgets/controls",
            "_model_module_version": "1.5.0",
            "_view_count": null,
            "_view_module_version": "1.5.0",
            "box_style": "",
            "layout": "IPY_MODEL_282420554b944b4596b892aa3bdf9ce5",
            "_model_module": "@jupyter-widgets/controls",
            "children": [
              "IPY_MODEL_27fedff0129843ec9bf60f6eedec9b99",
              "IPY_MODEL_237b41c7a04c4ae0b656f05e06cf821a",
              "IPY_MODEL_37590ef2cbb24caaa1ca47956337e8ac"
            ]
          }
        },
        "282420554b944b4596b892aa3bdf9ce5": {
          "model_module": "@jupyter-widgets/base",
          "model_name": "LayoutModel",
          "model_module_version": "1.2.0",
          "state": {
            "_view_name": "LayoutView",
            "grid_template_rows": null,
            "right": null,
            "justify_content": null,
            "_view_module": "@jupyter-widgets/base",
            "overflow": null,
            "_model_module_version": "1.2.0",
            "_view_count": null,
            "flex_flow": null,
            "width": null,
            "min_width": null,
            "border": null,
            "align_items": null,
            "bottom": null,
            "_model_module": "@jupyter-widgets/base",
            "top": null,
            "grid_column": null,
            "overflow_y": null,
            "overflow_x": null,
            "grid_auto_flow": null,
            "grid_area": null,
            "grid_template_columns": null,
            "flex": null,
            "_model_name": "LayoutModel",
            "justify_items": null,
            "grid_row": null,
            "max_height": null,
            "align_content": null,
            "visibility": null,
            "align_self": null,
            "height": null,
            "min_height": null,
            "padding": null,
            "grid_auto_rows": null,
            "grid_gap": null,
            "max_width": null,
            "order": null,
            "_view_module_version": "1.2.0",
            "grid_template_areas": null,
            "object_position": null,
            "object_fit": null,
            "grid_auto_columns": null,
            "margin": null,
            "display": null,
            "left": null
          }
        },
        "27fedff0129843ec9bf60f6eedec9b99": {
          "model_module": "@jupyter-widgets/controls",
          "model_name": "HTMLModel",
          "model_module_version": "1.5.0",
          "state": {
            "_view_name": "HTMLView",
            "style": "IPY_MODEL_5ee702efd882479883ef188e95403b92",
            "_dom_classes": [],
            "description": "",
            "_model_name": "HTMLModel",
            "placeholder": "​",
            "_view_module": "@jupyter-widgets/controls",
            "_model_module_version": "1.5.0",
            "value": "",
            "_view_count": null,
            "_view_module_version": "1.5.0",
            "description_tooltip": null,
            "_model_module": "@jupyter-widgets/controls",
            "layout": "IPY_MODEL_64000ae6226c4a93b4a77a017fe5f054"
          }
        },
        "237b41c7a04c4ae0b656f05e06cf821a": {
          "model_module": "@jupyter-widgets/controls",
          "model_name": "FloatProgressModel",
          "model_module_version": "1.5.0",
          "state": {
            "_view_name": "ProgressView",
            "style": "IPY_MODEL_89532c023f4041bb89131b8c524c9b72",
            "_dom_classes": [],
            "description": "",
            "_model_name": "FloatProgressModel",
            "bar_style": "info",
            "max": 1,
            "_view_module": "@jupyter-widgets/controls",
            "_model_module_version": "1.5.0",
            "value": 1,
            "_view_count": null,
            "_view_module_version": "1.5.0",
            "orientation": "horizontal",
            "min": 0,
            "description_tooltip": null,
            "_model_module": "@jupyter-widgets/controls",
            "layout": "IPY_MODEL_61c4bd5c9a114cfaa68d39fe0fe42792"
          }
        },
        "37590ef2cbb24caaa1ca47956337e8ac": {
          "model_module": "@jupyter-widgets/controls",
          "model_name": "HTMLModel",
          "model_module_version": "1.5.0",
          "state": {
            "_view_name": "HTMLView",
            "style": "IPY_MODEL_a36cdaf472214ee5b7e3e15f0785452c",
            "_dom_classes": [],
            "description": "",
            "_model_name": "HTMLModel",
            "placeholder": "​",
            "_view_module": "@jupyter-widgets/controls",
            "_model_module_version": "1.5.0",
            "value": " 24978/0 [00:02&lt;00:00, 11568.42 examples/s]",
            "_view_count": null,
            "_view_module_version": "1.5.0",
            "description_tooltip": null,
            "_model_module": "@jupyter-widgets/controls",
            "layout": "IPY_MODEL_bffbe1f82537413bbae9cf265adfe903"
          }
        },
        "5ee702efd882479883ef188e95403b92": {
          "model_module": "@jupyter-widgets/controls",
          "model_name": "DescriptionStyleModel",
          "model_module_version": "1.5.0",
          "state": {
            "_view_name": "StyleView",
            "_model_name": "DescriptionStyleModel",
            "description_width": "",
            "_view_module": "@jupyter-widgets/base",
            "_model_module_version": "1.5.0",
            "_view_count": null,
            "_view_module_version": "1.2.0",
            "_model_module": "@jupyter-widgets/controls"
          }
        },
        "64000ae6226c4a93b4a77a017fe5f054": {
          "model_module": "@jupyter-widgets/base",
          "model_name": "LayoutModel",
          "model_module_version": "1.2.0",
          "state": {
            "_view_name": "LayoutView",
            "grid_template_rows": null,
            "right": null,
            "justify_content": null,
            "_view_module": "@jupyter-widgets/base",
            "overflow": null,
            "_model_module_version": "1.2.0",
            "_view_count": null,
            "flex_flow": null,
            "width": null,
            "min_width": null,
            "border": null,
            "align_items": null,
            "bottom": null,
            "_model_module": "@jupyter-widgets/base",
            "top": null,
            "grid_column": null,
            "overflow_y": null,
            "overflow_x": null,
            "grid_auto_flow": null,
            "grid_area": null,
            "grid_template_columns": null,
            "flex": null,
            "_model_name": "LayoutModel",
            "justify_items": null,
            "grid_row": null,
            "max_height": null,
            "align_content": null,
            "visibility": null,
            "align_self": null,
            "height": null,
            "min_height": null,
            "padding": null,
            "grid_auto_rows": null,
            "grid_gap": null,
            "max_width": null,
            "order": null,
            "_view_module_version": "1.2.0",
            "grid_template_areas": null,
            "object_position": null,
            "object_fit": null,
            "grid_auto_columns": null,
            "margin": null,
            "display": null,
            "left": null
          }
        },
        "89532c023f4041bb89131b8c524c9b72": {
          "model_module": "@jupyter-widgets/controls",
          "model_name": "ProgressStyleModel",
          "model_module_version": "1.5.0",
          "state": {
            "_view_name": "StyleView",
            "_model_name": "ProgressStyleModel",
            "description_width": "",
            "_view_module": "@jupyter-widgets/base",
            "_model_module_version": "1.5.0",
            "_view_count": null,
            "_view_module_version": "1.2.0",
            "bar_color": null,
            "_model_module": "@jupyter-widgets/controls"
          }
        },
        "61c4bd5c9a114cfaa68d39fe0fe42792": {
          "model_module": "@jupyter-widgets/base",
          "model_name": "LayoutModel",
          "model_module_version": "1.2.0",
          "state": {
            "_view_name": "LayoutView",
            "grid_template_rows": null,
            "right": null,
            "justify_content": null,
            "_view_module": "@jupyter-widgets/base",
            "overflow": null,
            "_model_module_version": "1.2.0",
            "_view_count": null,
            "flex_flow": null,
            "width": "20px",
            "min_width": null,
            "border": null,
            "align_items": null,
            "bottom": null,
            "_model_module": "@jupyter-widgets/base",
            "top": null,
            "grid_column": null,
            "overflow_y": null,
            "overflow_x": null,
            "grid_auto_flow": null,
            "grid_area": null,
            "grid_template_columns": null,
            "flex": null,
            "_model_name": "LayoutModel",
            "justify_items": null,
            "grid_row": null,
            "max_height": null,
            "align_content": null,
            "visibility": null,
            "align_self": null,
            "height": null,
            "min_height": null,
            "padding": null,
            "grid_auto_rows": null,
            "grid_gap": null,
            "max_width": null,
            "order": null,
            "_view_module_version": "1.2.0",
            "grid_template_areas": null,
            "object_position": null,
            "object_fit": null,
            "grid_auto_columns": null,
            "margin": null,
            "display": null,
            "left": null
          }
        },
        "a36cdaf472214ee5b7e3e15f0785452c": {
          "model_module": "@jupyter-widgets/controls",
          "model_name": "DescriptionStyleModel",
          "model_module_version": "1.5.0",
          "state": {
            "_view_name": "StyleView",
            "_model_name": "DescriptionStyleModel",
            "description_width": "",
            "_view_module": "@jupyter-widgets/base",
            "_model_module_version": "1.5.0",
            "_view_count": null,
            "_view_module_version": "1.2.0",
            "_model_module": "@jupyter-widgets/controls"
          }
        },
        "bffbe1f82537413bbae9cf265adfe903": {
          "model_module": "@jupyter-widgets/base",
          "model_name": "LayoutModel",
          "model_module_version": "1.2.0",
          "state": {
            "_view_name": "LayoutView",
            "grid_template_rows": null,
            "right": null,
            "justify_content": null,
            "_view_module": "@jupyter-widgets/base",
            "overflow": null,
            "_model_module_version": "1.2.0",
            "_view_count": null,
            "flex_flow": null,
            "width": null,
            "min_width": null,
            "border": null,
            "align_items": null,
            "bottom": null,
            "_model_module": "@jupyter-widgets/base",
            "top": null,
            "grid_column": null,
            "overflow_y": null,
            "overflow_x": null,
            "grid_auto_flow": null,
            "grid_area": null,
            "grid_template_columns": null,
            "flex": null,
            "_model_name": "LayoutModel",
            "justify_items": null,
            "grid_row": null,
            "max_height": null,
            "align_content": null,
            "visibility": null,
            "align_self": null,
            "height": null,
            "min_height": null,
            "padding": null,
            "grid_auto_rows": null,
            "grid_gap": null,
            "max_width": null,
            "order": null,
            "_view_module_version": "1.2.0",
            "grid_template_areas": null,
            "object_position": null,
            "object_fit": null,
            "grid_auto_columns": null,
            "margin": null,
            "display": null,
            "left": null
          }
        },
        "ae2d52a503b04542bfafacd5582ff0f3": {
          "model_module": "@jupyter-widgets/controls",
          "model_name": "HBoxModel",
          "model_module_version": "1.5.0",
          "state": {
            "_view_name": "HBoxView",
            "_dom_classes": [],
            "_model_name": "HBoxModel",
            "_view_module": "@jupyter-widgets/controls",
            "_model_module_version": "1.5.0",
            "_view_count": null,
            "_view_module_version": "1.5.0",
            "box_style": "",
            "layout": "IPY_MODEL_ca0d82b68c754df4bcc265b87797effa",
            "_model_module": "@jupyter-widgets/controls",
            "children": [
              "IPY_MODEL_1623c4031d89400ca3377be991be357a",
              "IPY_MODEL_db723fb7a99443f7a51a78028f81e6e0",
              "IPY_MODEL_6e44dbe8171749319edd7e7e0d2d8da0"
            ]
          }
        },
        "ca0d82b68c754df4bcc265b87797effa": {
          "model_module": "@jupyter-widgets/base",
          "model_name": "LayoutModel",
          "model_module_version": "1.2.0",
          "state": {
            "_view_name": "LayoutView",
            "grid_template_rows": null,
            "right": null,
            "justify_content": null,
            "_view_module": "@jupyter-widgets/base",
            "overflow": null,
            "_model_module_version": "1.2.0",
            "_view_count": null,
            "flex_flow": null,
            "width": null,
            "min_width": null,
            "border": null,
            "align_items": null,
            "bottom": null,
            "_model_module": "@jupyter-widgets/base",
            "top": null,
            "grid_column": null,
            "overflow_y": null,
            "overflow_x": null,
            "grid_auto_flow": null,
            "grid_area": null,
            "grid_template_columns": null,
            "flex": null,
            "_model_name": "LayoutModel",
            "justify_items": null,
            "grid_row": null,
            "max_height": null,
            "align_content": null,
            "visibility": null,
            "align_self": null,
            "height": null,
            "min_height": null,
            "padding": null,
            "grid_auto_rows": null,
            "grid_gap": null,
            "max_width": null,
            "order": null,
            "_view_module_version": "1.2.0",
            "grid_template_areas": null,
            "object_position": null,
            "object_fit": null,
            "grid_auto_columns": null,
            "margin": null,
            "display": null,
            "left": null
          }
        },
        "1623c4031d89400ca3377be991be357a": {
          "model_module": "@jupyter-widgets/controls",
          "model_name": "HTMLModel",
          "model_module_version": "1.5.0",
          "state": {
            "_view_name": "HTMLView",
            "style": "IPY_MODEL_6573506d9eb6447f9bfd344fe4dfffad",
            "_dom_classes": [],
            "description": "",
            "_model_name": "HTMLModel",
            "placeholder": "​",
            "_view_module": "@jupyter-widgets/controls",
            "_model_module_version": "1.5.0",
            "value": "",
            "_view_count": null,
            "_view_module_version": "1.5.0",
            "description_tooltip": null,
            "_model_module": "@jupyter-widgets/controls",
            "layout": "IPY_MODEL_a3f85f9359fc4c2ea099420123d46499"
          }
        },
        "db723fb7a99443f7a51a78028f81e6e0": {
          "model_module": "@jupyter-widgets/controls",
          "model_name": "FloatProgressModel",
          "model_module_version": "1.5.0",
          "state": {
            "_view_name": "ProgressView",
            "style": "IPY_MODEL_6ab1eba808d04f2d90517a1444723ac5",
            "_dom_classes": [],
            "description": "",
            "_model_name": "FloatProgressModel",
            "bar_style": "info",
            "max": 1,
            "_view_module": "@jupyter-widgets/controls",
            "_model_module_version": "1.5.0",
            "value": 1,
            "_view_count": null,
            "_view_module_version": "1.5.0",
            "orientation": "horizontal",
            "min": 0,
            "description_tooltip": null,
            "_model_module": "@jupyter-widgets/controls",
            "layout": "IPY_MODEL_b4127a84afe74378b9cdfdc6a79767fd"
          }
        },
        "6e44dbe8171749319edd7e7e0d2d8da0": {
          "model_module": "@jupyter-widgets/controls",
          "model_name": "HTMLModel",
          "model_module_version": "1.5.0",
          "state": {
            "_view_name": "HTMLView",
            "style": "IPY_MODEL_1b25981d276a4ede9f9389567020a16e",
            "_dom_classes": [],
            "description": "",
            "_model_name": "HTMLModel",
            "placeholder": "​",
            "_view_module": "@jupyter-widgets/controls",
            "_model_module_version": "1.5.0",
            "value": " 49121/0 [00:04&lt;00:00, 10782.77 examples/s]",
            "_view_count": null,
            "_view_module_version": "1.5.0",
            "description_tooltip": null,
            "_model_module": "@jupyter-widgets/controls",
            "layout": "IPY_MODEL_462f32974f35441da960eba400c1ae60"
          }
        },
        "6573506d9eb6447f9bfd344fe4dfffad": {
          "model_module": "@jupyter-widgets/controls",
          "model_name": "DescriptionStyleModel",
          "model_module_version": "1.5.0",
          "state": {
            "_view_name": "StyleView",
            "_model_name": "DescriptionStyleModel",
            "description_width": "",
            "_view_module": "@jupyter-widgets/base",
            "_model_module_version": "1.5.0",
            "_view_count": null,
            "_view_module_version": "1.2.0",
            "_model_module": "@jupyter-widgets/controls"
          }
        },
        "a3f85f9359fc4c2ea099420123d46499": {
          "model_module": "@jupyter-widgets/base",
          "model_name": "LayoutModel",
          "model_module_version": "1.2.0",
          "state": {
            "_view_name": "LayoutView",
            "grid_template_rows": null,
            "right": null,
            "justify_content": null,
            "_view_module": "@jupyter-widgets/base",
            "overflow": null,
            "_model_module_version": "1.2.0",
            "_view_count": null,
            "flex_flow": null,
            "width": null,
            "min_width": null,
            "border": null,
            "align_items": null,
            "bottom": null,
            "_model_module": "@jupyter-widgets/base",
            "top": null,
            "grid_column": null,
            "overflow_y": null,
            "overflow_x": null,
            "grid_auto_flow": null,
            "grid_area": null,
            "grid_template_columns": null,
            "flex": null,
            "_model_name": "LayoutModel",
            "justify_items": null,
            "grid_row": null,
            "max_height": null,
            "align_content": null,
            "visibility": null,
            "align_self": null,
            "height": null,
            "min_height": null,
            "padding": null,
            "grid_auto_rows": null,
            "grid_gap": null,
            "max_width": null,
            "order": null,
            "_view_module_version": "1.2.0",
            "grid_template_areas": null,
            "object_position": null,
            "object_fit": null,
            "grid_auto_columns": null,
            "margin": null,
            "display": null,
            "left": null
          }
        },
        "6ab1eba808d04f2d90517a1444723ac5": {
          "model_module": "@jupyter-widgets/controls",
          "model_name": "ProgressStyleModel",
          "model_module_version": "1.5.0",
          "state": {
            "_view_name": "StyleView",
            "_model_name": "ProgressStyleModel",
            "description_width": "",
            "_view_module": "@jupyter-widgets/base",
            "_model_module_version": "1.5.0",
            "_view_count": null,
            "_view_module_version": "1.2.0",
            "bar_color": null,
            "_model_module": "@jupyter-widgets/controls"
          }
        },
        "b4127a84afe74378b9cdfdc6a79767fd": {
          "model_module": "@jupyter-widgets/base",
          "model_name": "LayoutModel",
          "model_module_version": "1.2.0",
          "state": {
            "_view_name": "LayoutView",
            "grid_template_rows": null,
            "right": null,
            "justify_content": null,
            "_view_module": "@jupyter-widgets/base",
            "overflow": null,
            "_model_module_version": "1.2.0",
            "_view_count": null,
            "flex_flow": null,
            "width": "20px",
            "min_width": null,
            "border": null,
            "align_items": null,
            "bottom": null,
            "_model_module": "@jupyter-widgets/base",
            "top": null,
            "grid_column": null,
            "overflow_y": null,
            "overflow_x": null,
            "grid_auto_flow": null,
            "grid_area": null,
            "grid_template_columns": null,
            "flex": null,
            "_model_name": "LayoutModel",
            "justify_items": null,
            "grid_row": null,
            "max_height": null,
            "align_content": null,
            "visibility": null,
            "align_self": null,
            "height": null,
            "min_height": null,
            "padding": null,
            "grid_auto_rows": null,
            "grid_gap": null,
            "max_width": null,
            "order": null,
            "_view_module_version": "1.2.0",
            "grid_template_areas": null,
            "object_position": null,
            "object_fit": null,
            "grid_auto_columns": null,
            "margin": null,
            "display": null,
            "left": null
          }
        },
        "1b25981d276a4ede9f9389567020a16e": {
          "model_module": "@jupyter-widgets/controls",
          "model_name": "DescriptionStyleModel",
          "model_module_version": "1.5.0",
          "state": {
            "_view_name": "StyleView",
            "_model_name": "DescriptionStyleModel",
            "description_width": "",
            "_view_module": "@jupyter-widgets/base",
            "_model_module_version": "1.5.0",
            "_view_count": null,
            "_view_module_version": "1.2.0",
            "_model_module": "@jupyter-widgets/controls"
          }
        },
        "462f32974f35441da960eba400c1ae60": {
          "model_module": "@jupyter-widgets/base",
          "model_name": "LayoutModel",
          "model_module_version": "1.2.0",
          "state": {
            "_view_name": "LayoutView",
            "grid_template_rows": null,
            "right": null,
            "justify_content": null,
            "_view_module": "@jupyter-widgets/base",
            "overflow": null,
            "_model_module_version": "1.2.0",
            "_view_count": null,
            "flex_flow": null,
            "width": null,
            "min_width": null,
            "border": null,
            "align_items": null,
            "bottom": null,
            "_model_module": "@jupyter-widgets/base",
            "top": null,
            "grid_column": null,
            "overflow_y": null,
            "overflow_x": null,
            "grid_auto_flow": null,
            "grid_area": null,
            "grid_template_columns": null,
            "flex": null,
            "_model_name": "LayoutModel",
            "justify_items": null,
            "grid_row": null,
            "max_height": null,
            "align_content": null,
            "visibility": null,
            "align_self": null,
            "height": null,
            "min_height": null,
            "padding": null,
            "grid_auto_rows": null,
            "grid_gap": null,
            "max_width": null,
            "order": null,
            "_view_module_version": "1.2.0",
            "grid_template_areas": null,
            "object_position": null,
            "object_fit": null,
            "grid_auto_columns": null,
            "margin": null,
            "display": null,
            "left": null
          }
        }
      }
    }
  },
  "cells": [
    {
      "cell_type": "markdown",
      "metadata": {
        "id": "78zNROnxHfJJ"
      },
      "source": [
        "# Import libraries and dataset"
      ]
    },
    {
      "cell_type": "markdown",
      "metadata": {
        "id": "2Bb9rRGkqDPF"
      },
      "source": [
        "We import the necessary libraries"
      ]
    },
    {
      "cell_type": "code",
      "metadata": {
        "id": "go39gIe-u1Qf"
      },
      "source": [
        "import numpy as np\n",
        "import pandas as pd"
      ],
      "execution_count": 1,
      "outputs": []
    },
    {
      "cell_type": "markdown",
      "metadata": {
        "id": "WYvWJ5Rqp_BU"
      },
      "source": [
        "We load the IMDB dataset from Huggingface."
      ]
    },
    {
      "cell_type": "code",
      "metadata": {
        "colab": {
          "base_uri": "https://localhost:8080/",
          "height": 1000,
          "referenced_widgets": [
            "359a660ef67842008b50031a912983c3",
            "563fe0a345e74922889ae8f2fcf3ab73",
            "a836b1c7c8434be1b1dbc83286a597e2",
            "75a14983356e44ca9619271080ced943",
            "ed718d7b1a854e9cb91af5bf7bd3c395",
            "7e80658cea364f36b04f9e0ebfe6dad6",
            "c66b484fddc44874b7e0da0a42b10ff4",
            "afb021ae92634ea29b4dc77c1a86e4b1",
            "40940e864c284fcf8803c3b31a9e0dc6",
            "aa3bec4de94b476fb1509893bb12d962",
            "a9a0e5a2845649fe9da27f50d80e447d",
            "1202fcd7654248afa0775cae42bdb5c2",
            "acd5716dc0a64d1ab1abe08a92d92ee4",
            "a1085c4fc0a043f288b4cc7516c0670b",
            "2bdf98d5fe1c456887fca9d579e01fb6",
            "1aedde716d8b42299b3aa6f00c07e6fa",
            "60fdd9fb275c4dcca3eef87d2d70279a",
            "4b1d361f79354f65805e46bd27803b0d",
            "3e443f22b07848f9a9966fb5f81b4580",
            "97e9698fbf1e47ca954e97580f34eaa3",
            "ca827d5905ce496c961b3874eb57a1b2",
            "3f5513459ff342759e7933cd2e2aade1",
            "09fc1a265d3741f18c3a8a4d251972f3",
            "8c8bd6aff53240e690a03d7708051d30",
            "3d363f9395824a4db8427d4a39384615",
            "46f6979f477848a581fe0a1960845635",
            "6d37325622134e3da0c36bf5d4b6b02d",
            "6a6234591e0b4a5db2f3d7c9a3862338",
            "e3926b2e1f6f47e2b29c3d882521d293",
            "85f043a8c9044068a1a57a193374a232",
            "06ab07b4e1b140ec8c0e6a6b887cfa77",
            "845da737d7e84c2eb8d79237fa58cd60",
            "004274dc12004d1a8e23a1fbbaf962dc",
            "67e4060e79b343c18d5b5389f6c8a2c3",
            "da2e43ff2ed042b1aea251c796c91282",
            "a5eef0fb4fc3488ba9cacbb8d689653c",
            "51261a871b99421f86d4cf32613f6735",
            "8ebc98fd22a742f1aa1139798c579e4a",
            "5d29b9499d574e208c5b57f3a28a3204",
            "7024c10ca788454496027b9d9846da5f",
            "7bb07044fa374453b4f78615104dcf33",
            "e44e5dd20ecf48839545679fa79251c7",
            "6ade91c6eeff4c9fa4fbe704214dbb3c",
            "d8b7e0f97c144413857241bba8b34f2b",
            "302607b66c9443d1b380e9cc7655c330",
            "282420554b944b4596b892aa3bdf9ce5",
            "27fedff0129843ec9bf60f6eedec9b99",
            "237b41c7a04c4ae0b656f05e06cf821a",
            "37590ef2cbb24caaa1ca47956337e8ac",
            "5ee702efd882479883ef188e95403b92",
            "64000ae6226c4a93b4a77a017fe5f054",
            "89532c023f4041bb89131b8c524c9b72",
            "61c4bd5c9a114cfaa68d39fe0fe42792",
            "a36cdaf472214ee5b7e3e15f0785452c",
            "bffbe1f82537413bbae9cf265adfe903",
            "ae2d52a503b04542bfafacd5582ff0f3",
            "ca0d82b68c754df4bcc265b87797effa",
            "1623c4031d89400ca3377be991be357a",
            "db723fb7a99443f7a51a78028f81e6e0",
            "6e44dbe8171749319edd7e7e0d2d8da0",
            "6573506d9eb6447f9bfd344fe4dfffad",
            "a3f85f9359fc4c2ea099420123d46499",
            "6ab1eba808d04f2d90517a1444723ac5",
            "b4127a84afe74378b9cdfdc6a79767fd",
            "1b25981d276a4ede9f9389567020a16e",
            "462f32974f35441da960eba400c1ae60"
          ]
        },
        "id": "nU2IJ-hqu3T3",
        "outputId": "d5b126db-5105-456e-e974-35381da83cd1"
      },
      "source": [
        "!pip install datasets\n",
        "from datasets import load_dataset\n",
        "dataset_train = load_dataset('imdb', split='train')\n",
        "dataset_test = load_dataset('imdb', split='test')"
      ],
      "execution_count": 2,
      "outputs": [
        {
          "output_type": "stream",
          "name": "stdout",
          "text": [
            "Collecting datasets\n",
            "  Downloading datasets-1.12.1-py3-none-any.whl (270 kB)\n",
            "\u001b[?25l\r\u001b[K     |█▏                              | 10 kB 22.8 MB/s eta 0:00:01\r\u001b[K     |██▍                             | 20 kB 28.8 MB/s eta 0:00:01\r\u001b[K     |███▋                            | 30 kB 22.3 MB/s eta 0:00:01\r\u001b[K     |████▉                           | 40 kB 16.5 MB/s eta 0:00:01\r\u001b[K     |██████                          | 51 kB 14.5 MB/s eta 0:00:01\r\u001b[K     |███████▎                        | 61 kB 12.6 MB/s eta 0:00:01\r\u001b[K     |████████▌                       | 71 kB 12.3 MB/s eta 0:00:01\r\u001b[K     |█████████▊                      | 81 kB 13.4 MB/s eta 0:00:01\r\u001b[K     |███████████                     | 92 kB 13.4 MB/s eta 0:00:01\r\u001b[K     |████████████▏                   | 102 kB 10.9 MB/s eta 0:00:01\r\u001b[K     |█████████████▍                  | 112 kB 10.9 MB/s eta 0:00:01\r\u001b[K     |██████████████▋                 | 122 kB 10.9 MB/s eta 0:00:01\r\u001b[K     |███████████████▊                | 133 kB 10.9 MB/s eta 0:00:01\r\u001b[K     |█████████████████               | 143 kB 10.9 MB/s eta 0:00:01\r\u001b[K     |██████████████████▏             | 153 kB 10.9 MB/s eta 0:00:01\r\u001b[K     |███████████████████▍            | 163 kB 10.9 MB/s eta 0:00:01\r\u001b[K     |████████████████████▋           | 174 kB 10.9 MB/s eta 0:00:01\r\u001b[K     |█████████████████████▉          | 184 kB 10.9 MB/s eta 0:00:01\r\u001b[K     |███████████████████████         | 194 kB 10.9 MB/s eta 0:00:01\r\u001b[K     |████████████████████████▎       | 204 kB 10.9 MB/s eta 0:00:01\r\u001b[K     |█████████████████████████▌      | 215 kB 10.9 MB/s eta 0:00:01\r\u001b[K     |██████████████████████████▊     | 225 kB 10.9 MB/s eta 0:00:01\r\u001b[K     |████████████████████████████    | 235 kB 10.9 MB/s eta 0:00:01\r\u001b[K     |█████████████████████████████▏  | 245 kB 10.9 MB/s eta 0:00:01\r\u001b[K     |██████████████████████████████▍ | 256 kB 10.9 MB/s eta 0:00:01\r\u001b[K     |███████████████████████████████▌| 266 kB 10.9 MB/s eta 0:00:01\r\u001b[K     |████████████████████████████████| 270 kB 10.9 MB/s \n",
            "\u001b[?25hRequirement already satisfied: requests>=2.19.0 in /usr/local/lib/python3.7/dist-packages (from datasets) (2.23.0)\n",
            "Collecting xxhash\n",
            "  Downloading xxhash-2.0.2-cp37-cp37m-manylinux2010_x86_64.whl (243 kB)\n",
            "\u001b[K     |████████████████████████████████| 243 kB 44.6 MB/s \n",
            "\u001b[?25hRequirement already satisfied: pyarrow!=4.0.0,>=1.0.0 in /usr/local/lib/python3.7/dist-packages (from datasets) (3.0.0)\n",
            "Requirement already satisfied: numpy>=1.17 in /usr/local/lib/python3.7/dist-packages (from datasets) (1.19.5)\n",
            "Collecting aiohttp\n",
            "  Downloading aiohttp-3.7.4.post0-cp37-cp37m-manylinux2014_x86_64.whl (1.3 MB)\n",
            "\u001b[K     |████████████████████████████████| 1.3 MB 40.5 MB/s \n",
            "\u001b[?25hRequirement already satisfied: pandas in /usr/local/lib/python3.7/dist-packages (from datasets) (1.1.5)\n",
            "Collecting fsspec[http]>=2021.05.0\n",
            "  Downloading fsspec-2021.10.0-py3-none-any.whl (125 kB)\n",
            "\u001b[K     |████████████████████████████████| 125 kB 46.1 MB/s \n",
            "\u001b[?25hCollecting huggingface-hub<0.1.0,>=0.0.14\n",
            "  Downloading huggingface_hub-0.0.17-py3-none-any.whl (52 kB)\n",
            "\u001b[K     |████████████████████████████████| 52 kB 1.6 MB/s \n",
            "\u001b[?25hRequirement already satisfied: dill in /usr/local/lib/python3.7/dist-packages (from datasets) (0.3.4)\n",
            "Requirement already satisfied: importlib-metadata in /usr/local/lib/python3.7/dist-packages (from datasets) (4.8.1)\n",
            "Requirement already satisfied: packaging in /usr/local/lib/python3.7/dist-packages (from datasets) (21.0)\n",
            "Requirement already satisfied: tqdm>=4.62.1 in /usr/local/lib/python3.7/dist-packages (from datasets) (4.62.3)\n",
            "Requirement already satisfied: multiprocess in /usr/local/lib/python3.7/dist-packages (from datasets) (0.70.12.2)\n",
            "Requirement already satisfied: typing-extensions in /usr/local/lib/python3.7/dist-packages (from huggingface-hub<0.1.0,>=0.0.14->datasets) (3.7.4.3)\n",
            "Requirement already satisfied: filelock in /usr/local/lib/python3.7/dist-packages (from huggingface-hub<0.1.0,>=0.0.14->datasets) (3.0.12)\n",
            "Requirement already satisfied: pyparsing>=2.0.2 in /usr/local/lib/python3.7/dist-packages (from packaging->datasets) (2.4.7)\n",
            "Requirement already satisfied: urllib3!=1.25.0,!=1.25.1,<1.26,>=1.21.1 in /usr/local/lib/python3.7/dist-packages (from requests>=2.19.0->datasets) (1.24.3)\n",
            "Requirement already satisfied: chardet<4,>=3.0.2 in /usr/local/lib/python3.7/dist-packages (from requests>=2.19.0->datasets) (3.0.4)\n",
            "Requirement already satisfied: idna<3,>=2.5 in /usr/local/lib/python3.7/dist-packages (from requests>=2.19.0->datasets) (2.10)\n",
            "Requirement already satisfied: certifi>=2017.4.17 in /usr/local/lib/python3.7/dist-packages (from requests>=2.19.0->datasets) (2021.5.30)\n",
            "Collecting async-timeout<4.0,>=3.0\n",
            "  Downloading async_timeout-3.0.1-py3-none-any.whl (8.2 kB)\n",
            "Collecting yarl<2.0,>=1.0\n",
            "  Downloading yarl-1.6.3-cp37-cp37m-manylinux2014_x86_64.whl (294 kB)\n",
            "\u001b[K     |████████████████████████████████| 294 kB 54.9 MB/s \n",
            "\u001b[?25hCollecting multidict<7.0,>=4.5\n",
            "  Downloading multidict-5.2.0-cp37-cp37m-manylinux_2_5_x86_64.manylinux1_x86_64.manylinux_2_12_x86_64.manylinux2010_x86_64.whl (160 kB)\n",
            "\u001b[K     |████████████████████████████████| 160 kB 47.8 MB/s \n",
            "\u001b[?25hRequirement already satisfied: attrs>=17.3.0 in /usr/local/lib/python3.7/dist-packages (from aiohttp->datasets) (21.2.0)\n",
            "Requirement already satisfied: zipp>=0.5 in /usr/local/lib/python3.7/dist-packages (from importlib-metadata->datasets) (3.5.0)\n",
            "Requirement already satisfied: pytz>=2017.2 in /usr/local/lib/python3.7/dist-packages (from pandas->datasets) (2018.9)\n",
            "Requirement already satisfied: python-dateutil>=2.7.3 in /usr/local/lib/python3.7/dist-packages (from pandas->datasets) (2.8.2)\n",
            "Requirement already satisfied: six>=1.5 in /usr/local/lib/python3.7/dist-packages (from python-dateutil>=2.7.3->pandas->datasets) (1.15.0)\n",
            "Installing collected packages: multidict, yarl, async-timeout, fsspec, aiohttp, xxhash, huggingface-hub, datasets\n",
            "Successfully installed aiohttp-3.7.4.post0 async-timeout-3.0.1 datasets-1.12.1 fsspec-2021.10.0 huggingface-hub-0.0.17 multidict-5.2.0 xxhash-2.0.2 yarl-1.6.3\n"
          ]
        },
        {
          "output_type": "display_data",
          "data": {
            "application/vnd.jupyter.widget-view+json": {
              "model_id": "359a660ef67842008b50031a912983c3",
              "version_minor": 0,
              "version_major": 2
            },
            "text/plain": [
              "Downloading:   0%|          | 0.00/1.92k [00:00<?, ?B/s]"
            ]
          },
          "metadata": {}
        },
        {
          "output_type": "display_data",
          "data": {
            "application/vnd.jupyter.widget-view+json": {
              "model_id": "1202fcd7654248afa0775cae42bdb5c2",
              "version_minor": 0,
              "version_major": 2
            },
            "text/plain": [
              "Downloading:   0%|          | 0.00/1.05k [00:00<?, ?B/s]"
            ]
          },
          "metadata": {}
        },
        {
          "output_type": "stream",
          "name": "stdout",
          "text": [
            "Downloading and preparing dataset imdb/plain_text (download: 80.23 MiB, generated: 127.02 MiB, post-processed: Unknown size, total: 207.25 MiB) to /root/.cache/huggingface/datasets/imdb/plain_text/1.0.0/e3c66f1788a67a89c7058d97ff62b6c30531e05b549de56d3ab91891f0561f9a...\n"
          ]
        },
        {
          "output_type": "display_data",
          "data": {
            "application/vnd.jupyter.widget-view+json": {
              "model_id": "09fc1a265d3741f18c3a8a4d251972f3",
              "version_minor": 0,
              "version_major": 2
            },
            "text/plain": [
              "Downloading:   0%|          | 0.00/84.1M [00:00<?, ?B/s]"
            ]
          },
          "metadata": {}
        },
        {
          "output_type": "display_data",
          "data": {
            "application/vnd.jupyter.widget-view+json": {
              "model_id": "67e4060e79b343c18d5b5389f6c8a2c3",
              "version_minor": 0,
              "version_major": 2
            },
            "text/plain": [
              "0 examples [00:00, ? examples/s]"
            ]
          },
          "metadata": {}
        },
        {
          "output_type": "display_data",
          "data": {
            "application/vnd.jupyter.widget-view+json": {
              "model_id": "302607b66c9443d1b380e9cc7655c330",
              "version_minor": 0,
              "version_major": 2
            },
            "text/plain": [
              "0 examples [00:00, ? examples/s]"
            ]
          },
          "metadata": {}
        },
        {
          "output_type": "display_data",
          "data": {
            "application/vnd.jupyter.widget-view+json": {
              "model_id": "ae2d52a503b04542bfafacd5582ff0f3",
              "version_minor": 0,
              "version_major": 2
            },
            "text/plain": [
              "0 examples [00:00, ? examples/s]"
            ]
          },
          "metadata": {}
        },
        {
          "output_type": "stream",
          "name": "stdout",
          "text": [
            "Dataset imdb downloaded and prepared to /root/.cache/huggingface/datasets/imdb/plain_text/1.0.0/e3c66f1788a67a89c7058d97ff62b6c30531e05b549de56d3ab91891f0561f9a. Subsequent calls will reuse this data.\n"
          ]
        },
        {
          "output_type": "stream",
          "name": "stderr",
          "text": [
            "Reusing dataset imdb (/root/.cache/huggingface/datasets/imdb/plain_text/1.0.0/e3c66f1788a67a89c7058d97ff62b6c30531e05b549de56d3ab91891f0561f9a)\n"
          ]
        }
      ]
    },
    {
      "cell_type": "markdown",
      "metadata": {
        "id": "f48LA3iXHiLE"
      },
      "source": [
        "# Preprocessing"
      ]
    },
    {
      "cell_type": "code",
      "metadata": {
        "id": "wngNmt6Y922L"
      },
      "source": [
        "import spacy\n",
        "\n",
        "# loading the small English model\n",
        "nlp = spacy.load(\"en_core_web_sm\", disable=[\"tagger\", \"parser\", \"lemmatizer\", \"ner\"])"
      ],
      "execution_count": 3,
      "outputs": []
    },
    {
      "cell_type": "markdown",
      "metadata": {
        "id": "xbJkjKIIqMP-"
      },
      "source": [
        "From the dataset we create our training and test data."
      ]
    },
    {
      "cell_type": "code",
      "metadata": {
        "colab": {
          "base_uri": "https://localhost:8080/"
        },
        "id": "tqrkf8Fdu5Jm",
        "outputId": "23255ac2-ffec-4108-ee87-ef136ad19c1f"
      },
      "source": [
        "x_train, y_train, x_test, y_test = dataset_train[:]['text'], dataset_train[:]['label'], dataset_test[:]['text'], dataset_test[:]['label']\n",
        "len(x_train)"
      ],
      "execution_count": 4,
      "outputs": [
        {
          "output_type": "execute_result",
          "data": {
            "text/plain": [
              "25000"
            ]
          },
          "metadata": {},
          "execution_count": 4
        }
      ]
    },
    {
      "cell_type": "code",
      "metadata": {
        "colab": {
          "base_uri": "https://localhost:8080/"
        },
        "id": "6_vBxXs1u6y6",
        "outputId": "6413029e-a7eb-4eeb-f592-9427d3840b57"
      },
      "source": [
        "# Remove\n",
        "\n",
        "from tqdm import tqdm\n",
        "import nltk\n",
        "from nltk.stem.snowball import SnowballStemmer\n",
        "from nltk.tokenize import word_tokenize\n",
        "import re\n",
        "nltk.download('punkt')\n",
        "\n",
        "def stem(l):\n",
        "    '''\n",
        "\n",
        "    '''\n",
        "    res = []\n",
        "    re_word = re.compile(r\"^\\w+$\")\n",
        "    stemmer = SnowballStemmer(\"english\")\n",
        "    for text in tqdm(l, total=len(l)):\n",
        "      res.append(\" \".join([stemmer.stem(word) for word in word_tokenize(text.lower()) if re_word.match(word)]))\n",
        "    return res"
      ],
      "execution_count": 5,
      "outputs": [
        {
          "output_type": "stream",
          "name": "stdout",
          "text": [
            "[nltk_data] Downloading package punkt to /root/nltk_data...\n",
            "[nltk_data]   Unzipping tokenizers/punkt.zip.\n"
          ]
        }
      ]
    },
    {
      "cell_type": "code",
      "metadata": {
        "colab": {
          "base_uri": "https://localhost:8080/"
        },
        "id": "vKzP9sD1u8ZE",
        "outputId": "0f5f1994-10d5-4519-a858-e62d9080ceb1"
      },
      "source": [
        "# We apply stemming to our dataset\n",
        "stemmed_train = stem(x_train)\n",
        "stemmed_test = stem(x_test)"
      ],
      "execution_count": 6,
      "outputs": [
        {
          "output_type": "stream",
          "name": "stderr",
          "text": [
            "100%|██████████| 25000/25000 [02:08<00:00, 194.89it/s]\n",
            "100%|██████████| 25000/25000 [02:04<00:00, 200.00it/s]\n"
          ]
        }
      ]
    },
    {
      "cell_type": "code",
      "metadata": {
        "id": "6hUMMLFmwFLr"
      },
      "source": [
        "# Remove\n",
        "\n",
        "def lemm(l):\n",
        "    '''\n",
        "  \n",
        "    '''\n",
        "    lemmas = []\n",
        "    re_word = re.compile(r\"^\\w+$\")\n",
        "    for text in tqdm(l, total=len(l)):\n",
        "      lemmas.append(' '.join([token.lemma_ for token in nlp(text.lower()) if re_word.match(token.text)]))\n",
        "    return lemmas"
      ],
      "execution_count": 7,
      "outputs": []
    },
    {
      "cell_type": "code",
      "metadata": {
        "id": "wvtngXJWwGv6",
        "colab": {
          "base_uri": "https://localhost:8080/"
        },
        "outputId": "00dea9b7-69e2-42d7-d55a-512cfd464100"
      },
      "source": [
        "# We apply lemmatization to our dataset\n",
        "\n",
        "lemmas_train = lemm(x_train)\n",
        "lemmas_test = lemm(x_test)"
      ],
      "execution_count": 8,
      "outputs": [
        {
          "output_type": "stream",
          "name": "stderr",
          "text": [
            "100%|██████████| 25000/25000 [00:58<00:00, 425.71it/s]\n",
            "100%|██████████| 25000/25000 [00:56<00:00, 439.03it/s]\n"
          ]
        }
      ]
    },
    {
      "cell_type": "code",
      "metadata": {
        "colab": {
          "base_uri": "https://localhost:8080/"
        },
        "id": "96csb5wTwNI6",
        "outputId": "b155619e-6d34-4988-e736-2d3331e062f1"
      },
      "source": [
        "df_train_lemma = pd.DataFrame(list(zip(lemmas_train, y_train)), columns=['val', 'label'])\n",
        "df_test_lemma = pd.DataFrame(list(zip(lemmas_test, y_test)), columns=['val', 'label'])\n",
        "\n",
        "df_train_stem = pd.DataFrame(list(zip(stemmed_train, y_train)), columns=['val', 'label'])\n",
        "df_test_stem = pd.DataFrame(list(zip(stemmed_test, y_test)), columns=['val', 'label'])\n",
        "\n",
        "df_train = pd.DataFrame(list(zip(x_train, y_train)), columns=['val', 'label'])\n",
        "df_test = pd.DataFrame(list(zip(x_test, y_test)), columns=['val', 'label'])\n",
        "df_train.head(3), df_test.head(3)"
      ],
      "execution_count": 9,
      "outputs": [
        {
          "output_type": "execute_result",
          "data": {
            "text/plain": [
              "(                                                 val  label\n",
              " 0  Bromwell High is a cartoon comedy. It ran at t...      1\n",
              " 1  Homelessness (or Houselessness as George Carli...      1\n",
              " 2  Brilliant over-acting by Lesley Ann Warren. Be...      1,\n",
              "                                                  val  label\n",
              " 0  I went and saw this movie last night after bei...      1\n",
              " 1  Actor turned director Bill Paxton follows up h...      1\n",
              " 2  As a recreational golfer with some knowledge o...      1)"
            ]
          },
          "metadata": {},
          "execution_count": 9
        }
      ]
    },
    {
      "cell_type": "markdown",
      "metadata": {
        "id": "9watg-fHHs9m"
      },
      "source": [
        "# Naive Bayes algorithm"
      ]
    },
    {
      "cell_type": "code",
      "metadata": {
        "id": "yh82NNnjVDmg"
      },
      "source": [
        "# Functions used in our Naive Bayes algorithm\n",
        "\n",
        "def occurences_and_vocabulary(x_train, y_train, classes):\n",
        "    '''\n",
        "    Takes the input dataset and create a list of every word found in it to form\n",
        "    the vocabulary\n",
        "    From this dataset we also create a dictionnary compiling the occurence of\n",
        "    every word found in the given dataset according to the class of the current\n",
        "    document\n",
        "    '''\n",
        "    dictionnary = {}\n",
        "    for c in classes:\n",
        "      dictionnary[c] = {}\n",
        "    c = -1\n",
        "    vocabulary = []\n",
        "    for i in range(len(y_train)):\n",
        "      c = y_train[i]\n",
        "      splitted_doc = re.split(\"[ .,\\\"]\", x_train[i])\n",
        "      for word in splitted_doc:\n",
        "        vocabulary.append(word)\n",
        "        if word not in dictionnary[c]:\n",
        "          dictionnary[c][word] = 1\n",
        "        else:\n",
        "          dictionnary[c][word] += 1\n",
        "    vocabulary = list(set(vocabulary))\n",
        "    vocabulary = [x for x in vocabulary if not x.isnumeric()]\n",
        "\n",
        "    return dictionnary, vocabulary\n",
        "\n",
        "def sum_counts(D, classes):\n",
        "    '''\n",
        "    Counts the total number of word found in the dataset for each class\n",
        "    '''\n",
        "    sum_per_class = [0 for i in range(len(classes))]\n",
        "    for key in D:\n",
        "      sum_per_class[key] = sum(D[key].values())\n",
        "    return sum_per_class"
      ],
      "execution_count": 10,
      "outputs": []
    },
    {
      "cell_type": "code",
      "metadata": {
        "id": "l1Wh9UBY8Tx6"
      },
      "source": [
        "# Function used for the binary Naive Bayes\n",
        "\n",
        "def word_check_and_vocabulary(x_train, y_train, classes):\n",
        "    '''\n",
        "    Takes the input dataset and create a list of every word found in it to form\n",
        "    the vocabulary\n",
        "    From this dataset we also create a dictionnary compiling which word can be\n",
        "    found in which class of document\n",
        "    '''\n",
        "    word_check = {}\n",
        "    for c in classes:\n",
        "      word_check[c] = {}\n",
        "    c = -1\n",
        "    vocabulary = []\n",
        "    for i in range(len(y_train)):\n",
        "      c = y_train[i]\n",
        "      splitted_doc = re.split(\"[ .,\\\"]\", x_train[i])\n",
        "      for word in splitted_doc:\n",
        "        vocabulary.append(word)\n",
        "        if word not in word_check[c]:\n",
        "          word_check[c][word] = 1\n",
        "    vocabulary = list(set(vocabulary))\n",
        "    vocabulary = [x for x in vocabulary if not x.isnumeric()]\n",
        "\n",
        "    return word_check, vocabulary"
      ],
      "execution_count": null,
      "outputs": []
    },
    {
      "cell_type": "code",
      "metadata": {
        "id": "Eb4OcCYl-sUZ"
      },
      "source": [
        "def train_naive_bayes(D):\n",
        "    '''\n",
        "    Take an input dataset and train the model on that dataset, generating\n",
        "    the likelihood of each word with respect to each class as well as\n",
        "    a vocabulary of the training dataset\n",
        "    '''\n",
        "    logprior = dict()\n",
        "    (data, target) = D\n",
        "    classes = np.unique(target)\n",
        "    count, vocabulary = occurences_and_vocabulary(data, target, classes)\n",
        "    ndoc = len(target)\n",
        "    loglikelihood = dict()\n",
        "    sum_per_class = sum_counts(count, classes)\n",
        "    for c in classes:\n",
        "      nc = np.count_nonzero(target == c)\n",
        "      logprior[c] = np.log(nc/ndoc)\n",
        "\n",
        "      for w in vocabulary:\n",
        "          if w not in count[c]:\n",
        "              continue\n",
        "          if not c in loglikelihood:\n",
        "              loglikelihood[c] = {}\n",
        "          loglikelihood[c][w] = np.log((count[c][w] + 1) / (sum_per_class[c] + 1))\n",
        "\n",
        "    return logprior, loglikelihood, vocabulary"
      ],
      "execution_count": 25,
      "outputs": []
    },
    {
      "cell_type": "code",
      "metadata": {
        "id": "6XxgQFY40U1G"
      },
      "source": [
        "logprior, loglikelihood, vocabulary = train_naive_bayes((x_train, y_train))"
      ],
      "execution_count": 31,
      "outputs": []
    },
    {
      "cell_type": "code",
      "metadata": {
        "id": "LgzjHlqoxpxD"
      },
      "source": [
        "def train_binary_naive_bayes(D):\n",
        "    '''\n",
        "    Take an input dataset and record which word appear in which document\n",
        "    of which class\n",
        "    '''\n",
        "    logprior = dict()\n",
        "    (data, target) = D\n",
        "    classes = np.unique(target)\n",
        "    count, vocabulary = word_check_and_vocabulary(data, target, classes)\n",
        "    return count, vocabulary"
      ],
      "execution_count": 23,
      "outputs": []
    },
    {
      "cell_type": "code",
      "metadata": {
        "id": "pZ0_9v9eHW-Z"
      },
      "source": [
        "word_check, binary_vocabulary = train_binary_naive_bayes((x_train, y_train))"
      ],
      "execution_count": 27,
      "outputs": []
    },
    {
      "cell_type": "code",
      "metadata": {
        "id": "IfOXpro25Hka"
      },
      "source": [
        "# Test one doc at a time\n",
        "\n",
        "def test_naive_bayes(testdoc, logprior, loglikelihood, C):\n",
        "    '''\n",
        "    Takes the given input and from the given logprior, loglikelihood\n",
        "    we evaluate the class of that input \n",
        "    '''\n",
        "    sum_ = [0 for i in range(len(logprior))]\n",
        "    for c in C:\n",
        "        sum_[c] = logprior[c]\n",
        "        for word in testdoc:\n",
        "          try:\n",
        "            sum_[c] += loglikelihood[c][word]\n",
        "          except:\n",
        "            pass\n",
        "    return np.argmax(sum_)"
      ],
      "execution_count": 32,
      "outputs": []
    },
    {
      "cell_type": "code",
      "metadata": {
        "id": "7T9U6X_E2NSu"
      },
      "source": [
        "accuracy = 0\n",
        "split_df = df_test['val'].str.split(\"[ .,\\\"]\")\n",
        "for i in range(len(split_df)):\n",
        "    var = test_naive_bayes(split_df[i], logprior, loglikelihood, [0, 1])\n",
        "    if var == y_test[i]:\n",
        "        accuracy += 1\n",
        "accuracy /= len(split_df)"
      ],
      "execution_count": 33,
      "outputs": []
    },
    {
      "cell_type": "code",
      "metadata": {
        "colab": {
          "base_uri": "https://localhost:8080/"
        },
        "id": "X5vgVSUn245U",
        "outputId": "dab660c9-1951-427c-ab32-0a832da1c695"
      },
      "source": [
        "accuracy"
      ],
      "execution_count": 34,
      "outputs": [
        {
          "output_type": "execute_result",
          "data": {
            "text/plain": [
              "0.60972"
            ]
          },
          "metadata": {},
          "execution_count": 34
        }
      ]
    },
    {
      "cell_type": "code",
      "metadata": {
        "id": "v2fD4FQw5JbX"
      },
      "source": [
        "accuracy = 0\n",
        "split_df = df_test['val'].str.split(\"[ .,\\\"]\")\n",
        "for i in range(len(split_df)):\n",
        "    var = test_naive_bayes(split_df[i], [0, 0], word_check, [0, 1])\n",
        "    if var == y_test[i]:\n",
        "        accuracy += 1\n",
        "accuracy /= len(split_df)"
      ],
      "execution_count": 16,
      "outputs": []
    },
    {
      "cell_type": "code",
      "metadata": {
        "colab": {
          "base_uri": "https://localhost:8080/"
        },
        "id": "LLtK4dm1l0bU",
        "outputId": "4e90e016-fb86-4673-c91b-9781cd9d81c4"
      },
      "source": [
        "accuracy"
      ],
      "execution_count": 30,
      "outputs": [
        {
          "output_type": "execute_result",
          "data": {
            "text/plain": [
              "0.58364"
            ]
          },
          "metadata": {},
          "execution_count": 30
        }
      ]
    },
    {
      "cell_type": "markdown",
      "metadata": {
        "id": "ft41wmOO9MNU"
      },
      "source": [
        "# Test"
      ]
    },
    {
      "cell_type": "markdown",
      "metadata": {
        "id": "ob5Q63KiNkGg"
      },
      "source": [
        "## With the different preprocessing methods"
      ]
    },
    {
      "cell_type": "markdown",
      "metadata": {
        "id": "a111CQm7-Bct"
      },
      "source": [
        "First, let's see how accurate our model is when trained with the initial dataset"
      ]
    },
    {
      "cell_type": "code",
      "metadata": {
        "id": "tbmgYUjM1_uB"
      },
      "source": [
        "logprior, loglikelihood, vocabulary = train_naive_bayes((x_train, y_train))"
      ],
      "execution_count": 43,
      "outputs": []
    },
    {
      "cell_type": "code",
      "metadata": {
        "colab": {
          "base_uri": "https://localhost:8080/"
        },
        "id": "4Nm9evuW-Rba",
        "outputId": "bac2926c-019b-493d-e6e3-304e9ae595e9"
      },
      "source": [
        "accuracy = 0\n",
        "split_df = df_test['val'].str.split(\"[ .,\\\"]\")\n",
        "for i in range(len(split_df)):\n",
        "    var = test_naive_bayes(split_df[i], logprior, loglikelihood, [0, 1])\n",
        "    if var == y_test[i]:\n",
        "        accuracy += 1\n",
        "accuracy /= len(split_df)\n",
        "accuracy"
      ],
      "execution_count": 44,
      "outputs": [
        {
          "output_type": "execute_result",
          "data": {
            "text/plain": [
              "0.60972"
            ]
          },
          "metadata": {},
          "execution_count": 44
        }
      ]
    },
    {
      "cell_type": "markdown",
      "metadata": {
        "id": "Z5JO8N9f-1mF"
      },
      "source": [
        "It's not very accurate. Let's add some preprocessing and see how it improves our model.\n",
        "\n",
        "First, we'll apply stemming to our initial data."
      ]
    },
    {
      "cell_type": "code",
      "metadata": {
        "id": "PvdfKrGi-1Ia"
      },
      "source": [
        "logprior_stemming, loglikelihood_stemming, vocabulary_stemming = train_naive_bayes((stemmed_train, y_train))"
      ],
      "execution_count": 45,
      "outputs": []
    },
    {
      "cell_type": "code",
      "metadata": {
        "colab": {
          "base_uri": "https://localhost:8080/"
        },
        "id": "6F7Cj7Rx_TXb",
        "outputId": "8c3f5676-f66e-4001-b4d0-fcec3d0b00ec"
      },
      "source": [
        "accuracy_stemming = 0\n",
        "split_df = df_test_stem['val'].str.split(\"[ .,\\\"]\")\n",
        "for i in range(len(split_df)):\n",
        "    var = test_naive_bayes(split_df[i], logprior_stemming, loglikelihood_stemming, [0, 1])\n",
        "    if var == y_test[i]:\n",
        "        accuracy_stemming += 1\n",
        "accuracy_stemming /= len(split_df)\n",
        "accuracy_stemming"
      ],
      "execution_count": 46,
      "outputs": [
        {
          "output_type": "execute_result",
          "data": {
            "text/plain": [
              "0.7068"
            ]
          },
          "metadata": {},
          "execution_count": 46
        }
      ]
    },
    {
      "cell_type": "markdown",
      "metadata": {
        "id": "liPY6C74__l2"
      },
      "source": [
        "As we can see, the accuracy increased by 10% which is a lot.\n",
        "This is explained by a much smaller vocabulary, so there's a lot less word to count which makes the whole process less messy.\n",
        "\n",
        "As we can see:"
      ]
    },
    {
      "cell_type": "code",
      "metadata": {
        "colab": {
          "base_uri": "https://localhost:8080/"
        },
        "id": "8bHzHGUYErpS",
        "outputId": "59b3102e-c3c8-42bd-c20f-e82f484ac2ad"
      },
      "source": [
        "print(\"Length vocabulary: \" + str(len(vocabulary)))\n",
        "print(\"Length vocabulary after stemming: \" + str(len(vocabulary_stemming)))"
      ],
      "execution_count": 54,
      "outputs": [
        {
          "output_type": "stream",
          "name": "stdout",
          "text": [
            "Length vocabulary: 177397\n",
            "Length vocabulary after stemming: 48538\n"
          ]
        }
      ]
    },
    {
      "cell_type": "markdown",
      "metadata": {
        "id": "Tpyk0swVFhPC"
      },
      "source": [
        "The length of the vocabulary after stemming is about 1/4 the size of the original vocabulary.\n",
        "\n",
        "Let's see with lemmatization."
      ]
    },
    {
      "cell_type": "code",
      "metadata": {
        "id": "ud9Fd6i0Cykz"
      },
      "source": [
        "logprior_lemma, loglikelihood_lemma, vocabulary_lemma = train_naive_bayes((lemmas_train, y_train))"
      ],
      "execution_count": 51,
      "outputs": []
    },
    {
      "cell_type": "code",
      "metadata": {
        "colab": {
          "base_uri": "https://localhost:8080/"
        },
        "id": "btRxXFA4C0Wl",
        "outputId": "27373ebb-2b38-46ab-d2ec-1ab76853d534"
      },
      "source": [
        "accuracy_lemma = 0\n",
        "split_df = df_test_lemma['val'].str.split(\"[ .,\\\"]\")\n",
        "for i in range(len(split_df)):\n",
        "    var = test_naive_bayes(split_df[i], logprior_lemma, loglikelihood_lemma, [0, 1])\n",
        "    if var == y_test[i]:\n",
        "        accuracy_lemma += 1\n",
        "accuracy_lemma /= len(split_df)\n",
        "accuracy_lemma"
      ],
      "execution_count": 52,
      "outputs": [
        {
          "output_type": "execute_result",
          "data": {
            "text/plain": [
              "0.693"
            ]
          },
          "metadata": {},
          "execution_count": 52
        }
      ]
    },
    {
      "cell_type": "markdown",
      "metadata": {
        "id": "mjP-dIK6GX8T"
      },
      "source": [
        "Slightly less accurate than with stemming, but still a net improvement over no pre-processing at all. The accuracy with lemmatization would be improved further with a more detailed vocabulary."
      ]
    },
    {
      "cell_type": "markdown",
      "metadata": {
        "id": "_zLxktnLNo5r"
      },
      "source": [
        "## Comparing with Binary Naive Bayes"
      ]
    },
    {
      "cell_type": "markdown",
      "metadata": {
        "id": "wB27znwUHPpd"
      },
      "source": [
        "Let's compare the accuracy between counting the occurence of words and just checking their presence."
      ]
    },
    {
      "cell_type": "code",
      "metadata": {
        "id": "TUtgmuwm8o4I"
      },
      "source": [
        "word_check, binary_vocabulary = train_binary_naive_bayes((x_train, y_train))"
      ],
      "execution_count": 55,
      "outputs": []
    },
    {
      "cell_type": "code",
      "metadata": {
        "colab": {
          "base_uri": "https://localhost:8080/"
        },
        "id": "rA7cjq4x_cnA",
        "outputId": "8be80a59-744b-4791-e243-6213d99aeb5f"
      },
      "source": [
        "accuracy_binary = 0\n",
        "split_df = df_test['val'].str.split(\"[ .,\\\"]\")\n",
        "for i in range(len(split_df)):\n",
        "    var = test_naive_bayes(split_df[i], [0, 0], word_check, [0, 1])\n",
        "    if var == y_test[i]:\n",
        "        accuracy_binary += 1\n",
        "accuracy_binary /= len(split_df)"
      ],
      "execution_count": 56,
      "outputs": [
        {
          "output_type": "execute_result",
          "data": {
            "text/plain": [
              "0.5908"
            ]
          },
          "metadata": {},
          "execution_count": 56
        }
      ]
    },
    {
      "cell_type": "code",
      "metadata": {
        "colab": {
          "base_uri": "https://localhost:8080/"
        },
        "id": "r0uYvpj-HhLs",
        "outputId": "298661a2-3a78-4fd7-b2ce-81d653f580e4"
      },
      "source": [
        "print(\"Naive Bayes accuracy: \" + str(accuracy))\n",
        "print(\"Binary Naive Bayes accuracy: \" + str(accuracy_binary))"
      ],
      "execution_count": 57,
      "outputs": [
        {
          "output_type": "stream",
          "name": "stdout",
          "text": [
            "Naive Bayes accuracy: 0.60972\n",
            "Binary Naive Bayes accuracy: 0.5908\n"
          ]
        }
      ]
    },
    {
      "cell_type": "markdown",
      "metadata": {
        "id": "3wK_7FLEHxB4"
      },
      "source": [
        "As we can see, just checking their presence results in a lower accuracy and this is due to a lack of depth in the learning."
      ]
    },
    {
      "cell_type": "code",
      "metadata": {
        "id": "HSaUlB3KMGjs"
      },
      "source": [
        "# To test our model on-the-fly\n",
        "split_df = df_test_stem['val'].str.split(\"[ .,\\\"]\")"
      ],
      "execution_count": 81,
      "outputs": []
    },
    {
      "cell_type": "markdown",
      "metadata": {
        "id": "lIdcLDYONsSH"
      },
      "source": [
        "## What happened when our model guessed incorrectly ?"
      ]
    },
    {
      "cell_type": "markdown",
      "metadata": {
        "id": "txQUB59ZJTMV"
      },
      "source": [
        "Let's take a look at some instances where our model wrongly determined the positivity of the document. We'll use our model with stemming because it has the best accuracy out of all models."
      ]
    },
    {
      "cell_type": "code",
      "metadata": {
        "colab": {
          "base_uri": "https://localhost:8080/"
        },
        "id": "pKMden4OHvgQ",
        "outputId": "4687e0a3-24b7-47f9-e52d-d04637c8cf08"
      },
      "source": [
        "i = 7\n",
        "var = test_naive_bayes(split_df[i], logprior_stemming, loglikelihood_stemming, [0, 1])\n",
        "print(\"Model's prediction: \" + str(var))\n",
        "print(\"Answer: \" + str(y_test[i]))"
      ],
      "execution_count": 88,
      "outputs": [
        {
          "output_type": "stream",
          "name": "stdout",
          "text": [
            "Model's prediction: 0\n",
            "Answer: 1\n"
          ]
        }
      ]
    },
    {
      "cell_type": "markdown",
      "metadata": {
        "id": "S-yK6n8kMUHZ"
      },
      "source": [
        "Our model thought it was a negative critic but it was in fact a positive one. Let's take a look at the document."
      ]
    },
    {
      "cell_type": "code",
      "metadata": {
        "colab": {
          "base_uri": "https://localhost:8080/",
          "height": 127
        },
        "id": "8MQT8LQaMVOk",
        "outputId": "057ab8d0-4854-46e3-85e6-8baa291c1ee2"
      },
      "source": [
        "df_test_stem['val'][i]"
      ],
      "execution_count": 87,
      "outputs": [
        {
          "output_type": "execute_result",
          "data": {
            "application/vnd.google.colaboratory.intrinsic+json": {
              "type": "string"
            },
            "text/plain": [
              "'i felt this film did have mani good qualiti the cinematographi was certain differ expos the stage aspect of the set and stori the origin charact as actor was certain an achiev and i felt most play quit convinc of cours they are play themselv but definit uniqu the cultur aspect may leav mani disappoint as a familiar with the chines and orient cultur will answer a lot of question regard relationship and the stigma that goe with ani drug use i found the jia hongsheng stori interest on a down note the stori is in beij and some of the fashion and music reek of earli 90s even though this was made in 2001 so it realli cheesi sometim the beatl crap etc whatev not a top ten or twenti but if it on the televis check it out'"
            ]
          },
          "metadata": {},
          "execution_count": 87
        }
      ]
    },
    {
      "cell_type": "markdown",
      "metadata": {
        "id": "WklVO4RFIyWn"
      },
      "source": [
        "When analizing this document, we can notice a lot of words that could be counted as negative such as \"reek\", \"crap, \"drug\", \"disappoint\" etc. which probably have mislead our model into thinking this was a negative review.\n",
        "\n",
        "Let's take a look at another document our model failed to assess correctly."
      ]
    },
    {
      "cell_type": "code",
      "metadata": {
        "colab": {
          "base_uri": "https://localhost:8080/"
        },
        "id": "TkyGo203IJbq",
        "outputId": "2c5bf9de-3570-403d-c8a7-c2763905576c"
      },
      "source": [
        "i = 62\n",
        "split_df = df_test_stem['val'].str.split(\"[ .,\\\"]\")\n",
        "var = test_naive_bayes(split_df[62], logprior_stemming, loglikelihood_stemming, [0, 1])\n",
        "print(\"Model's prediction: \" + str(var))\n",
        "print(\"Answer: \" + str(y_test[i]))"
      ],
      "execution_count": 80,
      "outputs": [
        {
          "output_type": "stream",
          "name": "stdout",
          "text": [
            "0\n",
            "1\n"
          ]
        }
      ]
    },
    {
      "cell_type": "markdown",
      "metadata": {
        "id": "KC1zJdulL0vb"
      },
      "source": [
        "Once again, our model thought it was a negative critic but it was a positive one. Let's take a look at the document."
      ]
    },
    {
      "cell_type": "code",
      "metadata": {
        "colab": {
          "base_uri": "https://localhost:8080/",
          "height": 163
        },
        "id": "DbXsAO-nKFn3",
        "outputId": "109dd05b-fac5-4e9c-b1f4-787ea9b9962d"
      },
      "source": [
        "df_test_stem['val'][i]"
      ],
      "execution_count": 79,
      "outputs": [
        {
          "output_type": "execute_result",
          "data": {
            "application/vnd.google.colaboratory.intrinsic+json": {
              "type": "string"
            },
            "text/plain": [
              "'i have been a fan of madonna for quit sometim now howev i thought i would comment on this br br this film mistaken one of them as well as madonna was pan by the critic they were high mistaken and mani potenti viewer were turn off by the bad br br first madonna doe an excel job in this movi which was one of her first she play a ditsi blond in the film she is far from a ditsi blond in real life most critic were somewhat prejud by her sing fame and did give her a fair shake when you view this film i hope that you understand that the accent and the goofi is just act she was absolut hyster as was the br br griffen dunn is anoth person who was not given a fair review in the film if you take a look at his filmographi you will see he is quit an accomplish br br as far as the movi itself this is someth similar to pretti woman but came 3 year befor the robert gere success it a comedi with lot of site gag slapstick and one liner some of the comedi is deadpan and take a comedi aficionado to realli appreci the more subtl br br i know this doe tell you much about the movi howev i hope this help dispel ani belief that this is a poor movi it is absolut worth rent for an enjoy night of great br br br br gari'"
            ]
          },
          "metadata": {},
          "execution_count": 79
        }
      ]
    },
    {
      "cell_type": "markdown",
      "metadata": {
        "id": "Ks2npcUfLTlr"
      },
      "source": [
        "The same thing can be said here: we can see words like \"mistaken\", \"critic\", \"turn off\", \"goofi\" be very present in this document which probably have mislead our model into thinking it was a negative critic instead of a more positive one."
      ]
    }
  ]
}