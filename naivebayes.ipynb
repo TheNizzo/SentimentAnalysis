{
 "cells": [
  {
   "cell_type": "markdown",
   "metadata": {
    "id": "78zNROnxHfJJ"
   },
   "source": [
    "# Import libraries and dataset"
   ]
  },
  {
   "cell_type": "markdown",
   "metadata": {
    "id": "2Bb9rRGkqDPF"
   },
   "source": [
    "We import the necessary libraries"
   ]
  },
  {
   "cell_type": "code",
   "execution_count": 1,
   "metadata": {
    "id": "go39gIe-u1Qf"
   },
   "outputs": [],
   "source": [
    "import numpy as np\n",
    "import pandas as pd"
   ]
  },
  {
   "cell_type": "markdown",
   "metadata": {
    "id": "WYvWJ5Rqp_BU"
   },
   "source": [
    "We load the IMDB dataset from Huggingface."
   ]
  },
  {
   "cell_type": "code",
   "execution_count": 2,
   "metadata": {
    "colab": {
     "base_uri": "https://localhost:8080/",
     "height": 1000,
     "referenced_widgets": [
      "d2bf319d2cf44a1498c0a2a1097e70aa",
      "82bbdf0a05034855ab6a0c9e0eb33ede",
      "bf1bcb99fbaa455ca4418cdd3e6c51e2",
      "ea2c1f3ea0c74823b12f566fbbeaf92f",
      "cb49bb9e0a7a4a9fad5c37da74c56dda",
      "776d80e7b9f84e0598659891a188b5b2",
      "279afee1ddb54edb943c92b0f2d6e797",
      "2dd63be0bc2644eca4509e64e2f9f948",
      "bf0508b2764a4bd4baa4295b824bd275",
      "333d179f3dfc46569d21326e330dec3c",
      "2f19039e6bbe44c7a1cedd192b2124a1",
      "a8b5a5ba9a204f86907abdb434b5fd14",
      "bc5b80acd28a40598138e4c9c402b0f8",
      "aa24114d12f54e3d94ee15f0efb91abf",
      "402a19da6e0c4aad870c3ee90a5d2116",
      "ab3e4a0406c54913bfa52076968d1b10",
      "e8dc22b84d9b4876a27eb08888f0e9d6",
      "f4f07c3792cc48aeb92b29512572c5bc",
      "db11e9ac4f6e46f895d55bd0cd1ac46f",
      "474b03226a54437eb8f9fb6aa0c7e23d",
      "76dd9c6c7c7a44e29993f8560b3e487b",
      "3c96e36c79764dcca9fd005b275a882b",
      "cf4dd201044843d6a8820a85c7440487",
      "5bf08a12aaab4729abb85ac7e3d838a7",
      "b3b93831bc1644cbb7197cda8d935868",
      "5ce61529c85841cba20d86e22387e018",
      "6554491a39b646a685df8e8191fb9db0",
      "3d11f45da8a2429f934f0f0ad9ebb222",
      "6192e77a79a04731903d27d428085bc1",
      "fad794bca1ea4af7a1eb775c63148a26",
      "4fe173c43a524480939b007e9f47c5da",
      "172bdfe71ae84b0e80d92acf3faf5642",
      "61dedb623e1c4357b6e374d12bf5ad03",
      "5219a109f0d7488982990818ce1af9a5",
      "7f95b1d688b0483da982a389ee38b63b",
      "93fc1b6a978241b1809ba489fbd15b3e",
      "9926d6deac574db9a6972a2f16b3917b",
      "2cfdf1f7dd964e8a84103a3386a2a27c",
      "ec427039461049199c9cf0a66d2a7944",
      "4825fd3dfbb54c76acf4b9c58013667c",
      "73a7b173656946e4810a60a9309f726f",
      "417b28c8da5246faa6b208dd4cab4117",
      "f80c3c84e9794f469c2dedf85aa270a7",
      "b9ce640947bf404b8252d097f57ce781",
      "491c294a3eec418bb553d5c17941477a",
      "327f7d8780ea40e5a7de6111e92565dc",
      "7d4ed02bd8354c1ab8929636b14fd2f7",
      "d7ba32e6195c4a988411d5c67e1a618b",
      "afa44f20407348419c55367b2a78fa66",
      "c81d8e3a395d4d9d81d5875fc3c880f8",
      "3134ad412e814027bc0f65123d5991cd",
      "bedda1cdef4a4e04b34cafe781b05aa5",
      "58a3e485d7bc4587bd23be15ded7c50a",
      "e33df081c2aa476ab3b134572b80b0e7",
      "ce7d207ab46e4a639d4046a7b92032e1",
      "cf9deb206d5345489d122974b61c7cdb",
      "5c93e69589fb407a82dd91bbfea9373e",
      "c8bcd90ca6894dd5904d87985b568199",
      "bb1e823af26e438f9f9276eb8ab86f8e",
      "d2f7e881606e42db8241d2e111493a60",
      "53796dd8c9e54c5eb43d1416db26edbd",
      "069f5878be9d49018333194d47e07dad",
      "733dbeb792f2487db2e5dd0c2934a54b",
      "13d4add67560429595a1ca1409afbf72",
      "b8dd5b1416ac48a79a0214a75f6728db",
      "7c1204dccb294ced9a388a1123a50590"
     ]
    },
    "id": "nU2IJ-hqu3T3",
    "outputId": "2f5b87ae-5e71-41a4-fd70-181cfb983887"
   },
   "outputs": [
    {
     "name": "stdout",
     "output_type": "stream",
     "text": [
      "Requirement already satisfied: datasets in /home/niss/nlp/myenv/lib/python3.8/site-packages (1.12.1)\n",
      "Requirement already satisfied: numpy>=1.17 in /home/niss/nlp/myenv/lib/python3.8/site-packages (from datasets) (1.21.2)\n",
      "Requirement already satisfied: tqdm>=4.62.1 in /home/niss/nlp/myenv/lib/python3.8/site-packages (from datasets) (4.62.3)\n",
      "Requirement already satisfied: packaging in /home/niss/nlp/myenv/lib/python3.8/site-packages (from datasets) (21.0)\n",
      "Requirement already satisfied: xxhash in /home/niss/nlp/myenv/lib/python3.8/site-packages (from datasets) (2.0.2)\n",
      "Requirement already satisfied: multiprocess in /home/niss/nlp/myenv/lib/python3.8/site-packages (from datasets) (0.70.12.2)\n",
      "Requirement already satisfied: pyarrow!=4.0.0,>=1.0.0 in /home/niss/nlp/myenv/lib/python3.8/site-packages (from datasets) (5.0.0)\n",
      "Requirement already satisfied: dill in /home/niss/nlp/myenv/lib/python3.8/site-packages (from datasets) (0.3.4)\n",
      "Requirement already satisfied: requests>=2.19.0 in /home/niss/nlp/myenv/lib/python3.8/site-packages (from datasets) (2.26.0)\n",
      "Requirement already satisfied: huggingface-hub<0.1.0,>=0.0.14 in /home/niss/nlp/myenv/lib/python3.8/site-packages (from datasets) (0.0.17)\n",
      "Requirement already satisfied: fsspec[http]>=2021.05.0 in /home/niss/nlp/myenv/lib/python3.8/site-packages (from datasets) (2021.10.0)\n",
      "Requirement already satisfied: aiohttp in /home/niss/nlp/myenv/lib/python3.8/site-packages (from datasets) (3.7.4.post0)\n",
      "Requirement already satisfied: pandas in /home/niss/nlp/myenv/lib/python3.8/site-packages (from datasets) (1.3.3)\n",
      "Requirement already satisfied: pyparsing>=2.0.2 in /home/niss/nlp/myenv/lib/python3.8/site-packages (from packaging->datasets) (2.4.7)\n",
      "Requirement already satisfied: certifi>=2017.4.17 in /home/niss/nlp/myenv/lib/python3.8/site-packages (from requests>=2.19.0->datasets) (2021.5.30)\n",
      "Requirement already satisfied: idna<4,>=2.5; python_version >= \"3\" in /home/niss/nlp/myenv/lib/python3.8/site-packages (from requests>=2.19.0->datasets) (3.2)\n",
      "Requirement already satisfied: urllib3<1.27,>=1.21.1 in /home/niss/nlp/myenv/lib/python3.8/site-packages (from requests>=2.19.0->datasets) (1.26.7)\n",
      "Requirement already satisfied: charset-normalizer~=2.0.0; python_version >= \"3\" in /home/niss/nlp/myenv/lib/python3.8/site-packages (from requests>=2.19.0->datasets) (2.0.6)\n",
      "Requirement already satisfied: typing-extensions in /home/niss/nlp/myenv/lib/python3.8/site-packages (from huggingface-hub<0.1.0,>=0.0.14->datasets) (3.10.0.2)\n",
      "Requirement already satisfied: filelock in /home/niss/nlp/myenv/lib/python3.8/site-packages (from huggingface-hub<0.1.0,>=0.0.14->datasets) (3.3.0)\n",
      "Requirement already satisfied: yarl<2.0,>=1.0 in /home/niss/nlp/myenv/lib/python3.8/site-packages (from aiohttp->datasets) (1.6.3)\n",
      "Requirement already satisfied: async-timeout<4.0,>=3.0 in /home/niss/nlp/myenv/lib/python3.8/site-packages (from aiohttp->datasets) (3.0.1)\n",
      "Requirement already satisfied: attrs>=17.3.0 in /home/niss/nlp/myenv/lib/python3.8/site-packages (from aiohttp->datasets) (21.2.0)\n",
      "Requirement already satisfied: chardet<5.0,>=2.0 in /home/niss/nlp/myenv/lib/python3.8/site-packages (from aiohttp->datasets) (4.0.0)\n",
      "Requirement already satisfied: multidict<7.0,>=4.5 in /home/niss/nlp/myenv/lib/python3.8/site-packages (from aiohttp->datasets) (5.2.0)\n",
      "Requirement already satisfied: pytz>=2017.3 in /home/niss/nlp/myenv/lib/python3.8/site-packages (from pandas->datasets) (2021.3)\n",
      "Requirement already satisfied: python-dateutil>=2.7.3 in /home/niss/nlp/myenv/lib/python3.8/site-packages (from pandas->datasets) (2.8.2)\n",
      "Requirement already satisfied: six>=1.5 in /home/niss/nlp/myenv/lib/python3.8/site-packages (from python-dateutil>=2.7.3->pandas->datasets) (1.16.0)\n"
     ]
    },
    {
     "name": "stderr",
     "output_type": "stream",
     "text": [
      "Reusing dataset imdb (/home/niss/.cache/huggingface/datasets/imdb/plain_text/1.0.0/e3c66f1788a67a89c7058d97ff62b6c30531e05b549de56d3ab91891f0561f9a)\n",
      "Reusing dataset imdb (/home/niss/.cache/huggingface/datasets/imdb/plain_text/1.0.0/e3c66f1788a67a89c7058d97ff62b6c30531e05b549de56d3ab91891f0561f9a)\n"
     ]
    }
   ],
   "source": [
    "!pip install datasets\n",
    "from datasets import load_dataset\n",
    "dataset_train = load_dataset('imdb', split='train')\n",
    "dataset_test = load_dataset('imdb', split='test')"
   ]
  },
  {
   "cell_type": "markdown",
   "metadata": {
    "id": "f48LA3iXHiLE"
   },
   "source": [
    "# Preprocessing"
   ]
  },
  {
   "cell_type": "markdown",
   "metadata": {
    "id": "QuiEvhrTgBqK"
   },
   "source": [
    "We're going to do some preprocessing for the testing part of our algorithm later on."
   ]
  },
  {
   "cell_type": "markdown",
   "metadata": {
    "id": "xbJkjKIIqMP-"
   },
   "source": [
    "From the dataset we create our training and test data."
   ]
  },
  {
   "cell_type": "code",
   "execution_count": 3,
   "metadata": {
    "colab": {
     "base_uri": "https://localhost:8080/"
    },
    "id": "tqrkf8Fdu5Jm",
    "outputId": "55822676-6742-4446-e616-d68727a830a0"
   },
   "outputs": [
    {
     "data": {
      "text/plain": [
       "25000"
      ]
     },
     "execution_count": 3,
     "metadata": {},
     "output_type": "execute_result"
    }
   ],
   "source": [
    "x_train, y_train, x_test, y_test = dataset_train[:]['text'], dataset_train[:]['label'], dataset_test[:]['text'], dataset_test[:]['label']\n",
    "len(x_train)"
   ]
  },
  {
   "cell_type": "markdown",
   "metadata": {
    "id": "xdh9PDUwvcwW"
   },
   "source": [
    "We import our utils.py file which contains functions for stemming and lemmatization."
   ]
  },
  {
   "cell_type": "code",
   "execution_count": 4,
   "metadata": {
    "colab": {
     "base_uri": "https://localhost:8080/",
     "height": 316
    },
    "id": "HWFvgb0vvZjD",
    "outputId": "bf34a71a-c037-4d5e-c138-10505f874596"
   },
   "outputs": [
    {
     "name": "stderr",
     "output_type": "stream",
     "text": [
      "[nltk_data] Downloading package punkt to /home/niss/nltk_data...\n",
      "[nltk_data]   Package punkt is already up-to-date!\n"
     ]
    }
   ],
   "source": [
    "import utils"
   ]
  },
  {
   "cell_type": "code",
   "execution_count": 5,
   "metadata": {
    "colab": {
     "base_uri": "https://localhost:8080/"
    },
    "id": "vKzP9sD1u8ZE",
    "outputId": "f2cca98c-5427-4019-df17-197710279a27"
   },
   "outputs": [
    {
     "name": "stderr",
     "output_type": "stream",
     "text": [
      "100%|██████████████████████████████████████████████████████████████████████████████████████████████████████████| 25000/25000 [00:45<00:00, 549.44it/s]\n",
      "100%|██████████████████████████████████████████████████████████████████████████████████████████████████████████| 25000/25000 [00:44<00:00, 560.49it/s]\n"
     ]
    }
   ],
   "source": [
    "# We apply stemming to our dataset\n",
    "stemmed_train = utils.stem(x_train)\n",
    "stemmed_test = utils.stem(x_test)"
   ]
  },
  {
   "cell_type": "code",
   "execution_count": 6,
   "metadata": {
    "colab": {
     "base_uri": "https://localhost:8080/"
    },
    "id": "wvtngXJWwGv6",
    "outputId": "24af2334-c433-4391-eeea-68c258d5bd8d"
   },
   "outputs": [
    {
     "name": "stderr",
     "output_type": "stream",
     "text": [
      "100%|███████████████████████████████████████████████████████████████████████████████████████████████████████████| 25000/25000 [04:50<00:00, 86.06it/s]\n",
      "100%|███████████████████████████████████████████████████████████████████████████████████████████████████████████| 25000/25000 [04:37<00:00, 90.05it/s]\n"
     ]
    }
   ],
   "source": [
    "# We apply lemmatization to our dataset\n",
    "\n",
    "lemmas_train = utils.lemm(x_train)\n",
    "lemmas_test = utils.lemm(x_test)"
   ]
  },
  {
   "cell_type": "code",
   "execution_count": 7,
   "metadata": {
    "colab": {
     "base_uri": "https://localhost:8080/"
    },
    "id": "96csb5wTwNI6",
    "outputId": "d4ac3c86-40e2-4374-97cd-0c1f2993d8c3"
   },
   "outputs": [
    {
     "data": {
      "text/plain": [
       "(                                                 val  label\n",
       " 0  Bromwell High is a cartoon comedy. It ran at t...      1\n",
       " 1  Homelessness (or Houselessness as George Carli...      1\n",
       " 2  Brilliant over-acting by Lesley Ann Warren. Be...      1,\n",
       "                                                  val  label\n",
       " 0  I went and saw this movie last night after bei...      1\n",
       " 1  Actor turned director Bill Paxton follows up h...      1\n",
       " 2  As a recreational golfer with some knowledge o...      1)"
      ]
     },
     "execution_count": 7,
     "metadata": {},
     "output_type": "execute_result"
    }
   ],
   "source": [
    "# We create a dataframe version of our dataset because it will be easier to\n",
    "# use later on when we want to test\n",
    "\n",
    "df_train_lemma = pd.DataFrame(list(zip(lemmas_train, y_train)), columns=['val', 'label'])\n",
    "df_test_lemma = pd.DataFrame(list(zip(lemmas_test, y_test)), columns=['val', 'label'])\n",
    "\n",
    "df_train_stem = pd.DataFrame(list(zip(stemmed_train, y_train)), columns=['val', 'label'])\n",
    "df_test_stem = pd.DataFrame(list(zip(stemmed_test, y_test)), columns=['val', 'label'])\n",
    "\n",
    "df_train = pd.DataFrame(list(zip(x_train, y_train)), columns=['val', 'label'])\n",
    "df_test = pd.DataFrame(list(zip(x_test, y_test)), columns=['val', 'label'])\n",
    "df_train.head(3), df_test.head(3)"
   ]
  },
  {
   "cell_type": "markdown",
   "metadata": {
    "id": "9watg-fHHs9m"
   },
   "source": [
    "# Naive Bayes algorithm"
   ]
  },
  {
   "cell_type": "code",
   "execution_count": 8,
   "metadata": {
    "id": "yh82NNnjVDmg"
   },
   "outputs": [],
   "source": [
    "# Typing to make functions clearer\n",
    "from typing import List\n",
    "from typing import Dict\n",
    "from typing import Tuple\n",
    "\n",
    "# Functions used in our Naive Bayes algorithm\n",
    "\n",
    "def occurences_and_vocabulary(x_train: List[str], \n",
    "                              y_train: List[str], \n",
    "                              classes: List[int]) -> Tuple[Dict[int, Dict[str, int]], List[str]]:\n",
    "    '''\n",
    "    Takes the input dataset and create a list of every word found in it to form\n",
    "    the vocabulary\n",
    "    From this dataset we also create a dictionnary compiling the occurence of\n",
    "    every word found in the given dataset according to the class of the current\n",
    "    document\n",
    "    '''\n",
    "    dictionnary = {}\n",
    "    # We initialize our dictionnary with as much entry as there are classes\n",
    "    # This will be a dictionnary of dictionnaries, with each key a class\n",
    "    # Each dictionnary will record the occurence of words for a given class\n",
    "    for c in classes:\n",
    "      dictionnary[c] = {}\n",
    "    c = -1\n",
    "    vocabulary = []\n",
    "    for i in range(len(y_train)):\n",
    "      c = y_train[i]\n",
    "      # We split our document into token, each token is a word from the document\n",
    "      splitted_doc = re.split(\"[ .,\\\"]\", x_train[i])\n",
    "      for word in splitted_doc:\n",
    "        vocabulary.append(word)\n",
    "        # We count the number of occurence of the current word in all of the\n",
    "        # given dataset\n",
    "        if word not in dictionnary[c]:\n",
    "          dictionnary[c][word] = 1\n",
    "        else:\n",
    "          dictionnary[c][word] += 1\n",
    "    # We remove multiple occurences of words in our vocabulary\n",
    "    vocabulary = np.unique(vocabulary)\n",
    "\n",
    "    return dictionnary, vocabulary\n",
    "\n",
    "def sum_counts(D: Dict[int, Dict[str, int]], classes: List[int]) -> List[int]:\n",
    "    '''\n",
    "    Counts the total number of word found in the dataset for each class\n",
    "    '''\n",
    "    sum_per_class = [0 for i in range(len(classes))]\n",
    "    for key in D:\n",
    "      # Since we have a dictionnary of dictionnary as input, we take the values\n",
    "      # of the current dictionnary and sum all of them\n",
    "      sum_per_class[key] = sum(D[key].values())\n",
    "    return sum_per_class"
   ]
  },
  {
   "cell_type": "code",
   "execution_count": 14,
   "metadata": {
    "id": "l1Wh9UBY8Tx6"
   },
   "outputs": [],
   "source": [
    "# Function used for the binary Naive Bayes\n",
    "import re\n",
    "def word_check_and_vocabulary(x_train: List[str], \n",
    "                              y_train: List[str], \n",
    "                              classes: List[int]) -> Tuple[Dict[int, Dict[str, int]], List[str]]:\n",
    "    '''\n",
    "    Takes the input dataset and create a list of every word found in it to form\n",
    "    the vocabulary\n",
    "    From this dataset we also create a dictionnary compiling which word can be\n",
    "    found in which class of document\n",
    "    '''\n",
    "    # We still retain the dictionnary of dictionnaries format to keep the same\n",
    "    # code structure\n",
    "    word_check = {}\n",
    "    for c in classes:\n",
    "      word_check[c] = {}\n",
    "    c = -1\n",
    "    vocabulary = []\n",
    "    for i in range(len(y_train)):\n",
    "      c = y_train[i]\n",
    "      splitted_doc = re.split(\"[ .,\\\"]\", x_train[i])\n",
    "      for word in splitted_doc:\n",
    "        vocabulary.append(word)\n",
    "        # Instead of adding, we just keep the occurence at 1\n",
    "        if word not in word_check[c]:\n",
    "          word_check[c][word] = 1\n",
    "    vocabulary = np.unique(vocabulary)\n",
    "\n",
    "    return word_check, vocabulary"
   ]
  },
  {
   "cell_type": "code",
   "execution_count": 10,
   "metadata": {
    "id": "Eb4OcCYl-sUZ"
   },
   "outputs": [],
   "source": [
    "def train_naive_bayes(data: List[str], target: List[int]) -> Tuple[List[int], Dict[int, Dict[str, int]], List[str]]:\n",
    "    '''\n",
    "    Take an input dataset and train the model on that dataset, generating\n",
    "    the likelihood of each word with respect to each class as well as\n",
    "    a vocabulary of the training dataset\n",
    "    '''\n",
    "    # We initialize our data\n",
    "    logprior = dict()\n",
    "    classes = np.unique(target)\n",
    "    count, vocabulary = occurences_and_vocabulary(data, target, classes)\n",
    "    ndoc = len(target)\n",
    "    loglikelihood = dict()\n",
    "    sum_per_class = sum_counts(count, classes)\n",
    "\n",
    "    # For each class we compute the loglikelihood of every word present in\n",
    "    # document of that class\n",
    "    for c in classes:\n",
    "      nc = np.count_nonzero(target == c)\n",
    "      logprior[c] = np.log(nc/ndoc)\n",
    "\n",
    "      # For each word found in a certain class, we compute the\n",
    "      # word's loglikelihood\n",
    "      loglikelihood[c] = {}\n",
    "      for key in count[c]:\n",
    "        loglikelihood[c][key] = np.log((count[c][key] + 1) / (sum_per_class[c] + 1))\n",
    "\n",
    "    return logprior, loglikelihood, vocabulary"
   ]
  },
  {
   "cell_type": "code",
   "execution_count": 11,
   "metadata": {
    "id": "LgzjHlqoxpxD"
   },
   "outputs": [],
   "source": [
    "def train_binary_naive_bayes(data: List[str], target: List[int]) -> Tuple[Dict[int, Dict[str, int]], List[str]]:\n",
    "    '''\n",
    "    Take an input dataset and record which word appear in which document\n",
    "    of which class\n",
    "    '''\n",
    "    logprior = dict()\n",
    "    classes = np.unique(target)\n",
    "    count, vocabulary = word_check_and_vocabulary(data, target, classes)\n",
    "    return count, vocabulary"
   ]
  },
  {
   "cell_type": "code",
   "execution_count": 12,
   "metadata": {
    "id": "IfOXpro25Hka"
   },
   "outputs": [],
   "source": [
    "# Test one doc at a time\n",
    "\n",
    "def test_naive_bayes(testdoc: List[str], \n",
    "                     logprior: List[int], \n",
    "                     loglikelihood: Dict[int, Dict[str, int]], \n",
    "                     C: List[int]) -> int:\n",
    "    '''\n",
    "    Takes the given input and from the given logprior, loglikelihood\n",
    "    we evaluate the class of that input \n",
    "    '''\n",
    "    sum_ = [0 for i in range(len(logprior))]\n",
    "    for c in C:\n",
    "        sum_[c] = logprior[c]\n",
    "        for word in testdoc:\n",
    "          # We do a try except to avoid doing if checks for every word\n",
    "          # and speed up the process\n",
    "          # If we go into the except condition, that means the word is\n",
    "          # not present so we do not take it into account\n",
    "          try:\n",
    "            sum_[c] += loglikelihood[c][word]\n",
    "          except:\n",
    "            pass\n",
    "    return np.argmax(sum_)"
   ]
  },
  {
   "cell_type": "markdown",
   "metadata": {
    "id": "ft41wmOO9MNU"
   },
   "source": [
    "# Test"
   ]
  },
  {
   "cell_type": "code",
   "execution_count": 16,
   "metadata": {
    "id": "tbmgYUjM1_uB"
   },
   "outputs": [],
   "source": [
    "logprior, loglikelihood, vocabulary = train_naive_bayes(x_train, y_train)"
   ]
  },
  {
   "cell_type": "code",
   "execution_count": 17,
   "metadata": {
    "colab": {
     "base_uri": "https://localhost:8080/"
    },
    "id": "4Nm9evuW-Rba",
    "outputId": "0bdbe476-2fb0-4443-a4b8-add0f95e8cec"
   },
   "outputs": [
    {
     "data": {
      "text/plain": [
       "0.61016"
      ]
     },
     "execution_count": 17,
     "metadata": {},
     "output_type": "execute_result"
    }
   ],
   "source": [
    "accuracy = 0\n",
    "# Create a confusion_matrix\n",
    "confusion_matrix = np.array([[0, 0], [0, 0]])\n",
    "# We transform our documents into a list of words\n",
    "split_df = df_test['val'].str.split(\"[ .,\\\"]\")\n",
    "# We test 1 document at a time\n",
    "for i in range(len(split_df)):\n",
    "    # The model predict the current document's class\n",
    "    res = test_naive_bayes(split_df[i], logprior, loglikelihood, [0, 1])\n",
    "    if res == y_test[i]:\n",
    "        accuracy += 1\n",
    "    confusion_matrix[res, y_test[i]] += 1\n",
    "accuracy /= len(split_df)\n",
    "accuracy"
   ]
  },
  {
   "cell_type": "code",
   "execution_count": 18,
   "metadata": {
    "colab": {
     "base_uri": "https://localhost:8080/"
    },
    "id": "Y1q09y8pdFlW",
    "outputId": "df001f02-5dbb-403a-80cd-5cbaf3e35212"
   },
   "outputs": [
    {
     "name": "stdout",
     "output_type": "stream",
     "text": [
      "Confusion matrix: \n",
      "[[7987 5233]\n",
      " [4513 7267]]\n"
     ]
    }
   ],
   "source": [
    "# To note, because 1 is positive and 0 is negative here, positions are reversed\n",
    "# True negative is at position (0, 0)\n",
    "# False negative at (0, 1)\n",
    "# False positive at (1, 0)\n",
    "# True positive at (1, 1)\n",
    "\n",
    "print(\"Confusion matrix: \")\n",
    "print(confusion_matrix)"
   ]
  },
  {
   "cell_type": "markdown",
   "metadata": {
    "id": "mIuoNFxlnGCm"
   },
   "source": [
    "## With the different preprocessing methods"
   ]
  },
  {
   "cell_type": "code",
   "execution_count": 19,
   "metadata": {
    "id": "PvdfKrGi-1Ia"
   },
   "outputs": [],
   "source": [
    "# Preprocessing has already been done beforehand, we now use this stemmed dataset\n",
    "logprior_stemming, loglikelihood_stemming, vocabulary_stemming = train_naive_bayes(stemmed_train, y_train)"
   ]
  },
  {
   "cell_type": "code",
   "execution_count": 20,
   "metadata": {
    "colab": {
     "base_uri": "https://localhost:8080/"
    },
    "id": "6F7Cj7Rx_TXb",
    "outputId": "a6ad5f0c-c559-49b7-a588-539c6dd7fc08"
   },
   "outputs": [
    {
     "data": {
      "text/plain": [
       "0.70724"
      ]
     },
     "execution_count": 20,
     "metadata": {},
     "output_type": "execute_result"
    }
   ],
   "source": [
    "accuracy_stemming = 0\n",
    "confusion_matrix_stem = np.array([[0, 0], [0, 0]])\n",
    "split_df = df_test_stem['val'].str.split(\"[ .,\\\"]\")\n",
    "for i in range(len(split_df)):\n",
    "    res = test_naive_bayes(split_df[i], logprior_stemming, loglikelihood_stemming, [0, 1])\n",
    "    if res == y_test[i]:\n",
    "        accuracy_stemming += 1\n",
    "    confusion_matrix_stem[res, y_test[i]] += 1\n",
    "accuracy_stemming /= len(split_df)\n",
    "accuracy_stemming"
   ]
  },
  {
   "cell_type": "code",
   "execution_count": 21,
   "metadata": {
    "colab": {
     "base_uri": "https://localhost:8080/"
    },
    "id": "3z7BFuoFixgw",
    "outputId": "129732a6-4085-434e-a757-060e3fbf2e82"
   },
   "outputs": [
    {
     "name": "stdout",
     "output_type": "stream",
     "text": [
      "Confusion matrix: \n",
      "[[9632 4451]\n",
      " [2868 8049]]\n"
     ]
    }
   ],
   "source": [
    "print(\"Confusion matrix: \")\n",
    "print(confusion_matrix_stem)"
   ]
  },
  {
   "cell_type": "code",
   "execution_count": 22,
   "metadata": {
    "colab": {
     "base_uri": "https://localhost:8080/"
    },
    "id": "8bHzHGUYErpS",
    "outputId": "f2eeeae1-df83-4197-85fd-556d5d9ec5f2"
   },
   "outputs": [
    {
     "name": "stdout",
     "output_type": "stream",
     "text": [
      "Length vocabulary: 177907\n",
      "Length vocabulary after stemming: 49134\n"
     ]
    }
   ],
   "source": [
    "print(\"Length vocabulary: \" + str(len(vocabulary)))\n",
    "print(\"Length vocabulary after stemming: \" + str(len(vocabulary_stemming)))"
   ]
  },
  {
   "cell_type": "code",
   "execution_count": 23,
   "metadata": {
    "id": "ud9Fd6i0Cykz"
   },
   "outputs": [],
   "source": [
    "# Preprocessing has already been done beforehand, we now use this lemmatized dataset\n",
    "logprior_lemma, loglikelihood_lemma, vocabulary_lemma = train_naive_bayes(lemmas_train, y_train)"
   ]
  },
  {
   "cell_type": "code",
   "execution_count": 24,
   "metadata": {
    "colab": {
     "base_uri": "https://localhost:8080/"
    },
    "id": "btRxXFA4C0Wl",
    "outputId": "770ffcab-4639-4c58-dc80-a1fc50bbccc0"
   },
   "outputs": [
    {
     "data": {
      "text/plain": [
       "0.69256"
      ]
     },
     "execution_count": 24,
     "metadata": {},
     "output_type": "execute_result"
    }
   ],
   "source": [
    "accuracy_lemma = 0\n",
    "confusion_matrix_lemma = np.array([[0, 0], [0, 0]])\n",
    "split_df = df_test_lemma['val'].str.split(\"[ .,\\\"]\")\n",
    "for i in range(len(split_df)):\n",
    "    res = test_naive_bayes(split_df[i], logprior_lemma, loglikelihood_lemma, [0, 1])\n",
    "    if res == y_test[i]:\n",
    "        accuracy_lemma += 1\n",
    "    confusion_matrix_lemma[res, y_test[i]] += 1\n",
    "accuracy_lemma /= len(split_df)\n",
    "accuracy_lemma"
   ]
  },
  {
   "cell_type": "code",
   "execution_count": 25,
   "metadata": {
    "colab": {
     "base_uri": "https://localhost:8080/"
    },
    "id": "ipU52mjGjl28",
    "outputId": "91c2e9f1-8a4a-419d-be8a-62d974d82a67"
   },
   "outputs": [
    {
     "name": "stdout",
     "output_type": "stream",
     "text": [
      "Confusion matrix: \n",
      "[[9431 4617]\n",
      " [3069 7883]]\n"
     ]
    }
   ],
   "source": [
    "print(\"Confusion matrix: \")\n",
    "print(confusion_matrix_lemma)"
   ]
  },
  {
   "cell_type": "markdown",
   "metadata": {
    "id": "_zLxktnLNo5r"
   },
   "source": [
    "## Comparing with Binary Naive Bayes"
   ]
  },
  {
   "cell_type": "code",
   "execution_count": 26,
   "metadata": {
    "id": "TUtgmuwm8o4I"
   },
   "outputs": [],
   "source": [
    "word_check, binary_vocabulary = train_binary_naive_bayes(x_train, y_train)"
   ]
  },
  {
   "cell_type": "code",
   "execution_count": 27,
   "metadata": {
    "id": "rA7cjq4x_cnA"
   },
   "outputs": [],
   "source": [
    "accuracy_binary = 0\n",
    "confusion_matrix_binary = np.array([[0, 0], [0, 0]])\n",
    "split_df = df_test['val'].str.split(\"[ .,\\\"]\")\n",
    "for i in range(len(split_df)):\n",
    "    res = test_naive_bayes(split_df[i], [0, 0], word_check, [0, 1])\n",
    "    if res == y_test[i]:\n",
    "        accuracy_binary += 1\n",
    "    confusion_matrix_binary[res, y_test[i]] += 1\n",
    "accuracy_binary /= len(split_df)"
   ]
  },
  {
   "cell_type": "code",
   "execution_count": 28,
   "metadata": {
    "colab": {
     "base_uri": "https://localhost:8080/"
    },
    "id": "r0uYvpj-HhLs",
    "outputId": "f6c4bc2b-60dd-4f49-8bd6-ed45fa8f91d9"
   },
   "outputs": [
    {
     "name": "stdout",
     "output_type": "stream",
     "text": [
      "Naive Bayes accuracy: 0.61016\n",
      "Binary Naive Bayes accuracy: 0.5908\n"
     ]
    }
   ],
   "source": [
    "print(\"Naive Bayes accuracy: \" + str(accuracy))\n",
    "print(\"Binary Naive Bayes accuracy: \" + str(accuracy_binary))"
   ]
  },
  {
   "cell_type": "code",
   "execution_count": 29,
   "metadata": {
    "colab": {
     "base_uri": "https://localhost:8080/"
    },
    "id": "1CTQcBsSjqkH",
    "outputId": "e040d35f-8c6d-4f26-cfe1-daa3520e1df8"
   },
   "outputs": [
    {
     "name": "stdout",
     "output_type": "stream",
     "text": [
      "Confusion matrix: \n",
      "[[9615 7345]\n",
      " [2885 5155]]\n"
     ]
    }
   ],
   "source": [
    "print(\"Confusion matrix: \")\n",
    "print(confusion_matrix_binary)"
   ]
  },
  {
   "cell_type": "markdown",
   "metadata": {
    "id": "Jq7cB3dKr_N7"
   },
   "source": [
    "Binary Naive Bayes with preprocessing"
   ]
  },
  {
   "cell_type": "code",
   "execution_count": 30,
   "metadata": {
    "id": "SZy7WxYmb--L"
   },
   "outputs": [],
   "source": [
    "word_check_stemmed, binary_stemmed_vocabulary = train_binary_naive_bayes(stemmed_train, y_train)"
   ]
  },
  {
   "cell_type": "code",
   "execution_count": 31,
   "metadata": {
    "colab": {
     "base_uri": "https://localhost:8080/"
    },
    "id": "cYs4nB89cFcI",
    "outputId": "52b182a1-8f79-4e25-8cea-59f6d4d2e245"
   },
   "outputs": [
    {
     "data": {
      "text/plain": [
       "0.54984"
      ]
     },
     "execution_count": 31,
     "metadata": {},
     "output_type": "execute_result"
    }
   ],
   "source": [
    "accuracy_binary_stem = 0\n",
    "confusion_matrix_binary_stem = np.array([[0, 0], [0, 0]])\n",
    "split_df = df_test['val'].str.split(\"[ .,\\\"]\")\n",
    "for i in range(len(split_df)):\n",
    "    res = test_naive_bayes(split_df[i], [0, 0], word_check_stemmed, [0, 1])\n",
    "    if res == y_test[i]:\n",
    "        accuracy_binary_stem += 1\n",
    "    confusion_matrix_binary_stem[res, y_test[i]] += 1\n",
    "accuracy_binary_stem /= len(split_df)\n",
    "accuracy_binary_stem"
   ]
  },
  {
   "cell_type": "code",
   "execution_count": 32,
   "metadata": {
    "colab": {
     "base_uri": "https://localhost:8080/"
    },
    "id": "8fUzjzZdr503",
    "outputId": "3a9a8180-cf19-4a60-90a2-51ad45cba7fa"
   },
   "outputs": [
    {
     "name": "stdout",
     "output_type": "stream",
     "text": [
      "Confusion matrix: \n",
      "[[9191 7945]\n",
      " [3309 4555]]\n"
     ]
    }
   ],
   "source": [
    "print(\"Confusion matrix: \")\n",
    "print(confusion_matrix_binary_stem)"
   ]
  },
  {
   "cell_type": "code",
   "execution_count": 33,
   "metadata": {
    "id": "BmZJlTpFcMXs"
   },
   "outputs": [],
   "source": [
    "word_check_lemmatized, binary_lemmatized_vocabulary = train_binary_naive_bayes(lemmas_train, y_train)"
   ]
  },
  {
   "cell_type": "code",
   "execution_count": 34,
   "metadata": {
    "colab": {
     "base_uri": "https://localhost:8080/"
    },
    "id": "pe51y6oBcMoW",
    "outputId": "72bc1e5e-3caa-429f-9b4a-755f7700ad59"
   },
   "outputs": [
    {
     "data": {
      "text/plain": [
       "0.5568"
      ]
     },
     "execution_count": 34,
     "metadata": {},
     "output_type": "execute_result"
    }
   ],
   "source": [
    "accuracy_binary_lemm = 0\n",
    "confusion_matrix_binary_lemm = np.array([[0, 0], [0, 0]])\n",
    "split_df = df_test['val'].str.split(\"[ .,\\\"]\")\n",
    "for i in range(len(split_df)):\n",
    "    res = test_naive_bayes(split_df[i], [0, 0], word_check_lemmatized, [0, 1])\n",
    "    if res == y_test[i]:\n",
    "        accuracy_binary_lemm += 1\n",
    "    confusion_matrix_binary_lemm[res, y_test[i]] += 1\n",
    "accuracy_binary_lemm /= len(split_df)\n",
    "accuracy_binary_lemm"
   ]
  },
  {
   "cell_type": "code",
   "execution_count": 35,
   "metadata": {
    "colab": {
     "base_uri": "https://localhost:8080/"
    },
    "id": "iPt24b4KnPdS",
    "outputId": "d99a8581-8898-40d8-c1fd-f2db8eeec2f3"
   },
   "outputs": [
    {
     "name": "stdout",
     "output_type": "stream",
     "text": [
      "Confusion matrix: \n",
      "[[9458 8038]\n",
      " [3042 4462]]\n"
     ]
    }
   ],
   "source": [
    "print(\"Confusion matrix: \")\n",
    "print(confusion_matrix_binary_lemm)"
   ]
  },
  {
   "cell_type": "markdown",
   "metadata": {
    "id": "lIdcLDYONsSH"
   },
   "source": [
    "## What happened when our model guessed incorrectly ?"
   ]
  },
  {
   "cell_type": "code",
   "execution_count": 36,
   "metadata": {
    "id": "HSaUlB3KMGjs"
   },
   "outputs": [],
   "source": [
    "# To test our model on-the-fly\n",
    "split_df = df_test_stem['val'].str.split(\"[ .,\\\"]\")"
   ]
  },
  {
   "cell_type": "code",
   "execution_count": 37,
   "metadata": {
    "colab": {
     "base_uri": "https://localhost:8080/"
    },
    "id": "pKMden4OHvgQ",
    "outputId": "01f9c4b9-0b0b-4918-d14b-17252b46fb0a"
   },
   "outputs": [
    {
     "name": "stdout",
     "output_type": "stream",
     "text": [
      "Model's prediction: 0\n",
      "Answer: 1\n"
     ]
    }
   ],
   "source": [
    "i = 7 # Arbitrary number\n",
    "var = test_naive_bayes(split_df[i], logprior_stemming, loglikelihood_stemming, [0, 1])\n",
    "print(\"Model's prediction: \" + str(var))\n",
    "print(\"Answer: \" + str(y_test[i]))"
   ]
  },
  {
   "cell_type": "code",
   "execution_count": 38,
   "metadata": {
    "colab": {
     "base_uri": "https://localhost:8080/",
     "height": 108
    },
    "id": "8MQT8LQaMVOk",
    "outputId": "b96b4b20-4825-4963-af5a-ee72e386c802"
   },
   "outputs": [
    {
     "data": {
      "text/plain": [
       "'i felt this film did have mani good qualiti the cinematographi was certain differ expos the stage aspect of the set and stori the origin charact as actor was certain an achiev and i felt most play quit convinc of cours they are play themselv but definit uniqu the cultur aspect may leav mani disappoint as a familiar with the chines and orient cultur will answer a lot of question regard relationship and the stigma that goe with ani drug use i found the jia hongsheng stori interest on a down note the stori is in beij and some of the fashion and music reek of earli 90s even though this was made in 2001 so it realli cheesi sometim the beatl crap etc whatev not a top ten or twenti but if it on the televis check it out'"
      ]
     },
     "execution_count": 38,
     "metadata": {},
     "output_type": "execute_result"
    }
   ],
   "source": [
    "df_test_stem['val'][i]"
   ]
  },
  {
   "cell_type": "code",
   "execution_count": 39,
   "metadata": {
    "colab": {
     "base_uri": "https://localhost:8080/"
    },
    "id": "TkyGo203IJbq",
    "outputId": "aa00f3fb-1682-41a4-e8ff-d8ca6a44b780"
   },
   "outputs": [
    {
     "name": "stdout",
     "output_type": "stream",
     "text": [
      "Model's prediction: 0\n",
      "Answer: 1\n"
     ]
    }
   ],
   "source": [
    "i = 62\n",
    "split_df = df_test_stem['val'].str.split(\"[ .,\\\"]\")\n",
    "var = test_naive_bayes(split_df[62], logprior_stemming, loglikelihood_stemming, [0, 1])\n",
    "print(\"Model's prediction: \" + str(var))\n",
    "print(\"Answer: \" + str(y_test[i]))"
   ]
  },
  {
   "cell_type": "code",
   "execution_count": 40,
   "metadata": {
    "colab": {
     "base_uri": "https://localhost:8080/",
     "height": 146
    },
    "id": "DbXsAO-nKFn3",
    "outputId": "b49b6422-c40a-4af1-d41d-4f2b1d03c523"
   },
   "outputs": [
    {
     "data": {
      "text/plain": [
       "'i have been a fan of madonna for quit sometim now howev i thought i would comment on this br br this film mistaken one of them as well as madonna was pan by the critic they were high mistaken and mani potenti viewer were turn off by the bad br br first madonna doe an excel job in this movi which was one of her first she play a ditsi blond in the film she is far from a ditsi blond in real life most critic were somewhat prejud by her sing fame and did give her a fair shake when you view this film i hope that you understand that the accent and the goofi is just act she was absolut hyster as was the br br griffen dunn is anoth person who was not given a fair review in the film if you take a look at his filmographi you will see he is quit an accomplish br br as far as the movi itself this is someth similar to pretti woman but came 3 year befor the robert gere success it a comedi with lot of site gag slapstick and one liner some of the comedi is deadpan and take a comedi aficionado to realli appreci the more subtl br br i know this doe tell you much about the movi howev i hope this help dispel ani belief that this is a poor movi it is absolut worth rent for an enjoy night of great br br br br gari'"
      ]
     },
     "execution_count": 40,
     "metadata": {},
     "output_type": "execute_result"
    }
   ],
   "source": [
    "df_test_stem['val'][i]"
   ]
  }
 ],
 "metadata": {
  "accelerator": "GPU",
  "colab": {
   "collapsed_sections": [],
   "name": "naivebayes.ipynb",
   "provenance": []
  },
  "kernelspec": {
   "display_name": "Python 3 (ipykernel)",
   "language": "python",
   "name": "python3"
  },
  "language_info": {
   "codemirror_mode": {
    "name": "ipython",
    "version": 3
   },
   "file_extension": ".py",
   "mimetype": "text/x-python",
   "name": "python",
   "nbconvert_exporter": "python",
   "pygments_lexer": "ipython3",
   "version": "3.8.10"
  },
  "widgets": {
   "application/vnd.jupyter.widget-state+json": {
    "069f5878be9d49018333194d47e07dad": {
     "model_module": "@jupyter-widgets/base",
     "model_module_version": "1.2.0",
     "model_name": "LayoutModel",
     "state": {
      "_model_module": "@jupyter-widgets/base",
      "_model_module_version": "1.2.0",
      "_model_name": "LayoutModel",
      "_view_count": null,
      "_view_module": "@jupyter-widgets/base",
      "_view_module_version": "1.2.0",
      "_view_name": "LayoutView",
      "align_content": null,
      "align_items": null,
      "align_self": null,
      "border": null,
      "bottom": null,
      "display": null,
      "flex": null,
      "flex_flow": null,
      "grid_area": null,
      "grid_auto_columns": null,
      "grid_auto_flow": null,
      "grid_auto_rows": null,
      "grid_column": null,
      "grid_gap": null,
      "grid_row": null,
      "grid_template_areas": null,
      "grid_template_columns": null,
      "grid_template_rows": null,
      "height": null,
      "justify_content": null,
      "justify_items": null,
      "left": null,
      "margin": null,
      "max_height": null,
      "max_width": null,
      "min_height": null,
      "min_width": null,
      "object_fit": null,
      "object_position": null,
      "order": null,
      "overflow": null,
      "overflow_x": null,
      "overflow_y": null,
      "padding": null,
      "right": null,
      "top": null,
      "visibility": null,
      "width": null
     }
    },
    "13d4add67560429595a1ca1409afbf72": {
     "model_module": "@jupyter-widgets/base",
     "model_module_version": "1.2.0",
     "model_name": "LayoutModel",
     "state": {
      "_model_module": "@jupyter-widgets/base",
      "_model_module_version": "1.2.0",
      "_model_name": "LayoutModel",
      "_view_count": null,
      "_view_module": "@jupyter-widgets/base",
      "_view_module_version": "1.2.0",
      "_view_name": "LayoutView",
      "align_content": null,
      "align_items": null,
      "align_self": null,
      "border": null,
      "bottom": null,
      "display": null,
      "flex": null,
      "flex_flow": null,
      "grid_area": null,
      "grid_auto_columns": null,
      "grid_auto_flow": null,
      "grid_auto_rows": null,
      "grid_column": null,
      "grid_gap": null,
      "grid_row": null,
      "grid_template_areas": null,
      "grid_template_columns": null,
      "grid_template_rows": null,
      "height": null,
      "justify_content": null,
      "justify_items": null,
      "left": null,
      "margin": null,
      "max_height": null,
      "max_width": null,
      "min_height": null,
      "min_width": null,
      "object_fit": null,
      "object_position": null,
      "order": null,
      "overflow": null,
      "overflow_x": null,
      "overflow_y": null,
      "padding": null,
      "right": null,
      "top": null,
      "visibility": null,
      "width": "20px"
     }
    },
    "172bdfe71ae84b0e80d92acf3faf5642": {
     "model_module": "@jupyter-widgets/controls",
     "model_module_version": "1.5.0",
     "model_name": "DescriptionStyleModel",
     "state": {
      "_model_module": "@jupyter-widgets/controls",
      "_model_module_version": "1.5.0",
      "_model_name": "DescriptionStyleModel",
      "_view_count": null,
      "_view_module": "@jupyter-widgets/base",
      "_view_module_version": "1.2.0",
      "_view_name": "StyleView",
      "description_width": ""
     }
    },
    "279afee1ddb54edb943c92b0f2d6e797": {
     "model_module": "@jupyter-widgets/base",
     "model_module_version": "1.2.0",
     "model_name": "LayoutModel",
     "state": {
      "_model_module": "@jupyter-widgets/base",
      "_model_module_version": "1.2.0",
      "_model_name": "LayoutModel",
      "_view_count": null,
      "_view_module": "@jupyter-widgets/base",
      "_view_module_version": "1.2.0",
      "_view_name": "LayoutView",
      "align_content": null,
      "align_items": null,
      "align_self": null,
      "border": null,
      "bottom": null,
      "display": null,
      "flex": null,
      "flex_flow": null,
      "grid_area": null,
      "grid_auto_columns": null,
      "grid_auto_flow": null,
      "grid_auto_rows": null,
      "grid_column": null,
      "grid_gap": null,
      "grid_row": null,
      "grid_template_areas": null,
      "grid_template_columns": null,
      "grid_template_rows": null,
      "height": null,
      "justify_content": null,
      "justify_items": null,
      "left": null,
      "margin": null,
      "max_height": null,
      "max_width": null,
      "min_height": null,
      "min_width": null,
      "object_fit": null,
      "object_position": null,
      "order": null,
      "overflow": null,
      "overflow_x": null,
      "overflow_y": null,
      "padding": null,
      "right": null,
      "top": null,
      "visibility": null,
      "width": null
     }
    },
    "2cfdf1f7dd964e8a84103a3386a2a27c": {
     "model_module": "@jupyter-widgets/controls",
     "model_module_version": "1.5.0",
     "model_name": "HTMLModel",
     "state": {
      "_dom_classes": [],
      "_model_module": "@jupyter-widgets/controls",
      "_model_module_version": "1.5.0",
      "_model_name": "HTMLModel",
      "_view_count": null,
      "_view_module": "@jupyter-widgets/controls",
      "_view_module_version": "1.5.0",
      "_view_name": "HTMLView",
      "description": "",
      "description_tooltip": null,
      "layout": "IPY_MODEL_b9ce640947bf404b8252d097f57ce781",
      "placeholder": "​",
      "style": "IPY_MODEL_f80c3c84e9794f469c2dedf85aa270a7",
      "value": " 24594/0 [00:02&lt;00:00, 9579.18 examples/s]"
     }
    },
    "2dd63be0bc2644eca4509e64e2f9f948": {
     "model_module": "@jupyter-widgets/controls",
     "model_module_version": "1.5.0",
     "model_name": "ProgressStyleModel",
     "state": {
      "_model_module": "@jupyter-widgets/controls",
      "_model_module_version": "1.5.0",
      "_model_name": "ProgressStyleModel",
      "_view_count": null,
      "_view_module": "@jupyter-widgets/base",
      "_view_module_version": "1.2.0",
      "_view_name": "StyleView",
      "bar_color": null,
      "description_width": ""
     }
    },
    "2f19039e6bbe44c7a1cedd192b2124a1": {
     "model_module": "@jupyter-widgets/base",
     "model_module_version": "1.2.0",
     "model_name": "LayoutModel",
     "state": {
      "_model_module": "@jupyter-widgets/base",
      "_model_module_version": "1.2.0",
      "_model_name": "LayoutModel",
      "_view_count": null,
      "_view_module": "@jupyter-widgets/base",
      "_view_module_version": "1.2.0",
      "_view_name": "LayoutView",
      "align_content": null,
      "align_items": null,
      "align_self": null,
      "border": null,
      "bottom": null,
      "display": null,
      "flex": null,
      "flex_flow": null,
      "grid_area": null,
      "grid_auto_columns": null,
      "grid_auto_flow": null,
      "grid_auto_rows": null,
      "grid_column": null,
      "grid_gap": null,
      "grid_row": null,
      "grid_template_areas": null,
      "grid_template_columns": null,
      "grid_template_rows": null,
      "height": null,
      "justify_content": null,
      "justify_items": null,
      "left": null,
      "margin": null,
      "max_height": null,
      "max_width": null,
      "min_height": null,
      "min_width": null,
      "object_fit": null,
      "object_position": null,
      "order": null,
      "overflow": null,
      "overflow_x": null,
      "overflow_y": null,
      "padding": null,
      "right": null,
      "top": null,
      "visibility": null,
      "width": null
     }
    },
    "3134ad412e814027bc0f65123d5991cd": {
     "model_module": "@jupyter-widgets/base",
     "model_module_version": "1.2.0",
     "model_name": "LayoutModel",
     "state": {
      "_model_module": "@jupyter-widgets/base",
      "_model_module_version": "1.2.0",
      "_model_name": "LayoutModel",
      "_view_count": null,
      "_view_module": "@jupyter-widgets/base",
      "_view_module_version": "1.2.0",
      "_view_name": "LayoutView",
      "align_content": null,
      "align_items": null,
      "align_self": null,
      "border": null,
      "bottom": null,
      "display": null,
      "flex": null,
      "flex_flow": null,
      "grid_area": null,
      "grid_auto_columns": null,
      "grid_auto_flow": null,
      "grid_auto_rows": null,
      "grid_column": null,
      "grid_gap": null,
      "grid_row": null,
      "grid_template_areas": null,
      "grid_template_columns": null,
      "grid_template_rows": null,
      "height": null,
      "justify_content": null,
      "justify_items": null,
      "left": null,
      "margin": null,
      "max_height": null,
      "max_width": null,
      "min_height": null,
      "min_width": null,
      "object_fit": null,
      "object_position": null,
      "order": null,
      "overflow": null,
      "overflow_x": null,
      "overflow_y": null,
      "padding": null,
      "right": null,
      "top": null,
      "visibility": null,
      "width": null
     }
    },
    "327f7d8780ea40e5a7de6111e92565dc": {
     "model_module": "@jupyter-widgets/base",
     "model_module_version": "1.2.0",
     "model_name": "LayoutModel",
     "state": {
      "_model_module": "@jupyter-widgets/base",
      "_model_module_version": "1.2.0",
      "_model_name": "LayoutModel",
      "_view_count": null,
      "_view_module": "@jupyter-widgets/base",
      "_view_module_version": "1.2.0",
      "_view_name": "LayoutView",
      "align_content": null,
      "align_items": null,
      "align_self": null,
      "border": null,
      "bottom": null,
      "display": null,
      "flex": null,
      "flex_flow": null,
      "grid_area": null,
      "grid_auto_columns": null,
      "grid_auto_flow": null,
      "grid_auto_rows": null,
      "grid_column": null,
      "grid_gap": null,
      "grid_row": null,
      "grid_template_areas": null,
      "grid_template_columns": null,
      "grid_template_rows": null,
      "height": null,
      "justify_content": null,
      "justify_items": null,
      "left": null,
      "margin": null,
      "max_height": null,
      "max_width": null,
      "min_height": null,
      "min_width": null,
      "object_fit": null,
      "object_position": null,
      "order": null,
      "overflow": null,
      "overflow_x": null,
      "overflow_y": null,
      "padding": null,
      "right": null,
      "top": null,
      "visibility": null,
      "width": null
     }
    },
    "333d179f3dfc46569d21326e330dec3c": {
     "model_module": "@jupyter-widgets/controls",
     "model_module_version": "1.5.0",
     "model_name": "DescriptionStyleModel",
     "state": {
      "_model_module": "@jupyter-widgets/controls",
      "_model_module_version": "1.5.0",
      "_model_name": "DescriptionStyleModel",
      "_view_count": null,
      "_view_module": "@jupyter-widgets/base",
      "_view_module_version": "1.2.0",
      "_view_name": "StyleView",
      "description_width": ""
     }
    },
    "3c96e36c79764dcca9fd005b275a882b": {
     "model_module": "@jupyter-widgets/base",
     "model_module_version": "1.2.0",
     "model_name": "LayoutModel",
     "state": {
      "_model_module": "@jupyter-widgets/base",
      "_model_module_version": "1.2.0",
      "_model_name": "LayoutModel",
      "_view_count": null,
      "_view_module": "@jupyter-widgets/base",
      "_view_module_version": "1.2.0",
      "_view_name": "LayoutView",
      "align_content": null,
      "align_items": null,
      "align_self": null,
      "border": null,
      "bottom": null,
      "display": null,
      "flex": null,
      "flex_flow": null,
      "grid_area": null,
      "grid_auto_columns": null,
      "grid_auto_flow": null,
      "grid_auto_rows": null,
      "grid_column": null,
      "grid_gap": null,
      "grid_row": null,
      "grid_template_areas": null,
      "grid_template_columns": null,
      "grid_template_rows": null,
      "height": null,
      "justify_content": null,
      "justify_items": null,
      "left": null,
      "margin": null,
      "max_height": null,
      "max_width": null,
      "min_height": null,
      "min_width": null,
      "object_fit": null,
      "object_position": null,
      "order": null,
      "overflow": null,
      "overflow_x": null,
      "overflow_y": null,
      "padding": null,
      "right": null,
      "top": null,
      "visibility": null,
      "width": null
     }
    },
    "3d11f45da8a2429f934f0f0ad9ebb222": {
     "model_module": "@jupyter-widgets/controls",
     "model_module_version": "1.5.0",
     "model_name": "DescriptionStyleModel",
     "state": {
      "_model_module": "@jupyter-widgets/controls",
      "_model_module_version": "1.5.0",
      "_model_name": "DescriptionStyleModel",
      "_view_count": null,
      "_view_module": "@jupyter-widgets/base",
      "_view_module_version": "1.2.0",
      "_view_name": "StyleView",
      "description_width": ""
     }
    },
    "402a19da6e0c4aad870c3ee90a5d2116": {
     "model_module": "@jupyter-widgets/controls",
     "model_module_version": "1.5.0",
     "model_name": "FloatProgressModel",
     "state": {
      "_dom_classes": [],
      "_model_module": "@jupyter-widgets/controls",
      "_model_module_version": "1.5.0",
      "_model_name": "FloatProgressModel",
      "_view_count": null,
      "_view_module": "@jupyter-widgets/controls",
      "_view_module_version": "1.5.0",
      "_view_name": "ProgressView",
      "bar_style": "success",
      "description": "",
      "description_tooltip": null,
      "layout": "IPY_MODEL_474b03226a54437eb8f9fb6aa0c7e23d",
      "max": 1054,
      "min": 0,
      "orientation": "horizontal",
      "style": "IPY_MODEL_db11e9ac4f6e46f895d55bd0cd1ac46f",
      "value": 1054
     }
    },
    "417b28c8da5246faa6b208dd4cab4117": {
     "model_module": "@jupyter-widgets/base",
     "model_module_version": "1.2.0",
     "model_name": "LayoutModel",
     "state": {
      "_model_module": "@jupyter-widgets/base",
      "_model_module_version": "1.2.0",
      "_model_name": "LayoutModel",
      "_view_count": null,
      "_view_module": "@jupyter-widgets/base",
      "_view_module_version": "1.2.0",
      "_view_name": "LayoutView",
      "align_content": null,
      "align_items": null,
      "align_self": null,
      "border": null,
      "bottom": null,
      "display": null,
      "flex": null,
      "flex_flow": null,
      "grid_area": null,
      "grid_auto_columns": null,
      "grid_auto_flow": null,
      "grid_auto_rows": null,
      "grid_column": null,
      "grid_gap": null,
      "grid_row": null,
      "grid_template_areas": null,
      "grid_template_columns": null,
      "grid_template_rows": null,
      "height": null,
      "justify_content": null,
      "justify_items": null,
      "left": null,
      "margin": null,
      "max_height": null,
      "max_width": null,
      "min_height": null,
      "min_width": null,
      "object_fit": null,
      "object_position": null,
      "order": null,
      "overflow": null,
      "overflow_x": null,
      "overflow_y": null,
      "padding": null,
      "right": null,
      "top": null,
      "visibility": null,
      "width": "20px"
     }
    },
    "474b03226a54437eb8f9fb6aa0c7e23d": {
     "model_module": "@jupyter-widgets/base",
     "model_module_version": "1.2.0",
     "model_name": "LayoutModel",
     "state": {
      "_model_module": "@jupyter-widgets/base",
      "_model_module_version": "1.2.0",
      "_model_name": "LayoutModel",
      "_view_count": null,
      "_view_module": "@jupyter-widgets/base",
      "_view_module_version": "1.2.0",
      "_view_name": "LayoutView",
      "align_content": null,
      "align_items": null,
      "align_self": null,
      "border": null,
      "bottom": null,
      "display": null,
      "flex": null,
      "flex_flow": null,
      "grid_area": null,
      "grid_auto_columns": null,
      "grid_auto_flow": null,
      "grid_auto_rows": null,
      "grid_column": null,
      "grid_gap": null,
      "grid_row": null,
      "grid_template_areas": null,
      "grid_template_columns": null,
      "grid_template_rows": null,
      "height": null,
      "justify_content": null,
      "justify_items": null,
      "left": null,
      "margin": null,
      "max_height": null,
      "max_width": null,
      "min_height": null,
      "min_width": null,
      "object_fit": null,
      "object_position": null,
      "order": null,
      "overflow": null,
      "overflow_x": null,
      "overflow_y": null,
      "padding": null,
      "right": null,
      "top": null,
      "visibility": null,
      "width": null
     }
    },
    "4825fd3dfbb54c76acf4b9c58013667c": {
     "model_module": "@jupyter-widgets/base",
     "model_module_version": "1.2.0",
     "model_name": "LayoutModel",
     "state": {
      "_model_module": "@jupyter-widgets/base",
      "_model_module_version": "1.2.0",
      "_model_name": "LayoutModel",
      "_view_count": null,
      "_view_module": "@jupyter-widgets/base",
      "_view_module_version": "1.2.0",
      "_view_name": "LayoutView",
      "align_content": null,
      "align_items": null,
      "align_self": null,
      "border": null,
      "bottom": null,
      "display": null,
      "flex": null,
      "flex_flow": null,
      "grid_area": null,
      "grid_auto_columns": null,
      "grid_auto_flow": null,
      "grid_auto_rows": null,
      "grid_column": null,
      "grid_gap": null,
      "grid_row": null,
      "grid_template_areas": null,
      "grid_template_columns": null,
      "grid_template_rows": null,
      "height": null,
      "justify_content": null,
      "justify_items": null,
      "left": null,
      "margin": null,
      "max_height": null,
      "max_width": null,
      "min_height": null,
      "min_width": null,
      "object_fit": null,
      "object_position": null,
      "order": null,
      "overflow": null,
      "overflow_x": null,
      "overflow_y": null,
      "padding": null,
      "right": null,
      "top": null,
      "visibility": null,
      "width": null
     }
    },
    "491c294a3eec418bb553d5c17941477a": {
     "model_module": "@jupyter-widgets/controls",
     "model_module_version": "1.5.0",
     "model_name": "HBoxModel",
     "state": {
      "_dom_classes": [],
      "_model_module": "@jupyter-widgets/controls",
      "_model_module_version": "1.5.0",
      "_model_name": "HBoxModel",
      "_view_count": null,
      "_view_module": "@jupyter-widgets/controls",
      "_view_module_version": "1.5.0",
      "_view_name": "HBoxView",
      "box_style": "",
      "children": [
       "IPY_MODEL_7d4ed02bd8354c1ab8929636b14fd2f7",
       "IPY_MODEL_d7ba32e6195c4a988411d5c67e1a618b",
       "IPY_MODEL_afa44f20407348419c55367b2a78fa66"
      ],
      "layout": "IPY_MODEL_327f7d8780ea40e5a7de6111e92565dc"
     }
    },
    "4fe173c43a524480939b007e9f47c5da": {
     "model_module": "@jupyter-widgets/base",
     "model_module_version": "1.2.0",
     "model_name": "LayoutModel",
     "state": {
      "_model_module": "@jupyter-widgets/base",
      "_model_module_version": "1.2.0",
      "_model_name": "LayoutModel",
      "_view_count": null,
      "_view_module": "@jupyter-widgets/base",
      "_view_module_version": "1.2.0",
      "_view_name": "LayoutView",
      "align_content": null,
      "align_items": null,
      "align_self": null,
      "border": null,
      "bottom": null,
      "display": null,
      "flex": null,
      "flex_flow": null,
      "grid_area": null,
      "grid_auto_columns": null,
      "grid_auto_flow": null,
      "grid_auto_rows": null,
      "grid_column": null,
      "grid_gap": null,
      "grid_row": null,
      "grid_template_areas": null,
      "grid_template_columns": null,
      "grid_template_rows": null,
      "height": null,
      "justify_content": null,
      "justify_items": null,
      "left": null,
      "margin": null,
      "max_height": null,
      "max_width": null,
      "min_height": null,
      "min_width": null,
      "object_fit": null,
      "object_position": null,
      "order": null,
      "overflow": null,
      "overflow_x": null,
      "overflow_y": null,
      "padding": null,
      "right": null,
      "top": null,
      "visibility": null,
      "width": null
     }
    },
    "5219a109f0d7488982990818ce1af9a5": {
     "model_module": "@jupyter-widgets/controls",
     "model_module_version": "1.5.0",
     "model_name": "HBoxModel",
     "state": {
      "_dom_classes": [],
      "_model_module": "@jupyter-widgets/controls",
      "_model_module_version": "1.5.0",
      "_model_name": "HBoxModel",
      "_view_count": null,
      "_view_module": "@jupyter-widgets/controls",
      "_view_module_version": "1.5.0",
      "_view_name": "HBoxView",
      "box_style": "",
      "children": [
       "IPY_MODEL_93fc1b6a978241b1809ba489fbd15b3e",
       "IPY_MODEL_9926d6deac574db9a6972a2f16b3917b",
       "IPY_MODEL_2cfdf1f7dd964e8a84103a3386a2a27c"
      ],
      "layout": "IPY_MODEL_7f95b1d688b0483da982a389ee38b63b"
     }
    },
    "53796dd8c9e54c5eb43d1416db26edbd": {
     "model_module": "@jupyter-widgets/controls",
     "model_module_version": "1.5.0",
     "model_name": "DescriptionStyleModel",
     "state": {
      "_model_module": "@jupyter-widgets/controls",
      "_model_module_version": "1.5.0",
      "_model_name": "DescriptionStyleModel",
      "_view_count": null,
      "_view_module": "@jupyter-widgets/base",
      "_view_module_version": "1.2.0",
      "_view_name": "StyleView",
      "description_width": ""
     }
    },
    "58a3e485d7bc4587bd23be15ded7c50a": {
     "model_module": "@jupyter-widgets/base",
     "model_module_version": "1.2.0",
     "model_name": "LayoutModel",
     "state": {
      "_model_module": "@jupyter-widgets/base",
      "_model_module_version": "1.2.0",
      "_model_name": "LayoutModel",
      "_view_count": null,
      "_view_module": "@jupyter-widgets/base",
      "_view_module_version": "1.2.0",
      "_view_name": "LayoutView",
      "align_content": null,
      "align_items": null,
      "align_self": null,
      "border": null,
      "bottom": null,
      "display": null,
      "flex": null,
      "flex_flow": null,
      "grid_area": null,
      "grid_auto_columns": null,
      "grid_auto_flow": null,
      "grid_auto_rows": null,
      "grid_column": null,
      "grid_gap": null,
      "grid_row": null,
      "grid_template_areas": null,
      "grid_template_columns": null,
      "grid_template_rows": null,
      "height": null,
      "justify_content": null,
      "justify_items": null,
      "left": null,
      "margin": null,
      "max_height": null,
      "max_width": null,
      "min_height": null,
      "min_width": null,
      "object_fit": null,
      "object_position": null,
      "order": null,
      "overflow": null,
      "overflow_x": null,
      "overflow_y": null,
      "padding": null,
      "right": null,
      "top": null,
      "visibility": null,
      "width": "20px"
     }
    },
    "5bf08a12aaab4729abb85ac7e3d838a7": {
     "model_module": "@jupyter-widgets/base",
     "model_module_version": "1.2.0",
     "model_name": "LayoutModel",
     "state": {
      "_model_module": "@jupyter-widgets/base",
      "_model_module_version": "1.2.0",
      "_model_name": "LayoutModel",
      "_view_count": null,
      "_view_module": "@jupyter-widgets/base",
      "_view_module_version": "1.2.0",
      "_view_name": "LayoutView",
      "align_content": null,
      "align_items": null,
      "align_self": null,
      "border": null,
      "bottom": null,
      "display": null,
      "flex": null,
      "flex_flow": null,
      "grid_area": null,
      "grid_auto_columns": null,
      "grid_auto_flow": null,
      "grid_auto_rows": null,
      "grid_column": null,
      "grid_gap": null,
      "grid_row": null,
      "grid_template_areas": null,
      "grid_template_columns": null,
      "grid_template_rows": null,
      "height": null,
      "justify_content": null,
      "justify_items": null,
      "left": null,
      "margin": null,
      "max_height": null,
      "max_width": null,
      "min_height": null,
      "min_width": null,
      "object_fit": null,
      "object_position": null,
      "order": null,
      "overflow": null,
      "overflow_x": null,
      "overflow_y": null,
      "padding": null,
      "right": null,
      "top": null,
      "visibility": null,
      "width": null
     }
    },
    "5c93e69589fb407a82dd91bbfea9373e": {
     "model_module": "@jupyter-widgets/base",
     "model_module_version": "1.2.0",
     "model_name": "LayoutModel",
     "state": {
      "_model_module": "@jupyter-widgets/base",
      "_model_module_version": "1.2.0",
      "_model_name": "LayoutModel",
      "_view_count": null,
      "_view_module": "@jupyter-widgets/base",
      "_view_module_version": "1.2.0",
      "_view_name": "LayoutView",
      "align_content": null,
      "align_items": null,
      "align_self": null,
      "border": null,
      "bottom": null,
      "display": null,
      "flex": null,
      "flex_flow": null,
      "grid_area": null,
      "grid_auto_columns": null,
      "grid_auto_flow": null,
      "grid_auto_rows": null,
      "grid_column": null,
      "grid_gap": null,
      "grid_row": null,
      "grid_template_areas": null,
      "grid_template_columns": null,
      "grid_template_rows": null,
      "height": null,
      "justify_content": null,
      "justify_items": null,
      "left": null,
      "margin": null,
      "max_height": null,
      "max_width": null,
      "min_height": null,
      "min_width": null,
      "object_fit": null,
      "object_position": null,
      "order": null,
      "overflow": null,
      "overflow_x": null,
      "overflow_y": null,
      "padding": null,
      "right": null,
      "top": null,
      "visibility": null,
      "width": null
     }
    },
    "5ce61529c85841cba20d86e22387e018": {
     "model_module": "@jupyter-widgets/controls",
     "model_module_version": "1.5.0",
     "model_name": "FloatProgressModel",
     "state": {
      "_dom_classes": [],
      "_model_module": "@jupyter-widgets/controls",
      "_model_module_version": "1.5.0",
      "_model_name": "FloatProgressModel",
      "_view_count": null,
      "_view_module": "@jupyter-widgets/controls",
      "_view_module_version": "1.5.0",
      "_view_name": "ProgressView",
      "bar_style": "success",
      "description": "",
      "description_tooltip": null,
      "layout": "IPY_MODEL_4fe173c43a524480939b007e9f47c5da",
      "max": 84125825,
      "min": 0,
      "orientation": "horizontal",
      "style": "IPY_MODEL_fad794bca1ea4af7a1eb775c63148a26",
      "value": 84125825
     }
    },
    "6192e77a79a04731903d27d428085bc1": {
     "model_module": "@jupyter-widgets/base",
     "model_module_version": "1.2.0",
     "model_name": "LayoutModel",
     "state": {
      "_model_module": "@jupyter-widgets/base",
      "_model_module_version": "1.2.0",
      "_model_name": "LayoutModel",
      "_view_count": null,
      "_view_module": "@jupyter-widgets/base",
      "_view_module_version": "1.2.0",
      "_view_name": "LayoutView",
      "align_content": null,
      "align_items": null,
      "align_self": null,
      "border": null,
      "bottom": null,
      "display": null,
      "flex": null,
      "flex_flow": null,
      "grid_area": null,
      "grid_auto_columns": null,
      "grid_auto_flow": null,
      "grid_auto_rows": null,
      "grid_column": null,
      "grid_gap": null,
      "grid_row": null,
      "grid_template_areas": null,
      "grid_template_columns": null,
      "grid_template_rows": null,
      "height": null,
      "justify_content": null,
      "justify_items": null,
      "left": null,
      "margin": null,
      "max_height": null,
      "max_width": null,
      "min_height": null,
      "min_width": null,
      "object_fit": null,
      "object_position": null,
      "order": null,
      "overflow": null,
      "overflow_x": null,
      "overflow_y": null,
      "padding": null,
      "right": null,
      "top": null,
      "visibility": null,
      "width": null
     }
    },
    "61dedb623e1c4357b6e374d12bf5ad03": {
     "model_module": "@jupyter-widgets/base",
     "model_module_version": "1.2.0",
     "model_name": "LayoutModel",
     "state": {
      "_model_module": "@jupyter-widgets/base",
      "_model_module_version": "1.2.0",
      "_model_name": "LayoutModel",
      "_view_count": null,
      "_view_module": "@jupyter-widgets/base",
      "_view_module_version": "1.2.0",
      "_view_name": "LayoutView",
      "align_content": null,
      "align_items": null,
      "align_self": null,
      "border": null,
      "bottom": null,
      "display": null,
      "flex": null,
      "flex_flow": null,
      "grid_area": null,
      "grid_auto_columns": null,
      "grid_auto_flow": null,
      "grid_auto_rows": null,
      "grid_column": null,
      "grid_gap": null,
      "grid_row": null,
      "grid_template_areas": null,
      "grid_template_columns": null,
      "grid_template_rows": null,
      "height": null,
      "justify_content": null,
      "justify_items": null,
      "left": null,
      "margin": null,
      "max_height": null,
      "max_width": null,
      "min_height": null,
      "min_width": null,
      "object_fit": null,
      "object_position": null,
      "order": null,
      "overflow": null,
      "overflow_x": null,
      "overflow_y": null,
      "padding": null,
      "right": null,
      "top": null,
      "visibility": null,
      "width": null
     }
    },
    "6554491a39b646a685df8e8191fb9db0": {
     "model_module": "@jupyter-widgets/controls",
     "model_module_version": "1.5.0",
     "model_name": "HTMLModel",
     "state": {
      "_dom_classes": [],
      "_model_module": "@jupyter-widgets/controls",
      "_model_module_version": "1.5.0",
      "_model_name": "HTMLModel",
      "_view_count": null,
      "_view_module": "@jupyter-widgets/controls",
      "_view_module_version": "1.5.0",
      "_view_name": "HTMLView",
      "description": "",
      "description_tooltip": null,
      "layout": "IPY_MODEL_61dedb623e1c4357b6e374d12bf5ad03",
      "placeholder": "​",
      "style": "IPY_MODEL_172bdfe71ae84b0e80d92acf3faf5642",
      "value": " 84.1M/84.1M [00:03&lt;00:00, 28.8MB/s]"
     }
    },
    "733dbeb792f2487db2e5dd0c2934a54b": {
     "model_module": "@jupyter-widgets/controls",
     "model_module_version": "1.5.0",
     "model_name": "ProgressStyleModel",
     "state": {
      "_model_module": "@jupyter-widgets/controls",
      "_model_module_version": "1.5.0",
      "_model_name": "ProgressStyleModel",
      "_view_count": null,
      "_view_module": "@jupyter-widgets/base",
      "_view_module_version": "1.2.0",
      "_view_name": "StyleView",
      "bar_color": null,
      "description_width": ""
     }
    },
    "73a7b173656946e4810a60a9309f726f": {
     "model_module": "@jupyter-widgets/controls",
     "model_module_version": "1.5.0",
     "model_name": "ProgressStyleModel",
     "state": {
      "_model_module": "@jupyter-widgets/controls",
      "_model_module_version": "1.5.0",
      "_model_name": "ProgressStyleModel",
      "_view_count": null,
      "_view_module": "@jupyter-widgets/base",
      "_view_module_version": "1.2.0",
      "_view_name": "StyleView",
      "bar_color": null,
      "description_width": ""
     }
    },
    "76dd9c6c7c7a44e29993f8560b3e487b": {
     "model_module": "@jupyter-widgets/controls",
     "model_module_version": "1.5.0",
     "model_name": "DescriptionStyleModel",
     "state": {
      "_model_module": "@jupyter-widgets/controls",
      "_model_module_version": "1.5.0",
      "_model_name": "DescriptionStyleModel",
      "_view_count": null,
      "_view_module": "@jupyter-widgets/base",
      "_view_module_version": "1.2.0",
      "_view_name": "StyleView",
      "description_width": ""
     }
    },
    "776d80e7b9f84e0598659891a188b5b2": {
     "model_module": "@jupyter-widgets/controls",
     "model_module_version": "1.5.0",
     "model_name": "DescriptionStyleModel",
     "state": {
      "_model_module": "@jupyter-widgets/controls",
      "_model_module_version": "1.5.0",
      "_model_name": "DescriptionStyleModel",
      "_view_count": null,
      "_view_module": "@jupyter-widgets/base",
      "_view_module_version": "1.2.0",
      "_view_name": "StyleView",
      "description_width": ""
     }
    },
    "7c1204dccb294ced9a388a1123a50590": {
     "model_module": "@jupyter-widgets/base",
     "model_module_version": "1.2.0",
     "model_name": "LayoutModel",
     "state": {
      "_model_module": "@jupyter-widgets/base",
      "_model_module_version": "1.2.0",
      "_model_name": "LayoutModel",
      "_view_count": null,
      "_view_module": "@jupyter-widgets/base",
      "_view_module_version": "1.2.0",
      "_view_name": "LayoutView",
      "align_content": null,
      "align_items": null,
      "align_self": null,
      "border": null,
      "bottom": null,
      "display": null,
      "flex": null,
      "flex_flow": null,
      "grid_area": null,
      "grid_auto_columns": null,
      "grid_auto_flow": null,
      "grid_auto_rows": null,
      "grid_column": null,
      "grid_gap": null,
      "grid_row": null,
      "grid_template_areas": null,
      "grid_template_columns": null,
      "grid_template_rows": null,
      "height": null,
      "justify_content": null,
      "justify_items": null,
      "left": null,
      "margin": null,
      "max_height": null,
      "max_width": null,
      "min_height": null,
      "min_width": null,
      "object_fit": null,
      "object_position": null,
      "order": null,
      "overflow": null,
      "overflow_x": null,
      "overflow_y": null,
      "padding": null,
      "right": null,
      "top": null,
      "visibility": null,
      "width": null
     }
    },
    "7d4ed02bd8354c1ab8929636b14fd2f7": {
     "model_module": "@jupyter-widgets/controls",
     "model_module_version": "1.5.0",
     "model_name": "HTMLModel",
     "state": {
      "_dom_classes": [],
      "_model_module": "@jupyter-widgets/controls",
      "_model_module_version": "1.5.0",
      "_model_name": "HTMLModel",
      "_view_count": null,
      "_view_module": "@jupyter-widgets/controls",
      "_view_module_version": "1.5.0",
      "_view_name": "HTMLView",
      "description": "",
      "description_tooltip": null,
      "layout": "IPY_MODEL_3134ad412e814027bc0f65123d5991cd",
      "placeholder": "​",
      "style": "IPY_MODEL_c81d8e3a395d4d9d81d5875fc3c880f8",
      "value": ""
     }
    },
    "7f95b1d688b0483da982a389ee38b63b": {
     "model_module": "@jupyter-widgets/base",
     "model_module_version": "1.2.0",
     "model_name": "LayoutModel",
     "state": {
      "_model_module": "@jupyter-widgets/base",
      "_model_module_version": "1.2.0",
      "_model_name": "LayoutModel",
      "_view_count": null,
      "_view_module": "@jupyter-widgets/base",
      "_view_module_version": "1.2.0",
      "_view_name": "LayoutView",
      "align_content": null,
      "align_items": null,
      "align_self": null,
      "border": null,
      "bottom": null,
      "display": null,
      "flex": null,
      "flex_flow": null,
      "grid_area": null,
      "grid_auto_columns": null,
      "grid_auto_flow": null,
      "grid_auto_rows": null,
      "grid_column": null,
      "grid_gap": null,
      "grid_row": null,
      "grid_template_areas": null,
      "grid_template_columns": null,
      "grid_template_rows": null,
      "height": null,
      "justify_content": null,
      "justify_items": null,
      "left": null,
      "margin": null,
      "max_height": null,
      "max_width": null,
      "min_height": null,
      "min_width": null,
      "object_fit": null,
      "object_position": null,
      "order": null,
      "overflow": null,
      "overflow_x": null,
      "overflow_y": null,
      "padding": null,
      "right": null,
      "top": null,
      "visibility": null,
      "width": null
     }
    },
    "82bbdf0a05034855ab6a0c9e0eb33ede": {
     "model_module": "@jupyter-widgets/base",
     "model_module_version": "1.2.0",
     "model_name": "LayoutModel",
     "state": {
      "_model_module": "@jupyter-widgets/base",
      "_model_module_version": "1.2.0",
      "_model_name": "LayoutModel",
      "_view_count": null,
      "_view_module": "@jupyter-widgets/base",
      "_view_module_version": "1.2.0",
      "_view_name": "LayoutView",
      "align_content": null,
      "align_items": null,
      "align_self": null,
      "border": null,
      "bottom": null,
      "display": null,
      "flex": null,
      "flex_flow": null,
      "grid_area": null,
      "grid_auto_columns": null,
      "grid_auto_flow": null,
      "grid_auto_rows": null,
      "grid_column": null,
      "grid_gap": null,
      "grid_row": null,
      "grid_template_areas": null,
      "grid_template_columns": null,
      "grid_template_rows": null,
      "height": null,
      "justify_content": null,
      "justify_items": null,
      "left": null,
      "margin": null,
      "max_height": null,
      "max_width": null,
      "min_height": null,
      "min_width": null,
      "object_fit": null,
      "object_position": null,
      "order": null,
      "overflow": null,
      "overflow_x": null,
      "overflow_y": null,
      "padding": null,
      "right": null,
      "top": null,
      "visibility": null,
      "width": null
     }
    },
    "93fc1b6a978241b1809ba489fbd15b3e": {
     "model_module": "@jupyter-widgets/controls",
     "model_module_version": "1.5.0",
     "model_name": "HTMLModel",
     "state": {
      "_dom_classes": [],
      "_model_module": "@jupyter-widgets/controls",
      "_model_module_version": "1.5.0",
      "_model_name": "HTMLModel",
      "_view_count": null,
      "_view_module": "@jupyter-widgets/controls",
      "_view_module_version": "1.5.0",
      "_view_name": "HTMLView",
      "description": "",
      "description_tooltip": null,
      "layout": "IPY_MODEL_4825fd3dfbb54c76acf4b9c58013667c",
      "placeholder": "​",
      "style": "IPY_MODEL_ec427039461049199c9cf0a66d2a7944",
      "value": ""
     }
    },
    "9926d6deac574db9a6972a2f16b3917b": {
     "model_module": "@jupyter-widgets/controls",
     "model_module_version": "1.5.0",
     "model_name": "FloatProgressModel",
     "state": {
      "_dom_classes": [],
      "_model_module": "@jupyter-widgets/controls",
      "_model_module_version": "1.5.0",
      "_model_name": "FloatProgressModel",
      "_view_count": null,
      "_view_module": "@jupyter-widgets/controls",
      "_view_module_version": "1.5.0",
      "_view_name": "ProgressView",
      "bar_style": "info",
      "description": "",
      "description_tooltip": null,
      "layout": "IPY_MODEL_417b28c8da5246faa6b208dd4cab4117",
      "max": 1,
      "min": 0,
      "orientation": "horizontal",
      "style": "IPY_MODEL_73a7b173656946e4810a60a9309f726f",
      "value": 1
     }
    },
    "a8b5a5ba9a204f86907abdb434b5fd14": {
     "model_module": "@jupyter-widgets/controls",
     "model_module_version": "1.5.0",
     "model_name": "HBoxModel",
     "state": {
      "_dom_classes": [],
      "_model_module": "@jupyter-widgets/controls",
      "_model_module_version": "1.5.0",
      "_model_name": "HBoxModel",
      "_view_count": null,
      "_view_module": "@jupyter-widgets/controls",
      "_view_module_version": "1.5.0",
      "_view_name": "HBoxView",
      "box_style": "",
      "children": [
       "IPY_MODEL_aa24114d12f54e3d94ee15f0efb91abf",
       "IPY_MODEL_402a19da6e0c4aad870c3ee90a5d2116",
       "IPY_MODEL_ab3e4a0406c54913bfa52076968d1b10"
      ],
      "layout": "IPY_MODEL_bc5b80acd28a40598138e4c9c402b0f8"
     }
    },
    "aa24114d12f54e3d94ee15f0efb91abf": {
     "model_module": "@jupyter-widgets/controls",
     "model_module_version": "1.5.0",
     "model_name": "HTMLModel",
     "state": {
      "_dom_classes": [],
      "_model_module": "@jupyter-widgets/controls",
      "_model_module_version": "1.5.0",
      "_model_name": "HTMLModel",
      "_view_count": null,
      "_view_module": "@jupyter-widgets/controls",
      "_view_module_version": "1.5.0",
      "_view_name": "HTMLView",
      "description": "",
      "description_tooltip": null,
      "layout": "IPY_MODEL_f4f07c3792cc48aeb92b29512572c5bc",
      "placeholder": "​",
      "style": "IPY_MODEL_e8dc22b84d9b4876a27eb08888f0e9d6",
      "value": "Downloading: "
     }
    },
    "ab3e4a0406c54913bfa52076968d1b10": {
     "model_module": "@jupyter-widgets/controls",
     "model_module_version": "1.5.0",
     "model_name": "HTMLModel",
     "state": {
      "_dom_classes": [],
      "_model_module": "@jupyter-widgets/controls",
      "_model_module_version": "1.5.0",
      "_model_name": "HTMLModel",
      "_view_count": null,
      "_view_module": "@jupyter-widgets/controls",
      "_view_module_version": "1.5.0",
      "_view_name": "HTMLView",
      "description": "",
      "description_tooltip": null,
      "layout": "IPY_MODEL_3c96e36c79764dcca9fd005b275a882b",
      "placeholder": "​",
      "style": "IPY_MODEL_76dd9c6c7c7a44e29993f8560b3e487b",
      "value": " 2.17k/? [00:00&lt;00:00, 52.5kB/s]"
     }
    },
    "afa44f20407348419c55367b2a78fa66": {
     "model_module": "@jupyter-widgets/controls",
     "model_module_version": "1.5.0",
     "model_name": "HTMLModel",
     "state": {
      "_dom_classes": [],
      "_model_module": "@jupyter-widgets/controls",
      "_model_module_version": "1.5.0",
      "_model_name": "HTMLModel",
      "_view_count": null,
      "_view_module": "@jupyter-widgets/controls",
      "_view_module_version": "1.5.0",
      "_view_name": "HTMLView",
      "description": "",
      "description_tooltip": null,
      "layout": "IPY_MODEL_ce7d207ab46e4a639d4046a7b92032e1",
      "placeholder": "​",
      "style": "IPY_MODEL_e33df081c2aa476ab3b134572b80b0e7",
      "value": " 24771/0 [00:02&lt;00:00, 8646.61 examples/s]"
     }
    },
    "b3b93831bc1644cbb7197cda8d935868": {
     "model_module": "@jupyter-widgets/controls",
     "model_module_version": "1.5.0",
     "model_name": "HTMLModel",
     "state": {
      "_dom_classes": [],
      "_model_module": "@jupyter-widgets/controls",
      "_model_module_version": "1.5.0",
      "_model_name": "HTMLModel",
      "_view_count": null,
      "_view_module": "@jupyter-widgets/controls",
      "_view_module_version": "1.5.0",
      "_view_name": "HTMLView",
      "description": "",
      "description_tooltip": null,
      "layout": "IPY_MODEL_6192e77a79a04731903d27d428085bc1",
      "placeholder": "​",
      "style": "IPY_MODEL_3d11f45da8a2429f934f0f0ad9ebb222",
      "value": "Downloading: 100%"
     }
    },
    "b8dd5b1416ac48a79a0214a75f6728db": {
     "model_module": "@jupyter-widgets/controls",
     "model_module_version": "1.5.0",
     "model_name": "DescriptionStyleModel",
     "state": {
      "_model_module": "@jupyter-widgets/controls",
      "_model_module_version": "1.5.0",
      "_model_name": "DescriptionStyleModel",
      "_view_count": null,
      "_view_module": "@jupyter-widgets/base",
      "_view_module_version": "1.2.0",
      "_view_name": "StyleView",
      "description_width": ""
     }
    },
    "b9ce640947bf404b8252d097f57ce781": {
     "model_module": "@jupyter-widgets/base",
     "model_module_version": "1.2.0",
     "model_name": "LayoutModel",
     "state": {
      "_model_module": "@jupyter-widgets/base",
      "_model_module_version": "1.2.0",
      "_model_name": "LayoutModel",
      "_view_count": null,
      "_view_module": "@jupyter-widgets/base",
      "_view_module_version": "1.2.0",
      "_view_name": "LayoutView",
      "align_content": null,
      "align_items": null,
      "align_self": null,
      "border": null,
      "bottom": null,
      "display": null,
      "flex": null,
      "flex_flow": null,
      "grid_area": null,
      "grid_auto_columns": null,
      "grid_auto_flow": null,
      "grid_auto_rows": null,
      "grid_column": null,
      "grid_gap": null,
      "grid_row": null,
      "grid_template_areas": null,
      "grid_template_columns": null,
      "grid_template_rows": null,
      "height": null,
      "justify_content": null,
      "justify_items": null,
      "left": null,
      "margin": null,
      "max_height": null,
      "max_width": null,
      "min_height": null,
      "min_width": null,
      "object_fit": null,
      "object_position": null,
      "order": null,
      "overflow": null,
      "overflow_x": null,
      "overflow_y": null,
      "padding": null,
      "right": null,
      "top": null,
      "visibility": null,
      "width": null
     }
    },
    "bb1e823af26e438f9f9276eb8ab86f8e": {
     "model_module": "@jupyter-widgets/controls",
     "model_module_version": "1.5.0",
     "model_name": "FloatProgressModel",
     "state": {
      "_dom_classes": [],
      "_model_module": "@jupyter-widgets/controls",
      "_model_module_version": "1.5.0",
      "_model_name": "FloatProgressModel",
      "_view_count": null,
      "_view_module": "@jupyter-widgets/controls",
      "_view_module_version": "1.5.0",
      "_view_name": "ProgressView",
      "bar_style": "info",
      "description": "",
      "description_tooltip": null,
      "layout": "IPY_MODEL_13d4add67560429595a1ca1409afbf72",
      "max": 1,
      "min": 0,
      "orientation": "horizontal",
      "style": "IPY_MODEL_733dbeb792f2487db2e5dd0c2934a54b",
      "value": 1
     }
    },
    "bc5b80acd28a40598138e4c9c402b0f8": {
     "model_module": "@jupyter-widgets/base",
     "model_module_version": "1.2.0",
     "model_name": "LayoutModel",
     "state": {
      "_model_module": "@jupyter-widgets/base",
      "_model_module_version": "1.2.0",
      "_model_name": "LayoutModel",
      "_view_count": null,
      "_view_module": "@jupyter-widgets/base",
      "_view_module_version": "1.2.0",
      "_view_name": "LayoutView",
      "align_content": null,
      "align_items": null,
      "align_self": null,
      "border": null,
      "bottom": null,
      "display": null,
      "flex": null,
      "flex_flow": null,
      "grid_area": null,
      "grid_auto_columns": null,
      "grid_auto_flow": null,
      "grid_auto_rows": null,
      "grid_column": null,
      "grid_gap": null,
      "grid_row": null,
      "grid_template_areas": null,
      "grid_template_columns": null,
      "grid_template_rows": null,
      "height": null,
      "justify_content": null,
      "justify_items": null,
      "left": null,
      "margin": null,
      "max_height": null,
      "max_width": null,
      "min_height": null,
      "min_width": null,
      "object_fit": null,
      "object_position": null,
      "order": null,
      "overflow": null,
      "overflow_x": null,
      "overflow_y": null,
      "padding": null,
      "right": null,
      "top": null,
      "visibility": null,
      "width": null
     }
    },
    "bedda1cdef4a4e04b34cafe781b05aa5": {
     "model_module": "@jupyter-widgets/controls",
     "model_module_version": "1.5.0",
     "model_name": "ProgressStyleModel",
     "state": {
      "_model_module": "@jupyter-widgets/controls",
      "_model_module_version": "1.5.0",
      "_model_name": "ProgressStyleModel",
      "_view_count": null,
      "_view_module": "@jupyter-widgets/base",
      "_view_module_version": "1.2.0",
      "_view_name": "StyleView",
      "bar_color": null,
      "description_width": ""
     }
    },
    "bf0508b2764a4bd4baa4295b824bd275": {
     "model_module": "@jupyter-widgets/base",
     "model_module_version": "1.2.0",
     "model_name": "LayoutModel",
     "state": {
      "_model_module": "@jupyter-widgets/base",
      "_model_module_version": "1.2.0",
      "_model_name": "LayoutModel",
      "_view_count": null,
      "_view_module": "@jupyter-widgets/base",
      "_view_module_version": "1.2.0",
      "_view_name": "LayoutView",
      "align_content": null,
      "align_items": null,
      "align_self": null,
      "border": null,
      "bottom": null,
      "display": null,
      "flex": null,
      "flex_flow": null,
      "grid_area": null,
      "grid_auto_columns": null,
      "grid_auto_flow": null,
      "grid_auto_rows": null,
      "grid_column": null,
      "grid_gap": null,
      "grid_row": null,
      "grid_template_areas": null,
      "grid_template_columns": null,
      "grid_template_rows": null,
      "height": null,
      "justify_content": null,
      "justify_items": null,
      "left": null,
      "margin": null,
      "max_height": null,
      "max_width": null,
      "min_height": null,
      "min_width": null,
      "object_fit": null,
      "object_position": null,
      "order": null,
      "overflow": null,
      "overflow_x": null,
      "overflow_y": null,
      "padding": null,
      "right": null,
      "top": null,
      "visibility": null,
      "width": null
     }
    },
    "bf1bcb99fbaa455ca4418cdd3e6c51e2": {
     "model_module": "@jupyter-widgets/controls",
     "model_module_version": "1.5.0",
     "model_name": "HTMLModel",
     "state": {
      "_dom_classes": [],
      "_model_module": "@jupyter-widgets/controls",
      "_model_module_version": "1.5.0",
      "_model_name": "HTMLModel",
      "_view_count": null,
      "_view_module": "@jupyter-widgets/controls",
      "_view_module_version": "1.5.0",
      "_view_name": "HTMLView",
      "description": "",
      "description_tooltip": null,
      "layout": "IPY_MODEL_279afee1ddb54edb943c92b0f2d6e797",
      "placeholder": "​",
      "style": "IPY_MODEL_776d80e7b9f84e0598659891a188b5b2",
      "value": "Downloading: "
     }
    },
    "c81d8e3a395d4d9d81d5875fc3c880f8": {
     "model_module": "@jupyter-widgets/controls",
     "model_module_version": "1.5.0",
     "model_name": "DescriptionStyleModel",
     "state": {
      "_model_module": "@jupyter-widgets/controls",
      "_model_module_version": "1.5.0",
      "_model_name": "DescriptionStyleModel",
      "_view_count": null,
      "_view_module": "@jupyter-widgets/base",
      "_view_module_version": "1.2.0",
      "_view_name": "StyleView",
      "description_width": ""
     }
    },
    "c8bcd90ca6894dd5904d87985b568199": {
     "model_module": "@jupyter-widgets/controls",
     "model_module_version": "1.5.0",
     "model_name": "HTMLModel",
     "state": {
      "_dom_classes": [],
      "_model_module": "@jupyter-widgets/controls",
      "_model_module_version": "1.5.0",
      "_model_name": "HTMLModel",
      "_view_count": null,
      "_view_module": "@jupyter-widgets/controls",
      "_view_module_version": "1.5.0",
      "_view_name": "HTMLView",
      "description": "",
      "description_tooltip": null,
      "layout": "IPY_MODEL_069f5878be9d49018333194d47e07dad",
      "placeholder": "​",
      "style": "IPY_MODEL_53796dd8c9e54c5eb43d1416db26edbd",
      "value": ""
     }
    },
    "cb49bb9e0a7a4a9fad5c37da74c56dda": {
     "model_module": "@jupyter-widgets/controls",
     "model_module_version": "1.5.0",
     "model_name": "HTMLModel",
     "state": {
      "_dom_classes": [],
      "_model_module": "@jupyter-widgets/controls",
      "_model_module_version": "1.5.0",
      "_model_name": "HTMLModel",
      "_view_count": null,
      "_view_module": "@jupyter-widgets/controls",
      "_view_module_version": "1.5.0",
      "_view_name": "HTMLView",
      "description": "",
      "description_tooltip": null,
      "layout": "IPY_MODEL_2f19039e6bbe44c7a1cedd192b2124a1",
      "placeholder": "​",
      "style": "IPY_MODEL_333d179f3dfc46569d21326e330dec3c",
      "value": " 4.75k/? [00:00&lt;00:00, 92.5kB/s]"
     }
    },
    "ce7d207ab46e4a639d4046a7b92032e1": {
     "model_module": "@jupyter-widgets/base",
     "model_module_version": "1.2.0",
     "model_name": "LayoutModel",
     "state": {
      "_model_module": "@jupyter-widgets/base",
      "_model_module_version": "1.2.0",
      "_model_name": "LayoutModel",
      "_view_count": null,
      "_view_module": "@jupyter-widgets/base",
      "_view_module_version": "1.2.0",
      "_view_name": "LayoutView",
      "align_content": null,
      "align_items": null,
      "align_self": null,
      "border": null,
      "bottom": null,
      "display": null,
      "flex": null,
      "flex_flow": null,
      "grid_area": null,
      "grid_auto_columns": null,
      "grid_auto_flow": null,
      "grid_auto_rows": null,
      "grid_column": null,
      "grid_gap": null,
      "grid_row": null,
      "grid_template_areas": null,
      "grid_template_columns": null,
      "grid_template_rows": null,
      "height": null,
      "justify_content": null,
      "justify_items": null,
      "left": null,
      "margin": null,
      "max_height": null,
      "max_width": null,
      "min_height": null,
      "min_width": null,
      "object_fit": null,
      "object_position": null,
      "order": null,
      "overflow": null,
      "overflow_x": null,
      "overflow_y": null,
      "padding": null,
      "right": null,
      "top": null,
      "visibility": null,
      "width": null
     }
    },
    "cf4dd201044843d6a8820a85c7440487": {
     "model_module": "@jupyter-widgets/controls",
     "model_module_version": "1.5.0",
     "model_name": "HBoxModel",
     "state": {
      "_dom_classes": [],
      "_model_module": "@jupyter-widgets/controls",
      "_model_module_version": "1.5.0",
      "_model_name": "HBoxModel",
      "_view_count": null,
      "_view_module": "@jupyter-widgets/controls",
      "_view_module_version": "1.5.0",
      "_view_name": "HBoxView",
      "box_style": "",
      "children": [
       "IPY_MODEL_b3b93831bc1644cbb7197cda8d935868",
       "IPY_MODEL_5ce61529c85841cba20d86e22387e018",
       "IPY_MODEL_6554491a39b646a685df8e8191fb9db0"
      ],
      "layout": "IPY_MODEL_5bf08a12aaab4729abb85ac7e3d838a7"
     }
    },
    "cf9deb206d5345489d122974b61c7cdb": {
     "model_module": "@jupyter-widgets/controls",
     "model_module_version": "1.5.0",
     "model_name": "HBoxModel",
     "state": {
      "_dom_classes": [],
      "_model_module": "@jupyter-widgets/controls",
      "_model_module_version": "1.5.0",
      "_model_name": "HBoxModel",
      "_view_count": null,
      "_view_module": "@jupyter-widgets/controls",
      "_view_module_version": "1.5.0",
      "_view_name": "HBoxView",
      "box_style": "",
      "children": [
       "IPY_MODEL_c8bcd90ca6894dd5904d87985b568199",
       "IPY_MODEL_bb1e823af26e438f9f9276eb8ab86f8e",
       "IPY_MODEL_d2f7e881606e42db8241d2e111493a60"
      ],
      "layout": "IPY_MODEL_5c93e69589fb407a82dd91bbfea9373e"
     }
    },
    "d2bf319d2cf44a1498c0a2a1097e70aa": {
     "model_module": "@jupyter-widgets/controls",
     "model_module_version": "1.5.0",
     "model_name": "HBoxModel",
     "state": {
      "_dom_classes": [],
      "_model_module": "@jupyter-widgets/controls",
      "_model_module_version": "1.5.0",
      "_model_name": "HBoxModel",
      "_view_count": null,
      "_view_module": "@jupyter-widgets/controls",
      "_view_module_version": "1.5.0",
      "_view_name": "HBoxView",
      "box_style": "",
      "children": [
       "IPY_MODEL_bf1bcb99fbaa455ca4418cdd3e6c51e2",
       "IPY_MODEL_ea2c1f3ea0c74823b12f566fbbeaf92f",
       "IPY_MODEL_cb49bb9e0a7a4a9fad5c37da74c56dda"
      ],
      "layout": "IPY_MODEL_82bbdf0a05034855ab6a0c9e0eb33ede"
     }
    },
    "d2f7e881606e42db8241d2e111493a60": {
     "model_module": "@jupyter-widgets/controls",
     "model_module_version": "1.5.0",
     "model_name": "HTMLModel",
     "state": {
      "_dom_classes": [],
      "_model_module": "@jupyter-widgets/controls",
      "_model_module_version": "1.5.0",
      "_model_name": "HTMLModel",
      "_view_count": null,
      "_view_module": "@jupyter-widgets/controls",
      "_view_module_version": "1.5.0",
      "_view_name": "HTMLView",
      "description": "",
      "description_tooltip": null,
      "layout": "IPY_MODEL_7c1204dccb294ced9a388a1123a50590",
      "placeholder": "​",
      "style": "IPY_MODEL_b8dd5b1416ac48a79a0214a75f6728db",
      "value": " 49336/0 [00:05&lt;00:00, 10501.78 examples/s]"
     }
    },
    "d7ba32e6195c4a988411d5c67e1a618b": {
     "model_module": "@jupyter-widgets/controls",
     "model_module_version": "1.5.0",
     "model_name": "FloatProgressModel",
     "state": {
      "_dom_classes": [],
      "_model_module": "@jupyter-widgets/controls",
      "_model_module_version": "1.5.0",
      "_model_name": "FloatProgressModel",
      "_view_count": null,
      "_view_module": "@jupyter-widgets/controls",
      "_view_module_version": "1.5.0",
      "_view_name": "ProgressView",
      "bar_style": "info",
      "description": "",
      "description_tooltip": null,
      "layout": "IPY_MODEL_58a3e485d7bc4587bd23be15ded7c50a",
      "max": 1,
      "min": 0,
      "orientation": "horizontal",
      "style": "IPY_MODEL_bedda1cdef4a4e04b34cafe781b05aa5",
      "value": 1
     }
    },
    "db11e9ac4f6e46f895d55bd0cd1ac46f": {
     "model_module": "@jupyter-widgets/controls",
     "model_module_version": "1.5.0",
     "model_name": "ProgressStyleModel",
     "state": {
      "_model_module": "@jupyter-widgets/controls",
      "_model_module_version": "1.5.0",
      "_model_name": "ProgressStyleModel",
      "_view_count": null,
      "_view_module": "@jupyter-widgets/base",
      "_view_module_version": "1.2.0",
      "_view_name": "StyleView",
      "bar_color": null,
      "description_width": ""
     }
    },
    "e33df081c2aa476ab3b134572b80b0e7": {
     "model_module": "@jupyter-widgets/controls",
     "model_module_version": "1.5.0",
     "model_name": "DescriptionStyleModel",
     "state": {
      "_model_module": "@jupyter-widgets/controls",
      "_model_module_version": "1.5.0",
      "_model_name": "DescriptionStyleModel",
      "_view_count": null,
      "_view_module": "@jupyter-widgets/base",
      "_view_module_version": "1.2.0",
      "_view_name": "StyleView",
      "description_width": ""
     }
    },
    "e8dc22b84d9b4876a27eb08888f0e9d6": {
     "model_module": "@jupyter-widgets/controls",
     "model_module_version": "1.5.0",
     "model_name": "DescriptionStyleModel",
     "state": {
      "_model_module": "@jupyter-widgets/controls",
      "_model_module_version": "1.5.0",
      "_model_name": "DescriptionStyleModel",
      "_view_count": null,
      "_view_module": "@jupyter-widgets/base",
      "_view_module_version": "1.2.0",
      "_view_name": "StyleView",
      "description_width": ""
     }
    },
    "ea2c1f3ea0c74823b12f566fbbeaf92f": {
     "model_module": "@jupyter-widgets/controls",
     "model_module_version": "1.5.0",
     "model_name": "FloatProgressModel",
     "state": {
      "_dom_classes": [],
      "_model_module": "@jupyter-widgets/controls",
      "_model_module_version": "1.5.0",
      "_model_name": "FloatProgressModel",
      "_view_count": null,
      "_view_module": "@jupyter-widgets/controls",
      "_view_module_version": "1.5.0",
      "_view_name": "ProgressView",
      "bar_style": "success",
      "description": "",
      "description_tooltip": null,
      "layout": "IPY_MODEL_bf0508b2764a4bd4baa4295b824bd275",
      "max": 1916,
      "min": 0,
      "orientation": "horizontal",
      "style": "IPY_MODEL_2dd63be0bc2644eca4509e64e2f9f948",
      "value": 1916
     }
    },
    "ec427039461049199c9cf0a66d2a7944": {
     "model_module": "@jupyter-widgets/controls",
     "model_module_version": "1.5.0",
     "model_name": "DescriptionStyleModel",
     "state": {
      "_model_module": "@jupyter-widgets/controls",
      "_model_module_version": "1.5.0",
      "_model_name": "DescriptionStyleModel",
      "_view_count": null,
      "_view_module": "@jupyter-widgets/base",
      "_view_module_version": "1.2.0",
      "_view_name": "StyleView",
      "description_width": ""
     }
    },
    "f4f07c3792cc48aeb92b29512572c5bc": {
     "model_module": "@jupyter-widgets/base",
     "model_module_version": "1.2.0",
     "model_name": "LayoutModel",
     "state": {
      "_model_module": "@jupyter-widgets/base",
      "_model_module_version": "1.2.0",
      "_model_name": "LayoutModel",
      "_view_count": null,
      "_view_module": "@jupyter-widgets/base",
      "_view_module_version": "1.2.0",
      "_view_name": "LayoutView",
      "align_content": null,
      "align_items": null,
      "align_self": null,
      "border": null,
      "bottom": null,
      "display": null,
      "flex": null,
      "flex_flow": null,
      "grid_area": null,
      "grid_auto_columns": null,
      "grid_auto_flow": null,
      "grid_auto_rows": null,
      "grid_column": null,
      "grid_gap": null,
      "grid_row": null,
      "grid_template_areas": null,
      "grid_template_columns": null,
      "grid_template_rows": null,
      "height": null,
      "justify_content": null,
      "justify_items": null,
      "left": null,
      "margin": null,
      "max_height": null,
      "max_width": null,
      "min_height": null,
      "min_width": null,
      "object_fit": null,
      "object_position": null,
      "order": null,
      "overflow": null,
      "overflow_x": null,
      "overflow_y": null,
      "padding": null,
      "right": null,
      "top": null,
      "visibility": null,
      "width": null
     }
    },
    "f80c3c84e9794f469c2dedf85aa270a7": {
     "model_module": "@jupyter-widgets/controls",
     "model_module_version": "1.5.0",
     "model_name": "DescriptionStyleModel",
     "state": {
      "_model_module": "@jupyter-widgets/controls",
      "_model_module_version": "1.5.0",
      "_model_name": "DescriptionStyleModel",
      "_view_count": null,
      "_view_module": "@jupyter-widgets/base",
      "_view_module_version": "1.2.0",
      "_view_name": "StyleView",
      "description_width": ""
     }
    },
    "fad794bca1ea4af7a1eb775c63148a26": {
     "model_module": "@jupyter-widgets/controls",
     "model_module_version": "1.5.0",
     "model_name": "ProgressStyleModel",
     "state": {
      "_model_module": "@jupyter-widgets/controls",
      "_model_module_version": "1.5.0",
      "_model_name": "ProgressStyleModel",
      "_view_count": null,
      "_view_module": "@jupyter-widgets/base",
      "_view_module_version": "1.2.0",
      "_view_name": "StyleView",
      "bar_color": null,
      "description_width": ""
     }
    }
   }
  }
 },
 "nbformat": 4,
 "nbformat_minor": 1
}
